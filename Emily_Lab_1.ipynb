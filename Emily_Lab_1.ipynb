{
  "nbformat": 4,
  "nbformat_minor": 0,
  "metadata": {
    "colab": {
      "name": "Emily_Lab_1.ipynb",
      "provenance": [],
      "collapsed_sections": [],
      "include_colab_link": true
    },
    "kernelspec": {
      "name": "python3",
      "display_name": "Python 3"
    }
  },
  "cells": [
    {
      "cell_type": "markdown",
      "metadata": {
        "id": "view-in-github",
        "colab_type": "text"
      },
      "source": [
        "<a href=\"https://colab.research.google.com/github/hsuemily/CE888-2/blob/master/Emily_Lab_1.ipynb\" target=\"_parent\"><img src=\"https://colab.research.google.com/assets/colab-badge.svg\" alt=\"Open In Colab\"/></a>"
      ]
    },
    {
      "cell_type": "markdown",
      "metadata": {
        "id": "u9rBYuqkfFZi",
        "colab_type": "text"
      },
      "source": [
        "## Introduction to Numerical Computing with Numpy and Matplotlib\n",
        "\n",
        "### What is Matplotlib\n",
        "\n",
        "Matplotlib is a Python 2D plotting library which produces publication quality figures in a variety of hardcopy formats and interactive environments across platforms. Matplotlib can be used in Python scripts, the Python and IPython shells, the Jupyter notebook, web application servers, and four graphical user interface toolkits. Matplotlib tries to make easy things easy and hard things possible. You can generate plots, histograms, power spectra, bar charts, errorcharts, scatterplots, etc., with just a few lines of code.\n",
        "![Ref: Javatpoint ](https://static.javatpoint.com/tutorial/matplotlib/images/matplotlib-data-visualization2.png)\n",
        "For more infomration: [Matplotlib Webpage](https://matplotlib.org/)\n",
        "\n",
        "#### Malplotlib Object Model\n",
        "\n",
        "![alt text](https://matplotlib.org/_images/anatomy1.png)"
      ]
    },
    {
      "cell_type": "markdown",
      "metadata": {
        "id": "Q2EQMEEphhQv",
        "colab_type": "text"
      },
      "source": [
        "#### Matplotlib State's Machine\n",
        "Matplotlib behaves like a state machine. Any command is applied to the current plotting area. "
      ]
    },
    {
      "cell_type": "code",
      "metadata": {
        "id": "OECaZLqAe07m",
        "colab_type": "code",
        "colab": {}
      },
      "source": [
        "import matplotlib.pyplot as plt\n",
        "import numpy as np\n",
        "\n",
        "t = np.linspace(0, 2*np.pi, 50)\n",
        "x = np.sin(t)\n",
        "y = np.cos(t)"
      ],
      "execution_count": 0,
      "outputs": []
    },
    {
      "cell_type": "code",
      "metadata": {
        "id": "eo8NGcByiCrg",
        "colab_type": "code",
        "outputId": "ae7f9fa3-8eb4-4c90-e233-540df0fca36d",
        "colab": {
          "base_uri": "https://localhost:8080/",
          "height": 282
        }
      },
      "source": [
        "# Now create a figure\n",
        "plt.figure()\n",
        "# and plot x inside it\n",
        "plt.plot(x)"
      ],
      "execution_count": 0,
      "outputs": [
        {
          "output_type": "execute_result",
          "data": {
            "text/plain": [
              "[<matplotlib.lines.Line2D at 0x7f46944fc908>]"
            ]
          },
          "metadata": {
            "tags": []
          },
          "execution_count": 2
        },
        {
          "output_type": "display_data",
          "data": {
            "image/png": "[encoded data removed]",
            "text/plain": [
              "<Figure size 432x288 with 1 Axes>"
            ]
          },
          "metadata": {
            "tags": []
          }
        }
      ]
    },
    {
      "cell_type": "code",
      "metadata": {
        "id": "_zB4dMJLiNaw",
        "colab_type": "code",
        "outputId": "e9de5814-a0f8-45b4-e8bb-925b347f6000",
        "colab": {
          "base_uri": "https://localhost:8080/",
          "height": 298
        }
      },
      "source": [
        "# Now create a new figure\n",
        "plt.figure()\n",
        "# and plot y inside it...\n",
        "plt.plot(y)\n",
        "# Add a title\n",
        "plt.title(\"Cos\")"
      ],
      "execution_count": 0,
      "outputs": [
        {
          "output_type": "execute_result",
          "data": {
            "text/plain": [
              "Text(0.5, 1.0, 'Cos')"
            ]
          },
          "metadata": {
            "tags": []
          },
          "execution_count": 3
        },
        {
          "output_type": "display_data",
          "data": {
            "image/png": "[encoded data removed]",
            "text/plain": [
              "<Figure size 432x288 with 1 Axes>"
            ]
          },
          "metadata": {
            "tags": []
          }
        }
      ]
    },
    {
      "cell_type": "markdown",
      "metadata": {
        "id": "EIqiAerCilvv",
        "colab_type": "text"
      },
      "source": [
        "### Line Plot"
      ]
    },
    {
      "cell_type": "code",
      "metadata": {
        "id": "Ufz8Q830ijqy",
        "colab_type": "code",
        "outputId": "81e0e337-5b41-4f58-8522-7bcda24a89a2",
        "colab": {
          "base_uri": "https://localhost:8080/",
          "height": 282
        }
      },
      "source": [
        "x = np.linspace(0, 2*np.pi, 50)\n",
        "y1 = np.sin(x)\n",
        "y2 = np.sin(2*x)\n",
        "plt.figure() # Create figure\n",
        "plt.plot(y1)\n",
        "plt.plot(x, y1)\n",
        "\n",
        "# red dot-dash circle\n",
        "plt.plot(x, y1, 'r')\n",
        "\n",
        "# red marker only circle\n",
        "plt.plot(x, y1, 'r-o')\n",
        "\n",
        "# clear figure then plot 2 curves\n",
        "plt.clf()\n",
        "plt.plot(x, y1, 'g-o', x, y2, 'b-+')\n",
        "plt.legend(['sin(x)','sin(2x)'])\n",
        "\n",
        "\n"
      ],
      "execution_count": 0,
      "outputs": [
        {
          "output_type": "execute_result",
          "data": {
            "text/plain": [
              "<matplotlib.legend.Legend at 0x7f4693f1d0f0>"
            ]
          },
          "metadata": {
            "tags": []
          },
          "execution_count": 4
        },
        {
          "output_type": "display_data",
          "data": {
            "image/png": "[encoded data removed]",
            "text/plain": [
              "<Figure size 432x288 with 1 Axes>"
            ]
          },
          "metadata": {
            "tags": []
          }
        }
      ]
    },
    {
      "cell_type": "markdown",
      "metadata": {
        "id": "tEqnyiLnj-oX",
        "colab_type": "text"
      },
      "source": [
        "### Scatter Plot \n"
      ]
    },
    {
      "cell_type": "code",
      "metadata": {
        "id": "E4545t4pj8mo",
        "colab_type": "code",
        "outputId": "587c0911-1628-4304-88a4-92d9397d5ebe",
        "colab": {
          "base_uri": "https://localhost:8080/",
          "height": 298
        }
      },
      "source": [
        "N = 50 # no. of points\n",
        "x = np.linspace(0, 10, N)\n",
        "#print(x)\n",
        "from numpy.random import rand\n",
        "e = rand(N)*5.0 # noise\n",
        "y1 = x + e\n",
        "areas = rand(N)*300\n",
        "plt.scatter(x, y1, s=areas)\n",
        "colors = rand(N)\n",
        "plt.scatter(x, y1, s=areas,c=colors)\n",
        "plt.colorbar()\n",
        "plt.title(\"Random scatter\")\n"
      ],
      "execution_count": 0,
      "outputs": [
        {
          "output_type": "execute_result",
          "data": {
            "text/plain": [
              "Text(0.5, 1.0, 'Random scatter')"
            ]
          },
          "metadata": {
            "tags": []
          },
          "execution_count": 5
        },
        {
          "output_type": "display_data",
          "data": {
            "image/png": "[encoded data removed]",
            "text/plain": [
              "<Figure size 432x288 with 2 Axes>"
            ]
          },
          "metadata": {
            "tags": []
          }
        }
      ]
    },
    {
      "cell_type": "markdown",
      "metadata": {
        "id": "eYKeyHYglP_r",
        "colab_type": "text"
      },
      "source": [
        "### Image Plot: Correlation Plot"
      ]
    },
    {
      "cell_type": "code",
      "metadata": {
        "id": "7mhFfKMOlYb0",
        "colab_type": "code",
        "outputId": "87541c6d-d4ae-4337-a3da-8a9287dc4380",
        "colab": {
          "base_uri": "https://localhost:8080/",
          "height": 355
        }
      },
      "source": [
        "# Create some data\n",
        "e1 = rand(100)\n",
        "e2 = rand(100)*2\n",
        "e3 = rand(100)*50\n",
        "e4 = rand(100)*100\n",
        "corrmatrix = np.corrcoef([e1, e2, e3, e4])\n",
        "print(corrmatrix)\n",
        "# Plot corr matrix as image\n",
        "plt.imshow(corrmatrix, cmap='GnBu')\n",
        "plt.colorbar()"
      ],
      "execution_count": 0,
      "outputs": [
        {
          "output_type": "stream",
          "text": [
            "[[ 1.         -0.2760949   0.11411713 -0.14464614]\n",
            " [-0.2760949   1.          0.02593884 -0.15267573]\n",
            " [ 0.11411713  0.02593884  1.          0.07321457]\n",
            " [-0.14464614 -0.15267573  0.07321457  1.        ]]\n"
          ],
          "name": "stdout"
        },
        {
          "output_type": "execute_result",
          "data": {
            "text/plain": [
              "<matplotlib.colorbar.Colorbar at 0x7f4691648d68>"
            ]
          },
          "metadata": {
            "tags": []
          },
          "execution_count": 6
        },
        {
          "output_type": "display_data",
          "data": {
            "image/png": "[encoded data removed]",
            "text/plain": [
              "<Figure size 432x288 with 2 Axes>"
            ]
          },
          "metadata": {
            "tags": []
          }
        }
      ]
    },
    {
      "cell_type": "markdown",
      "metadata": {
        "id": "dRmo6yZWmkt_",
        "colab_type": "text"
      },
      "source": [
        "### Multiple plots using subplot"
      ]
    },
    {
      "cell_type": "code",
      "metadata": {
        "id": "Ahcz1LKUmvPr",
        "colab_type": "code",
        "outputId": "5ff5a89f-39d6-4925-9111-d35a2c55c10e",
        "colab": {
          "base_uri": "https://localhost:8080/",
          "height": 282
        }
      },
      "source": [
        "t = np.linspace(0, 2*np.pi)\n",
        "x = np.sin(t)\n",
        "y = np.cos(t)\n",
        "# To divide the plotting area\n",
        "plt.subplot(2, 1, 1)\n",
        "plt.plot(x)\n",
        "# Now activate a new plot\n",
        "# area.\n",
        "plt.subplot(2, 1, 2)\n",
        "plt.plot(y)"
      ],
      "execution_count": 0,
      "outputs": [
        {
          "output_type": "execute_result",
          "data": {
            "text/plain": [
              "[<matplotlib.lines.Line2D at 0x7f469157f400>]"
            ]
          },
          "metadata": {
            "tags": []
          },
          "execution_count": 7
        },
        {
          "output_type": "display_data",
          "data": {
            "image/png": "[encoded data removed]",
            "text/plain": [
              "<Figure size 432x288 with 2 Axes>"
            ]
          },
          "metadata": {
            "tags": []
          }
        }
      ]
    },
    {
      "cell_type": "markdown",
      "metadata": {
        "id": "36ev2RH0nMe2",
        "colab_type": "text"
      },
      "source": [
        "### Histogram plot"
      ]
    },
    {
      "cell_type": "code",
      "metadata": {
        "id": "lWJfHc4hnK9r",
        "colab_type": "code",
        "outputId": "94f9d404-076b-4794-d306-09cf403fe7a9",
        "colab": {
          "base_uri": "https://localhost:8080/",
          "height": 350
        }
      },
      "source": [
        "# Create array of data\n",
        "from numpy.random import randint\n",
        "data = randint(10000, size=(10,1000))\n",
        "# Approx norm distribution\n",
        "x = np.sum(data, axis=0)\n",
        "# Set up for stacked plots\n",
        "plt.subplot(2,1,1)\n",
        "plt.hist(x, color='r')\n",
        "# Plot cumulative dist\n",
        "plt.subplot(2,1,2)\n",
        "plt.hist(x, cumulative=True)"
      ],
      "execution_count": 0,
      "outputs": [
        {
          "output_type": "execute_result",
          "data": {
            "text/plain": [
              "(array([   7.,   48.,  122.,  298.,  527.,  768.,  913.,  972.,  994.,\n",
              "        1000.]),\n",
              " array([21860. , 27703.1, 33546.2, 39389.3, 45232.4, 51075.5, 56918.6,\n",
              "        62761.7, 68604.8, 74447.9, 80291. ]),\n",
              " <a list of 10 Patch objects>)"
            ]
          },
          "metadata": {
            "tags": []
          },
          "execution_count": 25
        },
        {
          "output_type": "display_data",
          "data": {
            "image/png": "[encoded data removed]",
            "text/plain": [
              "<Figure size 432x288 with 2 Axes>"
            ]
          },
          "metadata": {
            "tags": []
          }
        }
      ]
    },
    {
      "cell_type": "markdown",
      "metadata": {
        "id": "He7rHWDrn3GO",
        "colab_type": "text"
      },
      "source": [
        "### Legend, Title, and Label Axis"
      ]
    },
    {
      "cell_type": "code",
      "metadata": {
        "id": "Nnn50-1Ln9ef",
        "colab_type": "code",
        "outputId": "ce482cb7-7338-4ebd-8306-3ee0653428b0",
        "colab": {
          "base_uri": "https://localhost:8080/",
          "height": 282
        }
      },
      "source": [
        "# Add labels in plot command.\n",
        "plt.plot(np.sin(t), label='sin')\n",
        "plt.plot(np.cos(t), label='cos')\n",
        "plt.legend()"
      ],
      "execution_count": 0,
      "outputs": [
        {
          "output_type": "execute_result",
          "data": {
            "text/plain": [
              "<matplotlib.legend.Legend at 0x7f46914f23c8>"
            ]
          },
          "metadata": {
            "tags": []
          },
          "execution_count": 8
        },
        {
          "output_type": "display_data",
          "data": {
            "image/png": "[encoded data removed]",
            "text/plain": [
              "<Figure size 432x288 with 1 Axes>"
            ]
          },
          "metadata": {
            "tags": []
          }
        }
      ]
    },
    {
      "cell_type": "code",
      "metadata": {
        "id": "o2QXAZ4zoI9p",
        "colab_type": "code",
        "outputId": "8d52b16e-394b-47f0-8c27-9a144af87baf",
        "colab": {
          "base_uri": "https://localhost:8080/",
          "height": 312
        }
      },
      "source": [
        "plt.plot(t, np.sin(t))\n",
        "plt.xlabel('radians')\n",
        "# Keywords set text properties.\n",
        "plt.ylabel('amplitude',fontsize='large')\n",
        "plt.title('Sin(x)')"
      ],
      "execution_count": 0,
      "outputs": [
        {
          "output_type": "execute_result",
          "data": {
            "text/plain": [
              "Text(0.5, 1.0, 'Sin(x)')"
            ]
          },
          "metadata": {
            "tags": []
          },
          "execution_count": 9
        },
        {
          "output_type": "display_data",
          "data": {
            "image/png": "[encoded data removed]",
            "text/plain": [
              "<Figure size 432x288 with 1 Axes>"
            ]
          },
          "metadata": {
            "tags": []
          }
        }
      ]
    },
    {
      "cell_type": "markdown",
      "metadata": {
        "id": "yRdzCbrVojNI",
        "colab_type": "text"
      },
      "source": [
        "#### Other Visualization Libraries: \n",
        "\n",
        "**Seaborn**:  Better looking, high-level, plot-based on matplotlib [Seaborn](https://seaborn.pydata.org/)\n",
        "\n",
        "**Bokeh**: D3 like visulization in web browser [Bokeh](https://github.com/bokeh/bokeh)\n"
      ]
    },
    {
      "cell_type": "markdown",
      "metadata": {
        "id": "DZz7nrjeqBVb",
        "colab_type": "text"
      },
      "source": [
        "## NumPy Array\n",
        "\n",
        "Numpy is the core library for scientific computing in Python. It provides a high-performance multidimensional array object, and tools for working with these arrays. A numpy array is a grid of values, all of the same type, and is indexed by a tuple of nonnegative integers. The number of dimensions is the rank of the array; the shape of an array is a tuple of integers giving the size of the array along each dimension.\n",
        "\n",
        "The Python core library provided Lists. A list is the Python equivalent of an array, but is resizeable and can contain elements of different types.\n",
        "\n",
        "**Why NumPy array**?\n",
        "\n",
        "Size - Numpy data structures take up less space\n",
        "Performance - they have a need for speed and are faster than lists\n",
        "Functionality - SciPy and NumPy have optimized functions such as linear algebra operations built in.\n",
        "\n",
        "\n",
        "#### Introducing NumPy Array\n",
        "\n",
        "\n"
      ]
    },
    {
      "cell_type": "code",
      "metadata": {
        "id": "APvlYZXzwdbC",
        "colab_type": "code",
        "outputId": "d0a68dbf-ad5e-40ff-c6f5-e372604850cc",
        "colab": {
          "base_uri": "https://localhost:8080/",
          "height": 34
        }
      },
      "source": [
        "import numpy as np\n",
        "\n",
        "# Simple array creation\n",
        "a = np.array([0, 1, 2, 3, 4, 5])\n",
        "print(a)"
      ],
      "execution_count": 2,
      "outputs": [
        {
          "output_type": "stream",
          "text": [
            "[0 1 2 3 4 5]\n"
          ],
          "name": "stdout"
        }
      ]
    },
    {
      "cell_type": "code",
      "metadata": {
        "id": "nNo9IyREwnDR",
        "colab_type": "code",
        "outputId": "75ee8209-684b-47a7-bc29-46cf0cd86f0d",
        "colab": {
          "base_uri": "https://localhost:8080/",
          "height": 52
        }
      },
      "source": [
        "# Checking the type and type of elements\n",
        "print(type(a))\n",
        "print(a.dtype)"
      ],
      "execution_count": 0,
      "outputs": [
        {
          "output_type": "stream",
          "text": [
            "<class 'numpy.ndarray'>\n",
            "int64\n"
          ],
          "name": "stdout"
        }
      ]
    },
    {
      "cell_type": "code",
      "metadata": {
        "id": "V_uPUZC-xArO",
        "colab_type": "code",
        "outputId": "2fe8abe4-d948-4189-9621-88d4c2f80bff",
        "colab": {
          "base_uri": "https://localhost:8080/",
          "height": 52
        }
      },
      "source": [
        "# Check dimensions and shape\n",
        "print(a.ndim)\n",
        "print(a.shape)"
      ],
      "execution_count": 0,
      "outputs": [
        {
          "output_type": "stream",
          "text": [
            "1\n",
            "(6,)\n"
          ],
          "name": "stdout"
        }
      ]
    },
    {
      "cell_type": "code",
      "metadata": {
        "id": "glOQteJPxL1q",
        "colab_type": "code",
        "outputId": "884d38ce-20e3-486b-dcd3-824fe8104288",
        "colab": {
          "base_uri": "https://localhost:8080/",
          "height": 52
        }
      },
      "source": [
        "# Check Bytes per element and Bytes of memory use\n",
        "print(a.itemsize)\n",
        "print(a.nbytes)"
      ],
      "execution_count": 0,
      "outputs": [
        {
          "output_type": "stream",
          "text": [
            "8\n",
            "48\n"
          ],
          "name": "stdout"
        }
      ]
    },
    {
      "cell_type": "markdown",
      "metadata": {
        "id": "O7xzeIWdxy-9",
        "colab_type": "text"
      },
      "source": [
        "#### Array Operations"
      ]
    },
    {
      "cell_type": "code",
      "metadata": {
        "id": "N_aWdYftx1iL",
        "colab_type": "code",
        "outputId": "23dcab74-5cc6-43a8-ff84-404d3c995e9c",
        "colab": {
          "base_uri": "https://localhost:8080/",
          "height": 86
        }
      },
      "source": [
        "a = np.array([1, 2, 3, 4])\n",
        "b = np.array([2, 3, 4, 5])\n",
        "\n",
        "print(a*b)\n",
        "print(a**b)\n",
        "print(a+b)\n",
        "print(a/b)"
      ],
      "execution_count": 0,
      "outputs": [
        {
          "output_type": "stream",
          "text": [
            "[ 2  6 12 20]\n",
            "[   1    8   81 1024]\n",
            "[3 5 7 9]\n",
            "[0.5        0.66666667 0.75       0.8       ]\n"
          ],
          "name": "stdout"
        }
      ]
    },
    {
      "cell_type": "code",
      "metadata": {
        "id": "_uA3AT0RyjPv",
        "colab_type": "code",
        "outputId": "debb0053-7f44-4ba0-f76b-1cef0325a1ca",
        "colab": {
          "base_uri": "https://localhost:8080/",
          "height": 69
        }
      },
      "source": [
        "# Setting array elements\n",
        "print(a[0])\n",
        "a[0] = 10\n",
        "print(a[0])\n",
        "print(a)"
      ],
      "execution_count": 0,
      "outputs": [
        {
          "output_type": "stream",
          "text": [
            "1\n",
            "10\n",
            "[10  2  3  4]\n"
          ],
          "name": "stdout"
        }
      ]
    },
    {
      "cell_type": "code",
      "metadata": {
        "id": "a94VoeIny30D",
        "colab_type": "code",
        "outputId": "4fc334e1-ad5f-4339-b5cc-33a4b5e9beff",
        "colab": {
          "base_uri": "https://localhost:8080/",
          "height": 51
        }
      },
      "source": [
        "# Multi-dimensional array\n",
        "\n",
        "a = np.array([[ 0, 1, 2, 3],\n",
        "              [10,11,12,13]])\n",
        "print(a)"
      ],
      "execution_count": 0,
      "outputs": [
        {
          "output_type": "stream",
          "text": [
            "[[ 0  1  2  3]\n",
            " [10 11 12 13]]\n"
          ],
          "name": "stdout"
        }
      ]
    },
    {
      "cell_type": "code",
      "metadata": {
        "id": "lmCwIR1jy-1Q",
        "colab_type": "code",
        "outputId": "bf18cb2e-9470-49db-910a-043d643c8ac0",
        "colab": {
          "base_uri": "https://localhost:8080/",
          "height": 69
        }
      },
      "source": [
        "print(a.shape)\n",
        "print(a.size)\n",
        "print(a.ndim)"
      ],
      "execution_count": 0,
      "outputs": [
        {
          "output_type": "stream",
          "text": [
            "(4,)\n",
            "4\n",
            "1\n"
          ],
          "name": "stdout"
        }
      ]
    },
    {
      "cell_type": "code",
      "metadata": {
        "id": "a-xnWSjVzP0z",
        "colab_type": "code",
        "outputId": "d8d06c82-ca50-4ea7-ec47-96390514007c",
        "colab": {
          "base_uri": "https://localhost:8080/",
          "height": 201
        }
      },
      "source": [
        "# Get and set elements in Multi-dimensional array\n",
        "print(a[1, 3])\n",
        "a[1, 3] = -1\n",
        "print(a[1, 3])"
      ],
      "execution_count": 0,
      "outputs": [
        {
          "output_type": "error",
          "ename": "IndexError",
          "evalue": "ignored",
          "traceback": [
            "\u001b[0;31m---------------------------------------------------------------------------\u001b[0m",
            "\u001b[0;31mIndexError\u001b[0m                                Traceback (most recent call last)",
            "\u001b[0;32m<ipython-input-17-c9fe554fd39d>\u001b[0m in \u001b[0;36m<module>\u001b[0;34m()\u001b[0m\n\u001b[0;32m----> 1\u001b[0;31m \u001b[0mprint\u001b[0m\u001b[0;34m(\u001b[0m\u001b[0ma\u001b[0m\u001b[0;34m[\u001b[0m\u001b[0;36m1\u001b[0m\u001b[0;34m,\u001b[0m \u001b[0;36m3\u001b[0m\u001b[0;34m]\u001b[0m\u001b[0;34m)\u001b[0m\u001b[0;34m\u001b[0m\u001b[0;34m\u001b[0m\u001b[0m\n\u001b[0m\u001b[1;32m      2\u001b[0m \u001b[0ma\u001b[0m\u001b[0;34m[\u001b[0m\u001b[0;36m1\u001b[0m\u001b[0;34m,\u001b[0m \u001b[0;36m3\u001b[0m\u001b[0;34m]\u001b[0m \u001b[0;34m=\u001b[0m \u001b[0;34m-\u001b[0m\u001b[0;36m1\u001b[0m\u001b[0;34m\u001b[0m\u001b[0;34m\u001b[0m\u001b[0m\n\u001b[1;32m      3\u001b[0m \u001b[0mprint\u001b[0m\u001b[0;34m(\u001b[0m\u001b[0ma\u001b[0m\u001b[0;34m[\u001b[0m\u001b[0;36m1\u001b[0m\u001b[0;34m,\u001b[0m \u001b[0;36m3\u001b[0m\u001b[0;34m]\u001b[0m\u001b[0;34m)\u001b[0m\u001b[0;34m\u001b[0m\u001b[0;34m\u001b[0m\u001b[0m\n",
            "\u001b[0;31mIndexError\u001b[0m: too many indices for array"
          ]
        }
      ]
    },
    {
      "cell_type": "code",
      "metadata": {
        "id": "ICn13beyzhLW",
        "colab_type": "code",
        "outputId": "09a8411a-fad5-49bc-9ebf-172868bde983",
        "colab": {
          "base_uri": "https://localhost:8080/",
          "height": 34
        }
      },
      "source": [
        "print(a[1])"
      ],
      "execution_count": 0,
      "outputs": [
        {
          "output_type": "stream",
          "text": [
            "2\n"
          ],
          "name": "stdout"
        }
      ]
    },
    {
      "cell_type": "markdown",
      "metadata": {
        "id": "DMk5FPVD1CK0",
        "colab_type": "text"
      },
      "source": [
        "#### Slicing array\n",
        "\n",
        "![Slicing array](https://scipy-lectures.org/_images/numpy_indexing.png)"
      ]
    },
    {
      "cell_type": "code",
      "metadata": {
        "id": "s_F3padj1Pcp",
        "colab_type": "code",
        "outputId": "922da8ef-037a-4ceb-a866-53dae77be7cc",
        "colab": {
          "base_uri": "https://localhost:8080/",
          "height": 153
        }
      },
      "source": [
        "# Slicing array\n",
        "print(a)\n",
        "\n",
        "# print all row and 3rd column\n",
        "print(a[:,2])\n",
        "\n",
        "# print first row and all column \n",
        "print(a[0,:])\n",
        "\n",
        "# negative indices work also\n",
        "print(a)\n",
        "print(a[:,:-2])"
      ],
      "execution_count": 0,
      "outputs": [
        {
          "output_type": "stream",
          "text": [
            "[[ 0  1  2  3]\n",
            " [10 11 12 -1]]\n",
            "[ 2 12]\n",
            "[0 1 2 3]\n",
            "[[ 0  1  2  3]\n",
            " [10 11 12 -1]]\n",
            "[[ 0  1]\n",
            " [10 11]]\n"
          ],
          "name": "stdout"
        }
      ]
    },
    {
      "cell_type": "markdown",
      "metadata": {
        "id": "6X-TO_KR1mjo",
        "colab_type": "text"
      },
      "source": [
        "## Questions to be done during the lab:\n",
        "\n",
        "1. Create a (4 x 2) integer array and print it's attributes\n",
        "\n",
        "2. Create an array of dimension (1,10) and sort it in ascending and descending order\n",
        "\n",
        "3. Convert an 1D array [1 2 3 4 5 6 7 8 9] to 2D array [[1 2 3], [4 5 6], [7 8 9]]\n",
        "\n",
        "4. Stack two arrays of any size horizontally and vertically\n",
        "\n",
        "5. Create two array of same size and find commom elements\n",
        "\n",
        "6. Create a 2D array of 5 by 5 and find the min and max values from each row and each column\n",
        "\n",
        "7. Create an array of size 100 and  compute the mean, median, standard deviation. \n",
        "\n",
        "8. Normalize a 5x5 random matrix \n",
        "\n",
        "9. Consider an array of dimension (4,4,3), how to mulitply it by an array with dimensions (4,4)?\n",
        "\n"
      ]
    },
    {
      "cell_type": "code",
      "metadata": {
        "id": "sAwB1pXX7lsc",
        "colab_type": "code",
        "outputId": "359484fe-2477-4863-e9fa-39c09f7ba62a",
        "colab": {
          "base_uri": "https://localhost:8080/",
          "height": 86
        }
      },
      "source": [
        "# 1. Create a (4 x 2) integer array and print it's attributes\n",
        "a = np.ones((4, 2))\n",
        "a"
      ],
      "execution_count": 0,
      "outputs": [
        {
          "output_type": "execute_result",
          "data": {
            "text/plain": [
              "array([[1., 1.],\n",
              "       [1., 1.],\n",
              "       [1., 1.],\n",
              "       [1., 1.]])"
            ]
          },
          "metadata": {
            "tags": []
          },
          "execution_count": 21
        }
      ]
    },
    {
      "cell_type": "code",
      "metadata": {
        "id": "qNPTrjWz7vuA",
        "colab_type": "code",
        "outputId": "a9bf65f4-299d-4981-d9ce-9dbdb04bb923",
        "colab": {
          "base_uri": "https://localhost:8080/",
          "height": 52
        }
      },
      "source": [
        "# 2. Create an array of dimension (1,10) and sort it in ascending and descending order\n",
        "b = [3,1,2,5,8,7,4,9,6,7,10]\n",
        "b_order = np.sort(b) \n",
        "print ('ascending order:', b_order)  # Ref: https://jakevdp.github.io/PythonDataScienceHandbook/02.08-sorting.html\n",
        "print ('descending order:',b_order[::-1]) # Ref: https://discuss.codecademy.com/t/can-we-sort-numpy-arrays-in-reverse-order/357941"
      ],
      "execution_count": 0,
      "outputs": [
        {
          "output_type": "stream",
          "text": [
            "ascending order: [ 1  2  3  4  5  6  7  7  8  9 10]\n",
            "descending order: [10  9  8  7  7  6  5  4  3  2  1]\n"
          ],
          "name": "stdout"
        }
      ]
    },
    {
      "cell_type": "code",
      "metadata": {
        "id": "a5MAC3YS84bp",
        "colab_type": "code",
        "outputId": "9d8efd50-b76f-4310-87d9-6573203e734e",
        "colab": {
          "base_uri": "https://localhost:8080/",
          "height": 69
        }
      },
      "source": [
        "# 3. Convert an 1D array [1 2 3 4 5 6 7 8 9] to 2D array [[1 2 3], [4 5 6], [7 8 9]]\n",
        "# Ref: https://stackoverflow.com/questions/12575421/convert-a-1d-array-to-a-2d-array-in-numpy (139)\n",
        "c = np.array([1,2,3,4,5,6,7,8,9])\n",
        "d = np.reshape(c, (-1, 3))\n",
        "d"
      ],
      "execution_count": 0,
      "outputs": [
        {
          "output_type": "execute_result",
          "data": {
            "text/plain": [
              "array([[1, 2, 3],\n",
              "       [4, 5, 6],\n",
              "       [7, 8, 9]])"
            ]
          },
          "metadata": {
            "tags": []
          },
          "execution_count": 28
        }
      ]
    },
    {
      "cell_type": "code",
      "metadata": {
        "id": "Jdt6nNfF-2rM",
        "colab_type": "code",
        "outputId": "3574c720-4148-431f-89ab-b0497619b5bd",
        "colab": {
          "base_uri": "https://localhost:8080/",
          "height": 259
        }
      },
      "source": [
        "# 4. Stack two arrays of any size horizontally and vertically\n",
        "# Ref: https://docs.scipy.org/doc/numpy/reference/generated/numpy.stack.html\n",
        "a = np.array([[1,2,3,4],[4,5,6,8]])\n",
        "b = np.array([[5,6,7,8],[9,7,8,10]])\n",
        "print(np.stack((a, b)))\n",
        "print(np.stack((a, b), axis=-1))"
      ],
      "execution_count": 0,
      "outputs": [
        {
          "output_type": "stream",
          "text": [
            "[[[ 1  2  3  4]\n",
            "  [ 4  5  6  8]]\n",
            "\n",
            " [[ 5  6  7  8]\n",
            "  [ 9  7  8 10]]]\n",
            "[[[ 1  5]\n",
            "  [ 2  6]\n",
            "  [ 3  7]\n",
            "  [ 4  8]]\n",
            "\n",
            " [[ 4  9]\n",
            "  [ 5  7]\n",
            "  [ 6  8]\n",
            "  [ 8 10]]]\n"
          ],
          "name": "stdout"
        }
      ]
    },
    {
      "cell_type": "code",
      "metadata": {
        "id": "EI_MH2r5_ynl",
        "colab_type": "code",
        "outputId": "3220639c-5083-4093-f58e-954a14217f19",
        "colab": {
          "base_uri": "https://localhost:8080/",
          "height": 34
        }
      },
      "source": [
        "# 5. Create two array of same size and find commom elements\n",
        "# Ref: https://stackoverflow.com/questions/2864842/common-elements-comparison-between-2-lists (228)\n",
        "a = [1,2,4,5,8]\n",
        "b = [3,2,6,8,9]\n",
        "list(set(a).intersection(b))"
      ],
      "execution_count": 0,
      "outputs": [
        {
          "output_type": "execute_result",
          "data": {
            "text/plain": [
              "[8, 2]"
            ]
          },
          "metadata": {
            "tags": []
          },
          "execution_count": 34
        }
      ]
    },
    {
      "cell_type": "code",
      "metadata": {
        "id": "YsRn0lIOCpwP",
        "colab_type": "code",
        "colab": {
          "base_uri": "https://localhost:8080/",
          "height": 173
        },
        "outputId": "23f04b95-1514-4519-e010-4d674169ee77"
      },
      "source": [
        "# 6. Create a 2D array of 5 by 5 and find the min and max values from each row and each column\n",
        "a = np.random.randint(50, size=(5, 5)) # Ref:https://docs.scipy.org/doc/numpy-1.15.1/reference/generated/numpy.random.randint.html\n",
        "print(a)\n",
        "# Ref: https://jakevdp.github.io/PythonDataScienceHandbook/02.04-computation-on-arrays-aggregates.html\n",
        "print('The minimum value within each column:', a.min(axis=0))\n",
        "print('The minimum value within each row:',a.min(axis=-1))\n",
        "print('The maximum value within each column:', a.max(axis=0))\n",
        "print('The maximum value within each row:',a.max(axis=-1))"
      ],
      "execution_count": 7,
      "outputs": [
        {
          "output_type": "stream",
          "text": [
            "[[ 9 23 42 37  1]\n",
            " [32 37  5 25 18]\n",
            " [18 12  3 42 15]\n",
            " [20 31 13 33 36]\n",
            " [26 31 39  7 48]]\n",
            "The minimum value within each column: [ 9 12  3  7  1]\n",
            "The minimum value within each row: [ 1  5  3 13  7]\n",
            "The maximum value within each column: [32 37 42 42 48]\n",
            "The maximum value within each row: [42 37 42 36 48]\n"
          ],
          "name": "stdout"
        }
      ]
    },
    {
      "cell_type": "code",
      "metadata": {
        "id": "mG7vuVv2C6DS",
        "colab_type": "code",
        "colab": {
          "base_uri": "https://localhost:8080/",
          "height": 69
        },
        "outputId": "7d25d3b2-1fad-429a-8ce2-dd76e4b43f32"
      },
      "source": [
        "# 7. Create an array of size 100 and compute the mean, median, standard deviation.\n",
        "# Ref: https://docs.scipy.org/doc/numpy/reference/generated/numpy.std.html\n",
        "a = np.random.randint(200, size=(1, 100))\n",
        "print('The mean: ',np.mean(a))\n",
        "print('The median: ',np.median(a))\n",
        "print('The standard deviation: ',np.std(a))"
      ],
      "execution_count": 18,
      "outputs": [
        {
          "output_type": "stream",
          "text": [
            "The mean:  93.54\n",
            "The median:  95.5\n",
            "The standard deviation:  60.03805792994974\n"
          ],
          "name": "stdout"
        }
      ]
    },
    {
      "cell_type": "code",
      "metadata": {
        "id": "rfCnAXvhDQiA",
        "colab_type": "code",
        "colab": {
          "base_uri": "https://localhost:8080/",
          "height": 224
        },
        "outputId": "684dac33-4cd4-4935-9de6-6178b4acdeec"
      },
      "source": [
        "# 8. Normalize a 5x5 random matrix\n",
        "# Ref: https://www.w3resource.com/python-exercises/numpy/python-numpy-random-exercise-7.php\n",
        "a = np.random.randint(50, size=(5, 5))\n",
        "print(\"Original Array:\")\n",
        "print(a)\n",
        "amax, amin = a.max(), a.min()\n",
        "a = (a - amin)/(amax - amin)\n",
        "print(\"After normalization:\")\n",
        "print(a)"
      ],
      "execution_count": 19,
      "outputs": [
        {
          "output_type": "stream",
          "text": [
            "Original Array:\n",
            "[[ 2 26 34 18 38]\n",
            " [ 2 35  3 27 46]\n",
            " [ 7 46 14 31 23]\n",
            " [ 8 24 23 36 11]\n",
            " [12 40 35 41 42]]\n",
            "After normalization:\n",
            "[[0.         0.54545455 0.72727273 0.36363636 0.81818182]\n",
            " [0.         0.75       0.02272727 0.56818182 1.        ]\n",
            " [0.11363636 1.         0.27272727 0.65909091 0.47727273]\n",
            " [0.13636364 0.5        0.47727273 0.77272727 0.20454545]\n",
            " [0.22727273 0.86363636 0.75       0.88636364 0.90909091]]\n"
          ],
          "name": "stdout"
        }
      ]
    },
    {
      "cell_type": "code",
      "metadata": {
        "id": "o7TLPSasDSBe",
        "colab_type": "code",
        "colab": {
          "base_uri": "https://localhost:8080/",
          "height": 345
        },
        "outputId": "f3524bf6-9e4b-4b2c-f0b3-10a4e930d558"
      },
      "source": [
        "# 9. Consider an array of dimension (4,4,3), how to mulitply it by an array with dimensions (4,4)?\n",
        "# a = np.arange().reshape((3, 2))\n",
        "# b = np.arange(6).reshape((3, 2))\n",
        "a = np.random.randint(50, size=(4,4,3))\n",
        "b = np.random.randint(50, size=(4,4))\n",
        "print(a*b[:,:,None])"
      ],
      "execution_count": 32,
      "outputs": [
        {
          "output_type": "stream",
          "text": [
            "[[[ 180  120   56]\n",
            "  [1813    0  196]\n",
            "  [ 665   57  646]\n",
            "  [1232  616  264]]\n",
            "\n",
            " [[ 315 1260 1350]\n",
            "  [ 720  720   64]\n",
            "  [  35 1505  630]\n",
            "  [1748 1288  598]]\n",
            "\n",
            " [[1092  728 1316]\n",
            "  [1584  528   48]\n",
            "  [ 903   86  430]\n",
            "  [ 882 1274  294]]\n",
            "\n",
            " [[ 330   40    0]\n",
            "  [ 319  363  484]\n",
            "  [ 750 1200 1440]\n",
            "  [ 897  759  391]]]\n"
          ],
          "name": "stdout"
        }
      ]
    },
    {
      "cell_type": "code",
      "metadata": {
        "id": "0-UY334mOODO",
        "colab_type": "code",
        "colab": {}
      },
      "source": [
        ""
      ],
      "execution_count": 0,
      "outputs": []
    }
  ]
}