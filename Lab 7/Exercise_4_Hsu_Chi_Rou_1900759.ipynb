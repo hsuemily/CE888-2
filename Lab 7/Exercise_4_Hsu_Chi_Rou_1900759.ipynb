{
  "nbformat": 4,
  "nbformat_minor": 0,
  "metadata": {
    "kernelspec": {
      "name": "python3",
      "display_name": "Python 3"
    },
    "language_info": {
      "codemirror_mode": {
        "name": "ipython",
        "version": 3
      },
      "file_extension": ".py",
      "mimetype": "text/x-python",
      "name": "python",
      "nbconvert_exporter": "python",
      "pygments_lexer": "ipython3",
      "version": "3.6.9"
    },
    "colab": {
      "name": "Exercise_4_Hsu Chi-Rou_1900759.ipynb",
      "provenance": [],
      "collapsed_sections": [],
      "include_colab_link": true
    },
    "accelerator": "GPU"
  },
  "cells": [
    {
      "cell_type": "markdown",
      "metadata": {
        "id": "view-in-github",
        "colab_type": "text"
      },
      "source": [
        "<a href=\"https://colab.research.google.com/github/hsuemily/CE888_Hsu-Chi-Rou_1900759/blob/master/Lab%207/Exercise_4_Hsu_Chi_Rou_1900759.ipynb\" target=\"_parent\"><img src=\"https://colab.research.google.com/assets/colab-badge.svg\" alt=\"Open In Colab\"/></a>"
      ]
    },
    {
      "cell_type": "markdown",
      "metadata": {
        "id": "BRDWZWwy1CDj",
        "colab_type": "text"
      },
      "source": [
        "## Dataset: facial emotion recognition (CK+)\n",
        "https://www.kaggle.com/shawon10/ckplus"
      ]
    },
    {
      "cell_type": "code",
      "metadata": {
        "id": "oga4QHXAxaGd",
        "colab_type": "code",
        "colab": {}
      },
      "source": [
        "import os"
      ],
      "execution_count": 0,
      "outputs": []
    },
    {
      "cell_type": "code",
      "metadata": {
        "id": "SG8FroxYBfh8",
        "colab_type": "code",
        "outputId": "7257c906-94cd-4ddd-8737-eb339adb5ec3",
        "colab": {
          "base_uri": "https://localhost:8080/",
          "height": 35
        }
      },
      "source": [
        "# Load data\n",
        "# Colab library to upload files to notebook, Ref:https://medium.com/@saedhussain/google-colaboratory-and-kaggle-datasets-b57a83eb6ef8\n",
        "from google.colab import files\n",
        "\n",
        "# Install Kaggle library\n",
        "!pip install -q kaggle\n",
        "\n",
        "# Load data from Kaggle to Google Colab virtual machine\n",
        "os.environ['KAGGLE_USERNAME'] = \"emilyhsucr\" # username from the json file\n",
        "os.environ['KAGGLE_KEY'] = \"3b6aa5aa02b468c89e4cfac52a5d992e\" # key from the json file\n",
        "!kaggle datasets download -d shawon10/ckplus # api copied from kaggle"
      ],
      "execution_count": 0,
      "outputs": [
        {
          "output_type": "stream",
          "text": [
            "ckplus.zip: Skipping, found more recently modified local copy (use --force to force download)\n"
          ],
          "name": "stdout"
        }
      ]
    },
    {
      "cell_type": "code",
      "metadata": {
        "id": "FnMGdpdUkDt5",
        "colab_type": "code",
        "outputId": "fa8a6637-5989-4b42-f90b-bd5c5e78d4ae",
        "colab": {
          "base_uri": "https://localhost:8080/",
          "height": 35
        }
      },
      "source": [
        "!unzip -q \"ckplus.zip\""
      ],
      "execution_count": 0,
      "outputs": [
        {
          "output_type": "stream",
          "text": [
            "replace CK+48/anger/S010_004_00000017.png? [y]es, [n]o, [A]ll, [N]one, [r]ename: "
          ],
          "name": "stdout"
        }
      ]
    },
    {
      "cell_type": "markdown",
      "metadata": {
        "id": "fJq0sjNiBHbT",
        "colab_type": "text"
      },
      "source": [
        "## 1. Import required libries"
      ]
    },
    {
      "cell_type": "code",
      "metadata": {
        "id": "zJeYxgU2BHbU",
        "colab_type": "code",
        "colab": {}
      },
      "source": [
        "#--------new version----------------\n",
        "from __future__ import absolute_import, division, print_function, unicode_literals\n",
        "import tensorflow as tf\n",
        "from tensorflow.keras import datasets, layers, models\n",
        "import matplotlib.pyplot as plt\n",
        "import numpy as np # linear algebra\n",
        "import pandas as pd # data processing, CSV file I/O (e.g. pd.read_csv)\n",
        "import cv2\n",
        "from sklearn.model_selection import train_test_split\n",
        "from sklearn.utils import shuffle\n"
      ],
      "execution_count": 0,
      "outputs": []
    },
    {
      "cell_type": "markdown",
      "metadata": {
        "id": "yf4qD9ij1jit",
        "colab_type": "text"
      },
      "source": [
        "## 2. Data Pre-processing"
      ]
    },
    {
      "cell_type": "code",
      "metadata": {
        "id": "bO-QJpLftVoQ",
        "colab_type": "code",
        "outputId": "d9f66401-b300-46d8-abaa-ee8da963463f",
        "colab": {
          "base_uri": "https://localhost:8080/",
          "height": 283
        }
      },
      "source": [
        "# Ref :https://www.kaggle.com/shawon10/ck-facial-expression-detection\n",
        "\n",
        "data_path = '/content/ck/CK+48'\n",
        "data_dir_list = os.listdir(data_path)\n",
        "\n",
        "img_rows=256\n",
        "img_cols=256\n",
        "num_channel=1\n",
        "\n",
        "num_epoch=10\n",
        "\n",
        "img_data_list=[]\n",
        "\n",
        "\n",
        "for dataset in data_dir_list:\n",
        "    img_list=os.listdir(data_path+'/'+ dataset)\n",
        "    print ('Loaded the images of dataset-'+'{}\\n'.format(dataset))\n",
        "    for img in img_list:\n",
        "        input_img=cv2.imread(data_path + '/'+ dataset + '/'+ img )\n",
        "        #input_img=cv2.cvtColor(input_img, cv2.COLOR_BGR2GRAY)\n",
        "        input_img_resize=cv2.resize(input_img,(48,48))\n",
        "        img_data_list.append(input_img_resize)\n",
        "        \n",
        "img_data = np.array(img_data_list)\n",
        "img_data = img_data.astype('float32')\n",
        "img_data = img_data/255\n",
        "img_data.shape"
      ],
      "execution_count": 0,
      "outputs": [
        {
          "output_type": "stream",
          "text": [
            "Loaded the images of dataset-disgust\n",
            "\n",
            "Loaded the images of dataset-fear\n",
            "\n",
            "Loaded the images of dataset-sadness\n",
            "\n",
            "Loaded the images of dataset-surprise\n",
            "\n",
            "Loaded the images of dataset-contempt\n",
            "\n",
            "Loaded the images of dataset-anger\n",
            "\n",
            "Loaded the images of dataset-happy\n",
            "\n"
          ],
          "name": "stdout"
        },
        {
          "output_type": "execute_result",
          "data": {
            "text/plain": [
              "(981, 48, 48, 3)"
            ]
          },
          "metadata": {
            "tags": []
          },
          "execution_count": 31
        }
      ]
    },
    {
      "cell_type": "code",
      "metadata": {
        "id": "lKU39aZ0tjZ7",
        "colab_type": "code",
        "colab": {}
      },
      "source": [
        "num_classes = 7\n",
        "\n",
        "num_of_samples = img_data.shape[0]\n",
        "labels = np.ones((num_of_samples,),dtype='int64')\n",
        "\n",
        "labels[0:134]=0 #135\n",
        "labels[135:188]=1 #54\n",
        "labels[189:365]=2 #177\n",
        "labels[366:440]=3 #75\n",
        "labels[441:647]=4 #207\n",
        "labels[648:731]=5 #84\n",
        "labels[732:980]=6 #249\n",
        "\n",
        "names = ['anger','contempt','disgust','fear','happy','sadness','surprise']\n",
        "\n",
        "def getLabel(id):\n",
        "    return ['anger','contempt','disgust','fear','happy','sadness','surprise'][id]"
      ],
      "execution_count": 0,
      "outputs": []
    },
    {
      "cell_type": "markdown",
      "metadata": {
        "id": "w95AfoqGt8Ow",
        "colab_type": "text"
      },
      "source": [
        "## 3. Split the Data into Training and Testing Dataset"
      ]
    },
    {
      "cell_type": "code",
      "metadata": {
        "id": "X1Y__1DluDOf",
        "colab_type": "code",
        "colab": {}
      },
      "source": [
        "from keras.utils import np_utils\n",
        "Y = np_utils.to_categorical(labels, num_classes)\n",
        "\n",
        "#Shuffle the dataset\n",
        "x,y = shuffle(img_data,Y, random_state=2)\n",
        "# Split the dataset\n",
        "X_train, X_test, y_train, y_test = train_test_split(x, y, test_size=0.2, random_state=2014)\n",
        "x_test=X_test"
      ],
      "execution_count": 0,
      "outputs": []
    },
    {
      "cell_type": "markdown",
      "metadata": {
        "id": "d9_6zoGeBHcF",
        "colab_type": "text"
      },
      "source": [
        "## 4. Build the Network"
      ]
    },
    {
      "cell_type": "code",
      "metadata": {
        "id": "7P80O9PMBHcG",
        "colab_type": "code",
        "outputId": "b0a91068-5a40-4c00-95e3-cfd485eb7e7e",
        "colab": {
          "base_uri": "https://localhost:8080/",
          "height": 761
        }
      },
      "source": [
        "\n",
        "\n",
        "# # import package\n",
        "# import keras\n",
        "# from keras.datasets import cifar10\n",
        "# from keras.models import Sequential\n",
        "# from keras.layers import Dense, Dropout, Activation, Flatten, BatchNormalization\n",
        "# from keras.layers import Conv2D, MaxPooling2D, GlobalAveragePooling2D\n",
        "# import numpy as np\n",
        "\n",
        "from keras.models import Sequential\n",
        "from keras.layers import Dense , Activation , Dropout ,Flatten\n",
        "from keras.layers.convolutional import Conv2D\n",
        "from keras.layers.convolutional import MaxPooling2D\n",
        "from keras.metrics import categorical_accuracy\n",
        "from keras.models import model_from_json\n",
        "from keras.callbacks import ModelCheckpoint\n",
        "from keras.optimizers import *\n",
        "from keras.layers.normalization import BatchNormalization\n",
        "\n",
        "\n",
        "# the numder of class of photos\n",
        "num_classes = 7\n",
        "\n",
        "# define model structure.\n",
        "\n",
        "model = Sequential()\n",
        "input_shape = (48,48,3)\n",
        "    \n",
        "# 1st layer\n",
        "model.add(Conv2D(64, (5, 5), input_shape=input_shape,activation='relu', padding='same'))\n",
        "    \n",
        "# 2nd layer\n",
        "model.add(Conv2D(128, (5, 5), activation='relu', padding='same'))\n",
        "model.add(BatchNormalization())\n",
        "model.add(MaxPooling2D(pool_size=(2, 2)))\n",
        "    \n",
        "# 3rd layer\n",
        "model.add(Conv2D(256, (3, 3), activation='relu', padding='same'))\n",
        "model.add(BatchNormalization())\n",
        "model.add(MaxPooling2D(pool_size=(2, 2)))\n",
        "\n",
        "# 4th layer\n",
        "model.add(Conv2D(128, (3, 3), activation='relu', padding='same'))\n",
        "model.add(BatchNormalization())\n",
        "model.add(MaxPooling2D(pool_size=(2, 2)))\n",
        "    \n",
        "# 5th layer\n",
        "model.add(Flatten())\n",
        "model.add(Dense(64))\n",
        "model.add(BatchNormalization())\n",
        "model.add(Activation('relu'))\n",
        "model.add(Dropout(0.2))\n",
        "model.add(Dense(7))\n",
        "model.add(Activation('softmax'))\n",
        "\n",
        "model.summary()"
      ],
      "execution_count": 0,
      "outputs": [
        {
          "output_type": "stream",
          "text": [
            "Model: \"sequential_4\"\n",
            "_________________________________________________________________\n",
            "Layer (type)                 Output Shape              Param #   \n",
            "=================================================================\n",
            "conv2d_14 (Conv2D)           (None, 48, 48, 64)        4864      \n",
            "_________________________________________________________________\n",
            "conv2d_15 (Conv2D)           (None, 48, 48, 128)       204928    \n",
            "_________________________________________________________________\n",
            "batch_normalization_9 (Batch (None, 48, 48, 128)       512       \n",
            "_________________________________________________________________\n",
            "max_pooling2d_11 (MaxPooling (None, 24, 24, 128)       0         \n",
            "_________________________________________________________________\n",
            "conv2d_16 (Conv2D)           (None, 24, 24, 256)       295168    \n",
            "_________________________________________________________________\n",
            "batch_normalization_10 (Batc (None, 24, 24, 256)       1024      \n",
            "_________________________________________________________________\n",
            "max_pooling2d_12 (MaxPooling (None, 12, 12, 256)       0         \n",
            "_________________________________________________________________\n",
            "conv2d_17 (Conv2D)           (None, 12, 12, 128)       295040    \n",
            "_________________________________________________________________\n",
            "batch_normalization_11 (Batc (None, 12, 12, 128)       512       \n",
            "_________________________________________________________________\n",
            "max_pooling2d_13 (MaxPooling (None, 6, 6, 128)         0         \n",
            "_________________________________________________________________\n",
            "flatten_4 (Flatten)          (None, 4608)              0         \n",
            "_________________________________________________________________\n",
            "dense_7 (Dense)              (None, 64)                294976    \n",
            "_________________________________________________________________\n",
            "batch_normalization_12 (Batc (None, 64)                256       \n",
            "_________________________________________________________________\n",
            "activation_12 (Activation)   (None, 64)                0         \n",
            "_________________________________________________________________\n",
            "dropout_4 (Dropout)          (None, 64)                0         \n",
            "_________________________________________________________________\n",
            "dense_8 (Dense)              (None, 7)                 455       \n",
            "_________________________________________________________________\n",
            "activation_13 (Activation)   (None, 7)                 0         \n",
            "=================================================================\n",
            "Total params: 1,097,735\n",
            "Trainable params: 1,096,583\n",
            "Non-trainable params: 1,152\n",
            "_________________________________________________________________\n"
          ],
          "name": "stdout"
        }
      ]
    },
    {
      "cell_type": "code",
      "metadata": {
        "id": "tC-xRuzfBHcI",
        "colab_type": "code",
        "colab": {}
      },
      "source": [
        "from keras import optimizers\n",
        "model.compile(loss='binary_crossentropy', \n",
        "              optimizer=optimizers.RMSprop(lr=1e-4),\n",
        "              metrics=['acc'])"
      ],
      "execution_count": 0,
      "outputs": []
    },
    {
      "cell_type": "markdown",
      "metadata": {
        "id": "Fo0VExRJ2ay1",
        "colab_type": "text"
      },
      "source": [
        "## 5. Train the Model and Record"
      ]
    },
    {
      "cell_type": "code",
      "metadata": {
        "id": "WeaNzSlAxHEP",
        "colab_type": "code",
        "outputId": "0e1ecdd2-10d1-4b54-b5a6-416623903e2e",
        "colab": {
          "base_uri": "https://localhost:8080/",
          "height": 744
        }
      },
      "source": [
        "history =model.fit(x=X_train,     \n",
        "            y=y_train, \n",
        "            batch_size=64, \n",
        "            epochs=20, \n",
        "            verbose=1, \n",
        "            validation_data=(X_test,y_test),\n",
        "            shuffle=True,\n",
        "            callbacks=[\n",
        "                ModelCheckpoint(filepath=path_model),\n",
        "            ]\n",
        "            )"
      ],
      "execution_count": 0,
      "outputs": [
        {
          "output_type": "stream",
          "text": [
            "Train on 784 samples, validate on 197 samples\n",
            "Epoch 1/20\n",
            "784/784 [==============================] - 2s 2ms/step - loss: 0.3565 - acc: 0.8686 - val_loss: 0.3407 - val_acc: 0.8774\n",
            "Epoch 2/20\n",
            "784/784 [==============================] - 1s 788us/step - loss: 0.2429 - acc: 0.9052 - val_loss: 0.2943 - val_acc: 0.8811\n",
            "Epoch 3/20\n",
            "784/784 [==============================] - 1s 770us/step - loss: 0.1946 - acc: 0.9226 - val_loss: 0.2954 - val_acc: 0.8898\n",
            "Epoch 4/20\n",
            "784/784 [==============================] - 1s 784us/step - loss: 0.1750 - acc: 0.9326 - val_loss: 0.2684 - val_acc: 0.9007\n",
            "Epoch 5/20\n",
            "784/784 [==============================] - 1s 777us/step - loss: 0.1508 - acc: 0.9408 - val_loss: 0.2895 - val_acc: 0.8905\n",
            "Epoch 6/20\n",
            "784/784 [==============================] - 1s 780us/step - loss: 0.1464 - acc: 0.9446 - val_loss: 0.2573 - val_acc: 0.9014\n",
            "Epoch 7/20\n",
            "784/784 [==============================] - 1s 783us/step - loss: 0.1357 - acc: 0.9475 - val_loss: 0.2373 - val_acc: 0.9014\n",
            "Epoch 8/20\n",
            "784/784 [==============================] - 1s 779us/step - loss: 0.1244 - acc: 0.9523 - val_loss: 0.2695 - val_acc: 0.8934\n",
            "Epoch 9/20\n",
            "784/784 [==============================] - 1s 780us/step - loss: 0.1202 - acc: 0.9546 - val_loss: 0.2399 - val_acc: 0.9130\n",
            "Epoch 10/20\n",
            "784/784 [==============================] - 1s 777us/step - loss: 0.1122 - acc: 0.9590 - val_loss: 0.2193 - val_acc: 0.9246\n",
            "Epoch 11/20\n",
            "784/784 [==============================] - 1s 777us/step - loss: 0.1017 - acc: 0.9614 - val_loss: 0.2288 - val_acc: 0.9137\n",
            "Epoch 12/20\n",
            "784/784 [==============================] - 1s 782us/step - loss: 0.0998 - acc: 0.9630 - val_loss: 0.2294 - val_acc: 0.9130\n",
            "Epoch 13/20\n",
            "784/784 [==============================] - 1s 786us/step - loss: 0.0965 - acc: 0.9626 - val_loss: 0.2473 - val_acc: 0.9014\n",
            "Epoch 14/20\n",
            "784/784 [==============================] - 1s 795us/step - loss: 0.0960 - acc: 0.9637 - val_loss: 0.2409 - val_acc: 0.9057\n",
            "Epoch 15/20\n",
            "784/784 [==============================] - 1s 796us/step - loss: 0.0884 - acc: 0.9668 - val_loss: 0.2242 - val_acc: 0.9195\n",
            "Epoch 16/20\n",
            "784/784 [==============================] - 1s 781us/step - loss: 0.0803 - acc: 0.9712 - val_loss: 0.2358 - val_acc: 0.9173\n",
            "Epoch 17/20\n",
            "784/784 [==============================] - 1s 778us/step - loss: 0.0846 - acc: 0.9701 - val_loss: 0.2373 - val_acc: 0.9159\n",
            "Epoch 18/20\n",
            "784/784 [==============================] - 1s 786us/step - loss: 0.0752 - acc: 0.9719 - val_loss: 0.2242 - val_acc: 0.9210\n",
            "Epoch 19/20\n",
            "784/784 [==============================] - 1s 783us/step - loss: 0.0723 - acc: 0.9716 - val_loss: 0.2549 - val_acc: 0.9152\n",
            "Epoch 20/20\n",
            "784/784 [==============================] - 1s 802us/step - loss: 0.0739 - acc: 0.9719 - val_loss: 0.2408 - val_acc: 0.9065\n"
          ],
          "name": "stdout"
        }
      ]
    },
    {
      "cell_type": "markdown",
      "metadata": {
        "id": "cddp3bz62h7I",
        "colab_type": "text"
      },
      "source": [
        "## 6. Visualize the Result"
      ]
    },
    {
      "cell_type": "code",
      "metadata": {
        "id": "YFcvSpGaxp_d",
        "colab_type": "code",
        "outputId": "ef37b466-2782-4857-99c2-0c9605130902",
        "colab": {
          "base_uri": "https://localhost:8080/",
          "height": 444
        }
      },
      "source": [
        "''' Visualize the training/validation loss and training/validation accuracy'''\n",
        "from pylab import rcParams\n",
        "\n",
        "rcParams['figure.figsize'] = 10, 7\n",
        "\n",
        "loss = history.history.get('loss')\n",
        "val_loss = history.history.get('val_loss')\n",
        "\n",
        "acc = history.history.get('acc')\n",
        "val_acc = history.history.get('val_acc')\n",
        "    \n",
        "plt.figure(0)\n",
        "\n",
        "plt.subplot(121)\n",
        "\n",
        "plt.plot(range(len(loss)), loss, label='Training Loss')\n",
        "plt.plot(range(len(val_loss)), val_loss, label='Validation Loss')\n",
        "plt.legend(loc='upper left')\n",
        "plt.title('Loss')\n",
        "\n",
        "\n",
        "plt.subplot(122)\n",
        "plt.plot(range(len(acc)), acc, label='Training Accuracy')\n",
        "plt.plot(range(len(val_acc)), val_acc, label='Validation Accuracy')\n",
        "plt.legend(loc='upper left')\n",
        "plt.title('Accuracy')\n",
        "\n",
        "plt.show()"
      ],
      "execution_count": 0,
      "outputs": [
        {
          "output_type": "display_data",
          "data": {
            "image/png": "[encoded data removed]",
            "text/plain": [
              "<Figure size 720x504 with 2 Axes>"
            ]
          },
          "metadata": {
            "tags": []
          }
        }
      ]
    },
    {
      "cell_type": "code",
      "metadata": {
        "id": "68TXfSsY0iiK",
        "colab_type": "code",
        "colab": {}
      },
      "source": [
        ""
      ],
      "execution_count": 0,
      "outputs": []
    }
  ]
}