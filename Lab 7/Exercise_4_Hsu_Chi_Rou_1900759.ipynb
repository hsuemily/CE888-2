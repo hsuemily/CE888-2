{
  "nbformat": 4,
  "nbformat_minor": 0,
  "metadata": {
    "kernelspec": {
      "name": "python3",
      "display_name": "Python 3"
    },
    "language_info": {
      "codemirror_mode": {
        "name": "ipython",
        "version": 3
      },
      "file_extension": ".py",
      "mimetype": "text/x-python",
      "name": "python",
      "nbconvert_exporter": "python",
      "pygments_lexer": "ipython3",
      "version": "3.6.9"
    },
    "colab": {
      "name": "Copy of Exercise_4_Hsu Chi-Rou_1900759.ipynb",
      "provenance": [],
      "collapsed_sections": [],
      "include_colab_link": true
    },
    "accelerator": "GPU"
  },
  "cells": [
    {
      "cell_type": "markdown",
      "metadata": {
        "id": "view-in-github",
        "colab_type": "text"
      },
      "source": [
        "<a href=\"https://colab.research.google.com/github/hsuemily/CE888_Hsu-Chi-Rou_1900759/blob/master/Lab%207/Exercise_4_Hsu_Chi_Rou_1900759.ipynb\" target=\"_parent\"><img src=\"https://colab.research.google.com/assets/colab-badge.svg\" alt=\"Open In Colab\"/></a>"
      ]
    },
    {
      "cell_type": "markdown",
      "metadata": {
        "id": "BRDWZWwy1CDj",
        "colab_type": "text"
      },
      "source": [
        "## Dataset: facial emotion recognition (CK+)\n",
        "https://www.kaggle.com/shawon10/ckplus"
      ]
    },
    {
      "cell_type": "code",
      "metadata": {
        "id": "oga4QHXAxaGd",
        "colab_type": "code",
        "colab": {}
      },
      "source": [
        "import os"
      ],
      "execution_count": 0,
      "outputs": []
    },
    {
      "cell_type": "code",
      "metadata": {
        "id": "SG8FroxYBfh8",
        "colab_type": "code",
        "outputId": "fdc0ce5d-915f-4fc4-e4bf-871ec3bc7f8a",
        "colab": {
          "base_uri": "https://localhost:8080/",
          "height": 70
        }
      },
      "source": [
        "# Load data\n",
        "# Colab library to upload files to notebook, Ref:https://medium.com/@saedhussain/google-colaboratory-and-kaggle-datasets-b57a83eb6ef8\n",
        "from google.colab import files\n",
        "\n",
        "# Install Kaggle library\n",
        "!pip install -q kaggle\n",
        "\n",
        "# Load data from Kaggle to Google Colab virtual machine\n",
        "os.environ['KAGGLE_USERNAME'] = \"emilyhsucr\" # username from the json file\n",
        "os.environ['KAGGLE_KEY'] = \"3b6aa5aa02b468c89e4cfac52a5d992e\" # key from the json file\n",
        "!kaggle datasets download -d shawon10/ckplus # api copied from kaggle"
      ],
      "execution_count": 2,
      "outputs": [
        {
          "output_type": "stream",
          "text": [
            "Downloading ckplus.zip to /content\n",
            "\r  0% 0.00/3.63M [00:00<?, ?B/s]\n",
            "\r100% 3.63M/3.63M [00:00<00:00, 120MB/s]\n"
          ],
          "name": "stdout"
        }
      ]
    },
    {
      "cell_type": "code",
      "metadata": {
        "id": "FnMGdpdUkDt5",
        "colab_type": "code",
        "colab": {}
      },
      "source": [
        "!unzip -q \"ckplus.zip\""
      ],
      "execution_count": 0,
      "outputs": []
    },
    {
      "cell_type": "markdown",
      "metadata": {
        "id": "fJq0sjNiBHbT",
        "colab_type": "text"
      },
      "source": [
        "## 1. Import required libries"
      ]
    },
    {
      "cell_type": "code",
      "metadata": {
        "id": "zJeYxgU2BHbU",
        "colab_type": "code",
        "colab": {}
      },
      "source": [
        "#--------new version----------------\n",
        "from __future__ import absolute_import, division, print_function, unicode_literals\n",
        "import tensorflow as tf\n",
        "from tensorflow.keras import datasets, layers, models\n",
        "import matplotlib.pyplot as plt\n",
        "import numpy as np # linear algebra\n",
        "import pandas as pd # data processing, CSV file I/O (e.g. pd.read_csv)\n",
        "import cv2\n",
        "from sklearn.model_selection import train_test_split\n",
        "from sklearn.utils import shuffle\n"
      ],
      "execution_count": 0,
      "outputs": []
    },
    {
      "cell_type": "markdown",
      "metadata": {
        "id": "yf4qD9ij1jit",
        "colab_type": "text"
      },
      "source": [
        "## 2. Data Pre-processing"
      ]
    },
    {
      "cell_type": "code",
      "metadata": {
        "id": "bO-QJpLftVoQ",
        "colab_type": "code",
        "outputId": "7c87a317-f54b-4648-8a8d-30874648f2d0",
        "colab": {
          "base_uri": "https://localhost:8080/",
          "height": 283
        }
      },
      "source": [
        "# Ref :https://www.kaggle.com/shawon10/ck-facial-expression-detection\n",
        "\n",
        "data_path = '/content/ck/CK+48'\n",
        "data_dir_list = os.listdir(data_path)\n",
        "\n",
        "img_rows=256\n",
        "img_cols=256\n",
        "num_channel=1\n",
        "\n",
        "num_epoch=10\n",
        "\n",
        "img_data_list=[]\n",
        "\n",
        "\n",
        "for dataset in data_dir_list:\n",
        "    img_list=os.listdir(data_path+'/'+ dataset)\n",
        "    print ('Loaded the images of dataset-'+'{}\\n'.format(dataset))\n",
        "    for img in img_list:\n",
        "        input_img=cv2.imread(data_path + '/'+ dataset + '/'+ img )\n",
        "        #input_img=cv2.cvtColor(input_img, cv2.COLOR_BGR2GRAY)\n",
        "        input_img_resize=cv2.resize(input_img,(48,48))\n",
        "        img_data_list.append(input_img_resize)\n",
        "        \n",
        "img_data = np.array(img_data_list)\n",
        "img_data = img_data.astype('float32')\n",
        "img_data = img_data/255\n",
        "img_data.shape"
      ],
      "execution_count": 5,
      "outputs": [
        {
          "output_type": "stream",
          "text": [
            "Loaded the images of dataset-disgust\n",
            "\n",
            "Loaded the images of dataset-fear\n",
            "\n",
            "Loaded the images of dataset-sadness\n",
            "\n",
            "Loaded the images of dataset-surprise\n",
            "\n",
            "Loaded the images of dataset-contempt\n",
            "\n",
            "Loaded the images of dataset-anger\n",
            "\n",
            "Loaded the images of dataset-happy\n",
            "\n"
          ],
          "name": "stdout"
        },
        {
          "output_type": "execute_result",
          "data": {
            "text/plain": [
              "(981, 48, 48, 3)"
            ]
          },
          "metadata": {
            "tags": []
          },
          "execution_count": 5
        }
      ]
    },
    {
      "cell_type": "code",
      "metadata": {
        "id": "lKU39aZ0tjZ7",
        "colab_type": "code",
        "colab": {}
      },
      "source": [
        "num_classes = 7\n",
        "\n",
        "num_of_samples = img_data.shape[0]\n",
        "labels = np.ones((num_of_samples,),dtype='int64')\n",
        "\n",
        "labels[0:134]=0 #135\n",
        "labels[135:188]=1 #54\n",
        "labels[189:365]=2 #177\n",
        "labels[366:440]=3 #75\n",
        "labels[441:647]=4 #207\n",
        "labels[648:731]=5 #84\n",
        "labels[732:980]=6 #249\n",
        "\n",
        "names = ['anger','contempt','disgust','fear','happy','sadness','surprise']\n",
        "\n",
        "def getLabel(id):\n",
        "    return ['anger','contempt','disgust','fear','happy','sadness','surprise'][id]"
      ],
      "execution_count": 0,
      "outputs": []
    },
    {
      "cell_type": "markdown",
      "metadata": {
        "id": "w95AfoqGt8Ow",
        "colab_type": "text"
      },
      "source": [
        "## 3. Split the Data into Training and Testing Dataset"
      ]
    },
    {
      "cell_type": "code",
      "metadata": {
        "id": "X1Y__1DluDOf",
        "colab_type": "code",
        "colab": {
          "base_uri": "https://localhost:8080/",
          "height": 35
        },
        "outputId": "c7109e71-bdb3-49b7-a3fd-84c67f210ed4"
      },
      "source": [
        "from keras.utils import np_utils\n",
        "Y = np_utils.to_categorical(labels, num_classes)\n",
        "\n",
        "#Shuffle the dataset\n",
        "x,y = shuffle(img_data,Y, random_state=2)\n",
        "# Split the dataset\n",
        "X_train, X_test, y_train, y_test = train_test_split(x, y, test_size=0.2, random_state=2014)\n",
        "x_test=X_test"
      ],
      "execution_count": 7,
      "outputs": [
        {
          "output_type": "stream",
          "text": [
            "Using TensorFlow backend.\n"
          ],
          "name": "stderr"
        }
      ]
    },
    {
      "cell_type": "markdown",
      "metadata": {
        "id": "d9_6zoGeBHcF",
        "colab_type": "text"
      },
      "source": [
        "## 4. Build the Network"
      ]
    },
    {
      "cell_type": "code",
      "metadata": {
        "id": "7P80O9PMBHcG",
        "colab_type": "code",
        "outputId": "a0025f4e-b03b-4979-fa4e-26b7595c06f7",
        "colab": {
          "base_uri": "https://localhost:8080/",
          "height": 761
        }
      },
      "source": [
        "\n",
        "\n",
        "# # import package\n",
        "# import keras\n",
        "# from keras.datasets import cifar10\n",
        "# from keras.models import Sequential\n",
        "# from keras.layers import Dense, Dropout, Activation, Flatten, BatchNormalization\n",
        "# from keras.layers import Conv2D, MaxPooling2D, GlobalAveragePooling2D\n",
        "# import numpy as np\n",
        "\n",
        "from keras.models import Sequential\n",
        "from keras.layers import Dense , Activation , Dropout ,Flatten\n",
        "from keras.layers.convolutional import Conv2D\n",
        "from keras.layers.convolutional import MaxPooling2D\n",
        "from keras.metrics import categorical_accuracy\n",
        "from keras.models import model_from_json\n",
        "from keras.callbacks import ModelCheckpoint\n",
        "from keras.optimizers import *\n",
        "from keras.layers.normalization import BatchNormalization\n",
        "\n",
        "\n",
        "# the numder of class of photos\n",
        "num_classes = 7\n",
        "\n",
        "# define model structure.\n",
        "\n",
        "model = Sequential()\n",
        "input_shape = (48,48,3)\n",
        "    \n",
        "# 1st layer\n",
        "model.add(Conv2D(64, (5, 5), input_shape=input_shape,activation='relu', padding='same'))\n",
        "    \n",
        "# 2nd layer\n",
        "model.add(Conv2D(128, (5, 5), activation='relu', padding='same'))\n",
        "model.add(BatchNormalization())\n",
        "model.add(MaxPooling2D(pool_size=(2, 2)))\n",
        "    \n",
        "# 3rd layer\n",
        "model.add(Conv2D(256, (3, 3), activation='relu', padding='same'))\n",
        "model.add(BatchNormalization())\n",
        "model.add(MaxPooling2D(pool_size=(2, 2)))\n",
        "\n",
        "# 4th layer\n",
        "model.add(Conv2D(128, (3, 3), activation='relu', padding='same'))\n",
        "model.add(BatchNormalization())\n",
        "model.add(MaxPooling2D(pool_size=(2, 2)))\n",
        "    \n",
        "# 5th layer\n",
        "model.add(Flatten())\n",
        "model.add(Dense(64))\n",
        "model.add(BatchNormalization())\n",
        "model.add(Activation('relu'))\n",
        "model.add(Dropout(0.2))\n",
        "model.add(Dense(7))\n",
        "model.add(Activation('softmax'))\n",
        "\n",
        "model.summary()"
      ],
      "execution_count": 28,
      "outputs": [
        {
          "output_type": "stream",
          "text": [
            "Model: \"sequential_1\"\n",
            "_________________________________________________________________\n",
            "Layer (type)                 Output Shape              Param #   \n",
            "=================================================================\n",
            "conv2d_1 (Conv2D)            (None, 48, 48, 64)        4864      \n",
            "_________________________________________________________________\n",
            "conv2d_2 (Conv2D)            (None, 48, 48, 128)       204928    \n",
            "_________________________________________________________________\n",
            "batch_normalization_1 (Batch (None, 48, 48, 128)       512       \n",
            "_________________________________________________________________\n",
            "max_pooling2d_1 (MaxPooling2 (None, 24, 24, 128)       0         \n",
            "_________________________________________________________________\n",
            "conv2d_3 (Conv2D)            (None, 24, 24, 256)       295168    \n",
            "_________________________________________________________________\n",
            "batch_normalization_2 (Batch (None, 24, 24, 256)       1024      \n",
            "_________________________________________________________________\n",
            "max_pooling2d_2 (MaxPooling2 (None, 12, 12, 256)       0         \n",
            "_________________________________________________________________\n",
            "conv2d_4 (Conv2D)            (None, 12, 12, 128)       295040    \n",
            "_________________________________________________________________\n",
            "batch_normalization_3 (Batch (None, 12, 12, 128)       512       \n",
            "_________________________________________________________________\n",
            "max_pooling2d_3 (MaxPooling2 (None, 6, 6, 128)         0         \n",
            "_________________________________________________________________\n",
            "flatten_1 (Flatten)          (None, 4608)              0         \n",
            "_________________________________________________________________\n",
            "dense_1 (Dense)              (None, 64)                294976    \n",
            "_________________________________________________________________\n",
            "batch_normalization_4 (Batch (None, 64)                256       \n",
            "_________________________________________________________________\n",
            "activation_1 (Activation)    (None, 64)                0         \n",
            "_________________________________________________________________\n",
            "dropout_1 (Dropout)          (None, 64)                0         \n",
            "_________________________________________________________________\n",
            "dense_2 (Dense)              (None, 7)                 455       \n",
            "_________________________________________________________________\n",
            "activation_2 (Activation)    (None, 7)                 0         \n",
            "=================================================================\n",
            "Total params: 1,097,735\n",
            "Trainable params: 1,096,583\n",
            "Non-trainable params: 1,152\n",
            "_________________________________________________________________\n"
          ],
          "name": "stdout"
        }
      ]
    },
    {
      "cell_type": "code",
      "metadata": {
        "id": "tC-xRuzfBHcI",
        "colab_type": "code",
        "colab": {}
      },
      "source": [
        "from keras import optimizers\n",
        "model.compile(loss='binary_crossentropy', \n",
        "              optimizer=optimizers.RMSprop(lr=1e-4),\n",
        "              metrics=['acc'])"
      ],
      "execution_count": 0,
      "outputs": []
    },
    {
      "cell_type": "markdown",
      "metadata": {
        "id": "Fo0VExRJ2ay1",
        "colab_type": "text"
      },
      "source": [
        "## 5. Train the Model and Record"
      ]
    },
    {
      "cell_type": "code",
      "metadata": {
        "id": "WeaNzSlAxHEP",
        "colab_type": "code",
        "outputId": "0c1bba66-cbcf-4929-b0b7-df5bb14aa443",
        "colab": {
          "base_uri": "https://localhost:8080/",
          "height": 799
        }
      },
      "source": [
        "from keras.callbacks import EarlyStopping\n",
        "# earlystop\n",
        "earlystop = EarlyStopping(monitor='val_loss', patience=10, verbose=1)\n",
        "\n",
        "history =  model.fit(x=X_train,y=y_train,\n",
        "                     batch_size=64,\n",
        "                     epochs=20,\n",
        "                     validation_data=(x_test, y_test),\n",
        "                     callbacks = [earlystop])"
      ],
      "execution_count": 30,
      "outputs": [
        {
          "output_type": "stream",
          "text": [
            "WARNING:tensorflow:From /usr/local/lib/python3.6/dist-packages/keras/backend/tensorflow_backend.py:1020: The name tf.assign is deprecated. Please use tf.compat.v1.assign instead.\n",
            "\n",
            "Train on 784 samples, validate on 197 samples\n",
            "Epoch 1/20\n",
            "784/784 [==============================] - 9s 12ms/step - loss: 0.3726 - acc: 0.8597 - val_loss: 0.3863 - val_acc: 0.8695\n",
            "Epoch 2/20\n",
            "784/784 [==============================] - 1s 775us/step - loss: 0.2623 - acc: 0.8976 - val_loss: 0.3523 - val_acc: 0.8847\n",
            "Epoch 3/20\n",
            "784/784 [==============================] - 1s 765us/step - loss: 0.2202 - acc: 0.9136 - val_loss: 0.2952 - val_acc: 0.8898\n",
            "Epoch 4/20\n",
            "784/784 [==============================] - 1s 771us/step - loss: 0.1903 - acc: 0.9286 - val_loss: 0.2681 - val_acc: 0.8898\n",
            "Epoch 5/20\n",
            "784/784 [==============================] - 1s 763us/step - loss: 0.1751 - acc: 0.9329 - val_loss: 0.2955 - val_acc: 0.8891\n",
            "Epoch 6/20\n",
            "784/784 [==============================] - 1s 775us/step - loss: 0.1650 - acc: 0.9340 - val_loss: 0.2796 - val_acc: 0.8905\n",
            "Epoch 7/20\n",
            "784/784 [==============================] - 1s 781us/step - loss: 0.1545 - acc: 0.9401 - val_loss: 0.2591 - val_acc: 0.8898\n",
            "Epoch 8/20\n",
            "784/784 [==============================] - 1s 774us/step - loss: 0.1403 - acc: 0.9473 - val_loss: 0.2662 - val_acc: 0.9028\n",
            "Epoch 9/20\n",
            "784/784 [==============================] - 1s 770us/step - loss: 0.1357 - acc: 0.9497 - val_loss: 0.2371 - val_acc: 0.9028\n",
            "Epoch 10/20\n",
            "784/784 [==============================] - 1s 775us/step - loss: 0.1257 - acc: 0.9510 - val_loss: 0.2404 - val_acc: 0.9021\n",
            "Epoch 11/20\n",
            "784/784 [==============================] - 1s 797us/step - loss: 0.1195 - acc: 0.9543 - val_loss: 0.2360 - val_acc: 0.9115\n",
            "Epoch 12/20\n",
            "784/784 [==============================] - 1s 798us/step - loss: 0.1120 - acc: 0.9579 - val_loss: 0.2508 - val_acc: 0.9036\n",
            "Epoch 13/20\n",
            "784/784 [==============================] - 1s 781us/step - loss: 0.1032 - acc: 0.9614 - val_loss: 0.2411 - val_acc: 0.9050\n",
            "Epoch 14/20\n",
            "784/784 [==============================] - 1s 765us/step - loss: 0.1033 - acc: 0.9610 - val_loss: 0.2895 - val_acc: 0.8803\n",
            "Epoch 15/20\n",
            "784/784 [==============================] - 1s 773us/step - loss: 0.1013 - acc: 0.9628 - val_loss: 0.2279 - val_acc: 0.9144\n",
            "Epoch 16/20\n",
            "784/784 [==============================] - 1s 773us/step - loss: 0.0960 - acc: 0.9625 - val_loss: 0.2267 - val_acc: 0.9137\n",
            "Epoch 17/20\n",
            "784/784 [==============================] - 1s 773us/step - loss: 0.0924 - acc: 0.9663 - val_loss: 0.2624 - val_acc: 0.9086\n",
            "Epoch 18/20\n",
            "784/784 [==============================] - 1s 782us/step - loss: 0.0885 - acc: 0.9667 - val_loss: 0.2190 - val_acc: 0.9188\n",
            "Epoch 19/20\n",
            "784/784 [==============================] - 1s 775us/step - loss: 0.0866 - acc: 0.9677 - val_loss: 0.2365 - val_acc: 0.9036\n",
            "Epoch 20/20\n",
            "784/784 [==============================] - 1s 781us/step - loss: 0.0852 - acc: 0.9663 - val_loss: 0.2812 - val_acc: 0.8941\n"
          ],
          "name": "stdout"
        }
      ]
    },
    {
      "cell_type": "markdown",
      "metadata": {
        "id": "cddp3bz62h7I",
        "colab_type": "text"
      },
      "source": [
        "## 6. Visualize the Result"
      ]
    },
    {
      "cell_type": "code",
      "metadata": {
        "id": "YFcvSpGaxp_d",
        "colab_type": "code",
        "outputId": "63ffe2ed-1a12-403f-a3f8-b7742777d0e6",
        "colab": {
          "base_uri": "https://localhost:8080/",
          "height": 444
        }
      },
      "source": [
        "''' Visualize the training/validation loss and training/validation accuracy'''\n",
        "from pylab import rcParams\n",
        "\n",
        "rcParams['figure.figsize'] = 10, 7\n",
        "\n",
        "loss = history.history.get('loss')\n",
        "val_loss = history.history.get('val_loss')\n",
        "\n",
        "acc = history.history.get('acc')\n",
        "val_acc = history.history.get('val_acc')\n",
        "    \n",
        "plt.figure(0)\n",
        "\n",
        "plt.subplot(121)\n",
        "\n",
        "plt.plot(range(len(loss)), loss, label='Training Loss')\n",
        "plt.plot(range(len(val_loss)), val_loss, label='Validation Loss')\n",
        "plt.legend(loc='upper left')\n",
        "plt.title('Loss')\n",
        "\n",
        "\n",
        "plt.subplot(122)\n",
        "plt.plot(range(len(acc)), acc, label='Training Accuracy')\n",
        "plt.plot(range(len(val_acc)), val_acc, label='Validation Accuracy')\n",
        "plt.legend(loc='upper left')\n",
        "plt.title('Accuracy')\n",
        "\n",
        "plt.show()"
      ],
      "execution_count": 31,
      "outputs": [
        {
          "output_type": "display_data",
          "data": {
            "image/png": "[encoded data removed]",
            "text/plain": [
              "<Figure size 720x504 with 2 Axes>"
            ]
          },
          "metadata": {
            "tags": []
          }
        }
      ]
    }
  ]
}