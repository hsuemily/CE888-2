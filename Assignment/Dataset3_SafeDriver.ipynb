{
  "nbformat": 4,
  "nbformat_minor": 0,
  "metadata": {
    "colab": {
      "name": "Dataset3 SafeDriver.ipynb",
      "provenance": [],
      "collapsed_sections": [],
      "authorship_tag": "ABX9TyOj2T3oGneIAJKTsz9Yv6px",
      "include_colab_link": true
    },
    "kernelspec": {
      "name": "python3",
      "display_name": "Python 3"
    }
  },
  "cells": [
    {
      "cell_type": "markdown",
      "metadata": {
        "id": "view-in-github",
        "colab_type": "text"
      },
      "source": [
        "<a href=\"https://colab.research.google.com/github/hsuemily/CE888_Hsu-Chi-Rou_1900759/blob/master/Assignment/Dataset3_SafeDriver.ipynb\" target=\"_parent\"><img src=\"https://colab.research.google.com/assets/colab-badge.svg\" alt=\"Open In Colab\"/></a>"
      ]
    },
    {
      "cell_type": "markdown",
      "metadata": {
        "id": "P2MbAQjr16Ag",
        "colab_type": "text"
      },
      "source": [
        "## 1. Import Library"
      ]
    },
    {
      "cell_type": "code",
      "metadata": {
        "id": "SSWjejzz13Hm",
        "colab_type": "code",
        "colab": {
          "base_uri": "https://localhost:8080/",
          "height": 72
        },
        "outputId": "7d311440-ff7f-48a3-e9cf-5ea6b7643eeb"
      },
      "source": [
        "# Import library\n",
        "import matplotlib\n",
        "import numpy as np\n",
        "import matplotlib.pyplot as plt\n",
        "import pandas as pd\n",
        "import seaborn as sns\n",
        "import os\n",
        "from sklearn.preprocessing import OneHotEncoder, LabelEncoder, MinMaxScaler"
      ],
      "execution_count": 1,
      "outputs": [
        {
          "output_type": "stream",
          "text": [
            "/usr/local/lib/python3.6/dist-packages/statsmodels/tools/_testing.py:19: FutureWarning: pandas.util.testing is deprecated. Use the functions in the public API at pandas.testing instead.\n",
            "  import pandas.util.testing as tm\n"
          ],
          "name": "stderr"
        }
      ]
    },
    {
      "cell_type": "markdown",
      "metadata": {
        "id": "jLYX_J-qSlOE",
        "colab_type": "text"
      },
      "source": [
        "## 2.  Load Dataset"
      ]
    },
    {
      "cell_type": "code",
      "metadata": {
        "id": "xcrjJN8bzDfk",
        "colab_type": "code",
        "outputId": "94905c28-560f-4270-89f7-04fbbe54f4a5",
        "colab": {
          "base_uri": "https://localhost:8080/",
          "height": 214
        }
      },
      "source": [
        "# Load data\n",
        "# Colab library to upload files to notebook, Ref:https://medium.com/@saedhussain/google-colaboratory-and-kaggle-datasets-b57a83eb6ef8\n",
        "from google.colab import files\n",
        "\n",
        "# Install Kaggle library\n",
        "!pip install -q kaggle\n",
        "\n",
        "# Load data from Kaggle to Google Colab virtual machine\n",
        "os.environ['KAGGLE_USERNAME'] = \"emilyhsucr\" # username from the json file\n",
        "os.environ['KAGGLE_KEY'] = \"3b6aa5aa02b468c89e4cfac52a5d992e\" # key from the json file\n",
        "!kaggle competitions download -c porto-seguro-safe-driver-prediction # api copied from kaggle"
      ],
      "execution_count": 2,
      "outputs": [
        {
          "output_type": "stream",
          "text": [
            "Warning: Looks like you're using an outdated API Version, please consider updating (server 1.5.6 / client 1.5.4)\n",
            "Downloading train.csv.zip to /content\n",
            " 30% 9.00M/30.0M [00:00<00:00, 30.0MB/s]\n",
            "100% 30.0M/30.0M [00:00<00:00, 67.6MB/s]\n",
            "Downloading sample_submission.csv.zip to /content\n",
            "  0% 0.00/2.12M [00:00<?, ?B/s]\n",
            "100% 2.12M/2.12M [00:00<00:00, 140MB/s]\n",
            "Downloading test.csv.zip to /content\n",
            " 79% 35.0M/44.4M [00:00<00:00, 46.9MB/s]\n",
            "100% 44.4M/44.4M [00:00<00:00, 90.3MB/s]\n"
          ],
          "name": "stdout"
        }
      ]
    },
    {
      "cell_type": "code",
      "metadata": {
        "id": "fmK4BGDPo8M3",
        "colab_type": "code",
        "colab": {}
      },
      "source": [
        "## Porto Seguro’s Safe Driver Prediction \n",
        "SafeDriver = pd.read_csv('train.csv.zip')"
      ],
      "execution_count": 0,
      "outputs": []
    },
    {
      "cell_type": "code",
      "metadata": {
        "id": "tO6CzvuwzMA8",
        "colab_type": "code",
        "outputId": "0203186f-a7cb-4687-cfcf-3cd22f76f8c0",
        "colab": {
          "base_uri": "https://localhost:8080/",
          "height": 219
        }
      },
      "source": [
        "SafeDriver.head(5)"
      ],
      "execution_count": 4,
      "outputs": [
        {
          "output_type": "execute_result",
          "data": {
            "text/html": [
              "<div>\n",
              "<style scoped>\n",
              "    .dataframe tbody tr th:only-of-type {\n",
              "        vertical-align: middle;\n",
              "    }\n",
              "\n",
              "    .dataframe tbody tr th {\n",
              "        vertical-align: top;\n",
              "    }\n",
              "\n",
              "    .dataframe thead th {\n",
              "        text-align: right;\n",
              "    }\n",
              "</style>\n",
              "<table border=\"1\" class=\"dataframe\">\n",
              "  <thead>\n",
              "    <tr style=\"text-align: right;\">\n",
              "      <th></th>\n",
              "      <th>id</th>\n",
              "      <th>target</th>\n",
              "      <th>ps_ind_01</th>\n",
              "      <th>ps_ind_02_cat</th>\n",
              "      <th>ps_ind_03</th>\n",
              "      <th>ps_ind_04_cat</th>\n",
              "      <th>ps_ind_05_cat</th>\n",
              "      <th>ps_ind_06_bin</th>\n",
              "      <th>ps_ind_07_bin</th>\n",
              "      <th>ps_ind_08_bin</th>\n",
              "      <th>ps_ind_09_bin</th>\n",
              "      <th>ps_ind_10_bin</th>\n",
              "      <th>ps_ind_11_bin</th>\n",
              "      <th>ps_ind_12_bin</th>\n",
              "      <th>ps_ind_13_bin</th>\n",
              "      <th>ps_ind_14</th>\n",
              "      <th>ps_ind_15</th>\n",
              "      <th>ps_ind_16_bin</th>\n",
              "      <th>ps_ind_17_bin</th>\n",
              "      <th>ps_ind_18_bin</th>\n",
              "      <th>ps_reg_01</th>\n",
              "      <th>ps_reg_02</th>\n",
              "      <th>ps_reg_03</th>\n",
              "      <th>ps_car_01_cat</th>\n",
              "      <th>ps_car_02_cat</th>\n",
              "      <th>ps_car_03_cat</th>\n",
              "      <th>ps_car_04_cat</th>\n",
              "      <th>ps_car_05_cat</th>\n",
              "      <th>ps_car_06_cat</th>\n",
              "      <th>ps_car_07_cat</th>\n",
              "      <th>ps_car_08_cat</th>\n",
              "      <th>ps_car_09_cat</th>\n",
              "      <th>ps_car_10_cat</th>\n",
              "      <th>ps_car_11_cat</th>\n",
              "      <th>ps_car_11</th>\n",
              "      <th>ps_car_12</th>\n",
              "      <th>ps_car_13</th>\n",
              "      <th>ps_car_14</th>\n",
              "      <th>ps_car_15</th>\n",
              "      <th>ps_calc_01</th>\n",
              "      <th>ps_calc_02</th>\n",
              "      <th>ps_calc_03</th>\n",
              "      <th>ps_calc_04</th>\n",
              "      <th>ps_calc_05</th>\n",
              "      <th>ps_calc_06</th>\n",
              "      <th>ps_calc_07</th>\n",
              "      <th>ps_calc_08</th>\n",
              "      <th>ps_calc_09</th>\n",
              "      <th>ps_calc_10</th>\n",
              "      <th>ps_calc_11</th>\n",
              "      <th>ps_calc_12</th>\n",
              "      <th>ps_calc_13</th>\n",
              "      <th>ps_calc_14</th>\n",
              "      <th>ps_calc_15_bin</th>\n",
              "      <th>ps_calc_16_bin</th>\n",
              "      <th>ps_calc_17_bin</th>\n",
              "      <th>ps_calc_18_bin</th>\n",
              "      <th>ps_calc_19_bin</th>\n",
              "      <th>ps_calc_20_bin</th>\n",
              "    </tr>\n",
              "  </thead>\n",
              "  <tbody>\n",
              "    <tr>\n",
              "      <th>0</th>\n",
              "      <td>7</td>\n",
              "      <td>0</td>\n",
              "      <td>2</td>\n",
              "      <td>2</td>\n",
              "      <td>5</td>\n",
              "      <td>1</td>\n",
              "      <td>0</td>\n",
              "      <td>0</td>\n",
              "      <td>1</td>\n",
              "      <td>0</td>\n",
              "      <td>0</td>\n",
              "      <td>0</td>\n",
              "      <td>0</td>\n",
              "      <td>0</td>\n",
              "      <td>0</td>\n",
              "      <td>0</td>\n",
              "      <td>11</td>\n",
              "      <td>0</td>\n",
              "      <td>1</td>\n",
              "      <td>0</td>\n",
              "      <td>0.7</td>\n",
              "      <td>0.2</td>\n",
              "      <td>0.718070</td>\n",
              "      <td>10</td>\n",
              "      <td>1</td>\n",
              "      <td>-1</td>\n",
              "      <td>0</td>\n",
              "      <td>1</td>\n",
              "      <td>4</td>\n",
              "      <td>1</td>\n",
              "      <td>0</td>\n",
              "      <td>0</td>\n",
              "      <td>1</td>\n",
              "      <td>12</td>\n",
              "      <td>2</td>\n",
              "      <td>0.400000</td>\n",
              "      <td>0.883679</td>\n",
              "      <td>0.370810</td>\n",
              "      <td>3.605551</td>\n",
              "      <td>0.6</td>\n",
              "      <td>0.5</td>\n",
              "      <td>0.2</td>\n",
              "      <td>3</td>\n",
              "      <td>1</td>\n",
              "      <td>10</td>\n",
              "      <td>1</td>\n",
              "      <td>10</td>\n",
              "      <td>1</td>\n",
              "      <td>5</td>\n",
              "      <td>9</td>\n",
              "      <td>1</td>\n",
              "      <td>5</td>\n",
              "      <td>8</td>\n",
              "      <td>0</td>\n",
              "      <td>1</td>\n",
              "      <td>1</td>\n",
              "      <td>0</td>\n",
              "      <td>0</td>\n",
              "      <td>1</td>\n",
              "    </tr>\n",
              "    <tr>\n",
              "      <th>1</th>\n",
              "      <td>9</td>\n",
              "      <td>0</td>\n",
              "      <td>1</td>\n",
              "      <td>1</td>\n",
              "      <td>7</td>\n",
              "      <td>0</td>\n",
              "      <td>0</td>\n",
              "      <td>0</td>\n",
              "      <td>0</td>\n",
              "      <td>1</td>\n",
              "      <td>0</td>\n",
              "      <td>0</td>\n",
              "      <td>0</td>\n",
              "      <td>0</td>\n",
              "      <td>0</td>\n",
              "      <td>0</td>\n",
              "      <td>3</td>\n",
              "      <td>0</td>\n",
              "      <td>0</td>\n",
              "      <td>1</td>\n",
              "      <td>0.8</td>\n",
              "      <td>0.4</td>\n",
              "      <td>0.766078</td>\n",
              "      <td>11</td>\n",
              "      <td>1</td>\n",
              "      <td>-1</td>\n",
              "      <td>0</td>\n",
              "      <td>-1</td>\n",
              "      <td>11</td>\n",
              "      <td>1</td>\n",
              "      <td>1</td>\n",
              "      <td>2</td>\n",
              "      <td>1</td>\n",
              "      <td>19</td>\n",
              "      <td>3</td>\n",
              "      <td>0.316228</td>\n",
              "      <td>0.618817</td>\n",
              "      <td>0.388716</td>\n",
              "      <td>2.449490</td>\n",
              "      <td>0.3</td>\n",
              "      <td>0.1</td>\n",
              "      <td>0.3</td>\n",
              "      <td>2</td>\n",
              "      <td>1</td>\n",
              "      <td>9</td>\n",
              "      <td>5</td>\n",
              "      <td>8</td>\n",
              "      <td>1</td>\n",
              "      <td>7</td>\n",
              "      <td>3</td>\n",
              "      <td>1</td>\n",
              "      <td>1</td>\n",
              "      <td>9</td>\n",
              "      <td>0</td>\n",
              "      <td>1</td>\n",
              "      <td>1</td>\n",
              "      <td>0</td>\n",
              "      <td>1</td>\n",
              "      <td>0</td>\n",
              "    </tr>\n",
              "    <tr>\n",
              "      <th>2</th>\n",
              "      <td>13</td>\n",
              "      <td>0</td>\n",
              "      <td>5</td>\n",
              "      <td>4</td>\n",
              "      <td>9</td>\n",
              "      <td>1</td>\n",
              "      <td>0</td>\n",
              "      <td>0</td>\n",
              "      <td>0</td>\n",
              "      <td>1</td>\n",
              "      <td>0</td>\n",
              "      <td>0</td>\n",
              "      <td>0</td>\n",
              "      <td>0</td>\n",
              "      <td>0</td>\n",
              "      <td>0</td>\n",
              "      <td>12</td>\n",
              "      <td>1</td>\n",
              "      <td>0</td>\n",
              "      <td>0</td>\n",
              "      <td>0.0</td>\n",
              "      <td>0.0</td>\n",
              "      <td>-1.000000</td>\n",
              "      <td>7</td>\n",
              "      <td>1</td>\n",
              "      <td>-1</td>\n",
              "      <td>0</td>\n",
              "      <td>-1</td>\n",
              "      <td>14</td>\n",
              "      <td>1</td>\n",
              "      <td>1</td>\n",
              "      <td>2</td>\n",
              "      <td>1</td>\n",
              "      <td>60</td>\n",
              "      <td>1</td>\n",
              "      <td>0.316228</td>\n",
              "      <td>0.641586</td>\n",
              "      <td>0.347275</td>\n",
              "      <td>3.316625</td>\n",
              "      <td>0.5</td>\n",
              "      <td>0.7</td>\n",
              "      <td>0.1</td>\n",
              "      <td>2</td>\n",
              "      <td>2</td>\n",
              "      <td>9</td>\n",
              "      <td>1</td>\n",
              "      <td>8</td>\n",
              "      <td>2</td>\n",
              "      <td>7</td>\n",
              "      <td>4</td>\n",
              "      <td>2</td>\n",
              "      <td>7</td>\n",
              "      <td>7</td>\n",
              "      <td>0</td>\n",
              "      <td>1</td>\n",
              "      <td>1</td>\n",
              "      <td>0</td>\n",
              "      <td>1</td>\n",
              "      <td>0</td>\n",
              "    </tr>\n",
              "    <tr>\n",
              "      <th>3</th>\n",
              "      <td>16</td>\n",
              "      <td>0</td>\n",
              "      <td>0</td>\n",
              "      <td>1</td>\n",
              "      <td>2</td>\n",
              "      <td>0</td>\n",
              "      <td>0</td>\n",
              "      <td>1</td>\n",
              "      <td>0</td>\n",
              "      <td>0</td>\n",
              "      <td>0</td>\n",
              "      <td>0</td>\n",
              "      <td>0</td>\n",
              "      <td>0</td>\n",
              "      <td>0</td>\n",
              "      <td>0</td>\n",
              "      <td>8</td>\n",
              "      <td>1</td>\n",
              "      <td>0</td>\n",
              "      <td>0</td>\n",
              "      <td>0.9</td>\n",
              "      <td>0.2</td>\n",
              "      <td>0.580948</td>\n",
              "      <td>7</td>\n",
              "      <td>1</td>\n",
              "      <td>0</td>\n",
              "      <td>0</td>\n",
              "      <td>1</td>\n",
              "      <td>11</td>\n",
              "      <td>1</td>\n",
              "      <td>1</td>\n",
              "      <td>3</td>\n",
              "      <td>1</td>\n",
              "      <td>104</td>\n",
              "      <td>1</td>\n",
              "      <td>0.374166</td>\n",
              "      <td>0.542949</td>\n",
              "      <td>0.294958</td>\n",
              "      <td>2.000000</td>\n",
              "      <td>0.6</td>\n",
              "      <td>0.9</td>\n",
              "      <td>0.1</td>\n",
              "      <td>2</td>\n",
              "      <td>4</td>\n",
              "      <td>7</td>\n",
              "      <td>1</td>\n",
              "      <td>8</td>\n",
              "      <td>4</td>\n",
              "      <td>2</td>\n",
              "      <td>2</td>\n",
              "      <td>2</td>\n",
              "      <td>4</td>\n",
              "      <td>9</td>\n",
              "      <td>0</td>\n",
              "      <td>0</td>\n",
              "      <td>0</td>\n",
              "      <td>0</td>\n",
              "      <td>0</td>\n",
              "      <td>0</td>\n",
              "    </tr>\n",
              "    <tr>\n",
              "      <th>4</th>\n",
              "      <td>17</td>\n",
              "      <td>0</td>\n",
              "      <td>0</td>\n",
              "      <td>2</td>\n",
              "      <td>0</td>\n",
              "      <td>1</td>\n",
              "      <td>0</td>\n",
              "      <td>1</td>\n",
              "      <td>0</td>\n",
              "      <td>0</td>\n",
              "      <td>0</td>\n",
              "      <td>0</td>\n",
              "      <td>0</td>\n",
              "      <td>0</td>\n",
              "      <td>0</td>\n",
              "      <td>0</td>\n",
              "      <td>9</td>\n",
              "      <td>1</td>\n",
              "      <td>0</td>\n",
              "      <td>0</td>\n",
              "      <td>0.7</td>\n",
              "      <td>0.6</td>\n",
              "      <td>0.840759</td>\n",
              "      <td>11</td>\n",
              "      <td>1</td>\n",
              "      <td>-1</td>\n",
              "      <td>0</td>\n",
              "      <td>-1</td>\n",
              "      <td>14</td>\n",
              "      <td>1</td>\n",
              "      <td>1</td>\n",
              "      <td>2</td>\n",
              "      <td>1</td>\n",
              "      <td>82</td>\n",
              "      <td>3</td>\n",
              "      <td>0.316070</td>\n",
              "      <td>0.565832</td>\n",
              "      <td>0.365103</td>\n",
              "      <td>2.000000</td>\n",
              "      <td>0.4</td>\n",
              "      <td>0.6</td>\n",
              "      <td>0.0</td>\n",
              "      <td>2</td>\n",
              "      <td>2</td>\n",
              "      <td>6</td>\n",
              "      <td>3</td>\n",
              "      <td>10</td>\n",
              "      <td>2</td>\n",
              "      <td>12</td>\n",
              "      <td>3</td>\n",
              "      <td>1</td>\n",
              "      <td>1</td>\n",
              "      <td>3</td>\n",
              "      <td>0</td>\n",
              "      <td>0</td>\n",
              "      <td>0</td>\n",
              "      <td>1</td>\n",
              "      <td>1</td>\n",
              "      <td>0</td>\n",
              "    </tr>\n",
              "  </tbody>\n",
              "</table>\n",
              "</div>"
            ],
            "text/plain": [
              "   id  target  ps_ind_01  ...  ps_calc_18_bin  ps_calc_19_bin  ps_calc_20_bin\n",
              "0   7       0          2  ...               0               0               1\n",
              "1   9       0          1  ...               0               1               0\n",
              "2  13       0          5  ...               0               1               0\n",
              "3  16       0          0  ...               0               0               0\n",
              "4  17       0          0  ...               1               1               0\n",
              "\n",
              "[5 rows x 59 columns]"
            ]
          },
          "metadata": {
            "tags": []
          },
          "execution_count": 4
        }
      ]
    },
    {
      "cell_type": "code",
      "metadata": {
        "id": "cZDpwT06Zjqo",
        "colab_type": "code",
        "outputId": "79fb225e-da19-46ed-84b3-ac271a616de7",
        "colab": {
          "base_uri": "https://localhost:8080/",
          "height": 1000
        }
      },
      "source": [
        "SafeDriver.info()"
      ],
      "execution_count": 5,
      "outputs": [
        {
          "output_type": "stream",
          "text": [
            "<class 'pandas.core.frame.DataFrame'>\n",
            "RangeIndex: 595212 entries, 0 to 595211\n",
            "Data columns (total 59 columns):\n",
            " #   Column          Non-Null Count   Dtype  \n",
            "---  ------          --------------   -----  \n",
            " 0   id              595212 non-null  int64  \n",
            " 1   target          595212 non-null  int64  \n",
            " 2   ps_ind_01       595212 non-null  int64  \n",
            " 3   ps_ind_02_cat   595212 non-null  int64  \n",
            " 4   ps_ind_03       595212 non-null  int64  \n",
            " 5   ps_ind_04_cat   595212 non-null  int64  \n",
            " 6   ps_ind_05_cat   595212 non-null  int64  \n",
            " 7   ps_ind_06_bin   595212 non-null  int64  \n",
            " 8   ps_ind_07_bin   595212 non-null  int64  \n",
            " 9   ps_ind_08_bin   595212 non-null  int64  \n",
            " 10  ps_ind_09_bin   595212 non-null  int64  \n",
            " 11  ps_ind_10_bin   595212 non-null  int64  \n",
            " 12  ps_ind_11_bin   595212 non-null  int64  \n",
            " 13  ps_ind_12_bin   595212 non-null  int64  \n",
            " 14  ps_ind_13_bin   595212 non-null  int64  \n",
            " 15  ps_ind_14       595212 non-null  int64  \n",
            " 16  ps_ind_15       595212 non-null  int64  \n",
            " 17  ps_ind_16_bin   595212 non-null  int64  \n",
            " 18  ps_ind_17_bin   595212 non-null  int64  \n",
            " 19  ps_ind_18_bin   595212 non-null  int64  \n",
            " 20  ps_reg_01       595212 non-null  float64\n",
            " 21  ps_reg_02       595212 non-null  float64\n",
            " 22  ps_reg_03       595212 non-null  float64\n",
            " 23  ps_car_01_cat   595212 non-null  int64  \n",
            " 24  ps_car_02_cat   595212 non-null  int64  \n",
            " 25  ps_car_03_cat   595212 non-null  int64  \n",
            " 26  ps_car_04_cat   595212 non-null  int64  \n",
            " 27  ps_car_05_cat   595212 non-null  int64  \n",
            " 28  ps_car_06_cat   595212 non-null  int64  \n",
            " 29  ps_car_07_cat   595212 non-null  int64  \n",
            " 30  ps_car_08_cat   595212 non-null  int64  \n",
            " 31  ps_car_09_cat   595212 non-null  int64  \n",
            " 32  ps_car_10_cat   595212 non-null  int64  \n",
            " 33  ps_car_11_cat   595212 non-null  int64  \n",
            " 34  ps_car_11       595212 non-null  int64  \n",
            " 35  ps_car_12       595212 non-null  float64\n",
            " 36  ps_car_13       595212 non-null  float64\n",
            " 37  ps_car_14       595212 non-null  float64\n",
            " 38  ps_car_15       595212 non-null  float64\n",
            " 39  ps_calc_01      595212 non-null  float64\n",
            " 40  ps_calc_02      595212 non-null  float64\n",
            " 41  ps_calc_03      595212 non-null  float64\n",
            " 42  ps_calc_04      595212 non-null  int64  \n",
            " 43  ps_calc_05      595212 non-null  int64  \n",
            " 44  ps_calc_06      595212 non-null  int64  \n",
            " 45  ps_calc_07      595212 non-null  int64  \n",
            " 46  ps_calc_08      595212 non-null  int64  \n",
            " 47  ps_calc_09      595212 non-null  int64  \n",
            " 48  ps_calc_10      595212 non-null  int64  \n",
            " 49  ps_calc_11      595212 non-null  int64  \n",
            " 50  ps_calc_12      595212 non-null  int64  \n",
            " 51  ps_calc_13      595212 non-null  int64  \n",
            " 52  ps_calc_14      595212 non-null  int64  \n",
            " 53  ps_calc_15_bin  595212 non-null  int64  \n",
            " 54  ps_calc_16_bin  595212 non-null  int64  \n",
            " 55  ps_calc_17_bin  595212 non-null  int64  \n",
            " 56  ps_calc_18_bin  595212 non-null  int64  \n",
            " 57  ps_calc_19_bin  595212 non-null  int64  \n",
            " 58  ps_calc_20_bin  595212 non-null  int64  \n",
            "dtypes: float64(10), int64(49)\n",
            "memory usage: 267.9 MB\n"
          ],
          "name": "stdout"
        }
      ]
    },
    {
      "cell_type": "markdown",
      "metadata": {
        "id": "jEIQxqqP2P9B",
        "colab_type": "text"
      },
      "source": [
        "## 3. Data Visualization"
      ]
    },
    {
      "cell_type": "code",
      "metadata": {
        "id": "aX2mj4SrpOjm",
        "colab_type": "code",
        "outputId": "a475164a-10bb-4be8-a773-1677a2ed9070",
        "colab": {
          "base_uri": "https://localhost:8080/",
          "height": 331
        }
      },
      "source": [
        "# Plot histogram of the label target in Safe Driver dataset\n",
        "pd.Series(SafeDriver['target']).value_counts().plot(kind='bar',title='SafeDriver: Count (target)')\n",
        "target_count = SafeDriver.target.value_counts()\n",
        "print('will not initiate an auto insurance claim (0):', target_count[0])\n",
        "print('will initiate an auto insurance claim (1):', target_count[1])\n",
        "print('Imbalance rate:', round((target_count[0] / (target_count[0]+target_count[1]))*100, 2), '%')"
      ],
      "execution_count": 6,
      "outputs": [
        {
          "output_type": "stream",
          "text": [
            "will not initiate an auto insurance claim (0): 573518\n",
            "will initiate an auto insurance claim (1): 21694\n",
            "Imbalance rate: 96.36 %\n"
          ],
          "name": "stdout"
        },
        {
          "output_type": "display_data",
          "data": {
            "image/png": "[encoded data removed]",
            "text/plain": [
              "<Figure size 432x288 with 1 Axes>"
            ]
          },
          "metadata": {
            "tags": [],
            "needs_background": "light"
          }
        }
      ]
    },
    {
      "cell_type": "markdown",
      "metadata": {
        "id": "V7sgM8Bl_Ddi",
        "colab_type": "text"
      },
      "source": [
        "## 4. Data Preprocessing\n",
        " - 4.1 Missing Value\n",
        " - 4.2 Normalization"
      ]
    },
    {
      "cell_type": "markdown",
      "metadata": {
        "id": "clG5rNwDSz5K",
        "colab_type": "text"
      },
      "source": [
        "### 4.1 Missing Value"
      ]
    },
    {
      "cell_type": "code",
      "metadata": {
        "id": "M3N6VzM3_J-Z",
        "colab_type": "code",
        "outputId": "1c425d60-9531-4340-d43e-efda0bcedb08",
        "colab": {
          "base_uri": "https://localhost:8080/",
          "height": 199
        }
      },
      "source": [
        "# dealing with missing value\n",
        "\n",
        "#*****SafeDriver\n",
        "total = SafeDriver.isnull().sum().sort_values(ascending=False)\n",
        "# summarize the amount of missing value in each attributes, and then sort it by descending order\n",
        "# percent = the counts of missing value /the counts of item (in each attribute)\n",
        "percent = (SafeDriver.isnull().sum()/SafeDriver.isnull().count()).sort_values(ascending=False)\n",
        "missing_data = pd.concat([total,percent],axis=1,keys=['Total','Percent'])\n",
        "missing_data.head()"
      ],
      "execution_count": 7,
      "outputs": [
        {
          "output_type": "execute_result",
          "data": {
            "text/html": [
              "<div>\n",
              "<style scoped>\n",
              "    .dataframe tbody tr th:only-of-type {\n",
              "        vertical-align: middle;\n",
              "    }\n",
              "\n",
              "    .dataframe tbody tr th {\n",
              "        vertical-align: top;\n",
              "    }\n",
              "\n",
              "    .dataframe thead th {\n",
              "        text-align: right;\n",
              "    }\n",
              "</style>\n",
              "<table border=\"1\" class=\"dataframe\">\n",
              "  <thead>\n",
              "    <tr style=\"text-align: right;\">\n",
              "      <th></th>\n",
              "      <th>Total</th>\n",
              "      <th>Percent</th>\n",
              "    </tr>\n",
              "  </thead>\n",
              "  <tbody>\n",
              "    <tr>\n",
              "      <th>ps_calc_20_bin</th>\n",
              "      <td>0</td>\n",
              "      <td>0.0</td>\n",
              "    </tr>\n",
              "    <tr>\n",
              "      <th>ps_ind_13_bin</th>\n",
              "      <td>0</td>\n",
              "      <td>0.0</td>\n",
              "    </tr>\n",
              "    <tr>\n",
              "      <th>ps_car_04_cat</th>\n",
              "      <td>0</td>\n",
              "      <td>0.0</td>\n",
              "    </tr>\n",
              "    <tr>\n",
              "      <th>ps_car_03_cat</th>\n",
              "      <td>0</td>\n",
              "      <td>0.0</td>\n",
              "    </tr>\n",
              "    <tr>\n",
              "      <th>ps_car_02_cat</th>\n",
              "      <td>0</td>\n",
              "      <td>0.0</td>\n",
              "    </tr>\n",
              "  </tbody>\n",
              "</table>\n",
              "</div>"
            ],
            "text/plain": [
              "                Total  Percent\n",
              "ps_calc_20_bin      0      0.0\n",
              "ps_ind_13_bin       0      0.0\n",
              "ps_car_04_cat       0      0.0\n",
              "ps_car_03_cat       0      0.0\n",
              "ps_car_02_cat       0      0.0"
            ]
          },
          "metadata": {
            "tags": []
          },
          "execution_count": 7
        }
      ]
    },
    {
      "cell_type": "markdown",
      "metadata": {
        "id": "n0n0-wD_S-o3",
        "colab_type": "text"
      },
      "source": [
        "### 4.2 Normalization"
      ]
    },
    {
      "cell_type": "code",
      "metadata": {
        "id": "mDpgg7-FTLg0",
        "colab_type": "code",
        "outputId": "62e3e71e-d91d-430a-bf4a-19dac4eddf2d",
        "colab": {
          "base_uri": "https://localhost:8080/",
          "height": 283
        }
      },
      "source": [
        "# Normalize dataset - SafeDriver\n",
        "SafeDriver_copy = SafeDriver.copy()\n",
        "for col in SafeDriver_copy.select_dtypes(include='number').columns:\n",
        "    mms = MinMaxScaler()\n",
        "    SafeDriver_copy[col] = mms.fit_transform(SafeDriver_copy[[col]])\n",
        "SafeDriver_copy.describe()\n",
        "\n",
        "# separate the data in to x and y\n",
        "SafeDriver_X = SafeDriver_copy.drop('target', axis = 1)\n",
        "SafeDriver_X=SafeDriver_X.values\n",
        "SafeDriver_Y = np.array(SafeDriver_copy['target'])\n",
        "print(\"SafeDriver:\",SafeDriver_X)\n",
        "print(SafeDriver_X.shape)\n",
        "print(SafeDriver_Y.shape)"
      ],
      "execution_count": 8,
      "outputs": [
        {
          "output_type": "stream",
          "text": [
            "SafeDriver: [[0.00000000e+00 2.85714286e-01 6.00000000e-01 ... 0.00000000e+00\n",
            "  0.00000000e+00 1.00000000e+00]\n",
            " [1.34406796e-06 1.42857143e-01 4.00000000e-01 ... 0.00000000e+00\n",
            "  1.00000000e+00 0.00000000e+00]\n",
            " [4.03220387e-06 7.14285714e-01 1.00000000e+00 ... 0.00000000e+00\n",
            "  1.00000000e+00 0.00000000e+00]\n",
            " ...\n",
            " [9.99993280e-01 1.42857143e-01 4.00000000e-01 ... 0.00000000e+00\n",
            "  0.00000000e+00 0.00000000e+00]\n",
            " [9.99995968e-01 7.14285714e-01 6.00000000e-01 ... 1.00000000e+00\n",
            "  0.00000000e+00 0.00000000e+00]\n",
            " [1.00000000e+00 0.00000000e+00 4.00000000e-01 ... 0.00000000e+00\n",
            "  0.00000000e+00 0.00000000e+00]]\n",
            "(595212, 58)\n",
            "(595212,)\n"
          ],
          "name": "stdout"
        }
      ]
    },
    {
      "cell_type": "markdown",
      "metadata": {
        "id": "CZGuHw67IS4o",
        "colab_type": "text"
      },
      "source": [
        "## 5. Supervised Learning\n",
        "### 5.1 Decision tree (cross-validation)\n",
        "### 5.2 Random forest (cross-validation)"
      ]
    },
    {
      "cell_type": "code",
      "metadata": {
        "id": "U-a_ILqfIkzA",
        "colab_type": "code",
        "outputId": "73bdb77d-c5f2-4d60-d49b-fde394131f0c",
        "colab": {
          "base_uri": "https://localhost:8080/",
          "height": 1000
        }
      },
      "source": [
        "## Decision tree \n",
        "\n",
        "### Ref_1: https://www.kaggle.com/sudhirnl7/logistic-regression-with-stratifiedkfold\n",
        "### Ref_2: https://scikit-learn.org/stable/modules/generated/sklearn.model_selection.StratifiedKFold.html#\n",
        "#Import library\n",
        "from sklearn import tree\n",
        "from sklearn.metrics import confusion_matrix, roc_auc_score ,roc_curve,auc\n",
        "from sklearn.metrics import precision_score, recall_score, f1_score\n",
        "from sklearn.model_selection import StratifiedKFold\n",
        "\n",
        "Skf = StratifiedKFold(n_splits=10,shuffle=True,random_state=49)\n",
        "pred_test_full =0\n",
        "cv_percisionDT =[]\n",
        "cv_recallDT =[]\n",
        "cv_F1scoreDT =[]\n",
        "cv_scoreDTRoc = []\n",
        "i=1\n",
        "for train_index,test_index in Skf.split(SafeDriver_X,SafeDriver_Y):\n",
        "    print('{} of KFold {}'.format(i,Skf.n_splits))\n",
        "    x_tr,x_v = SafeDriver_X[train_index],SafeDriver_X[test_index]\n",
        "    y_tr,y_v = SafeDriver_Y[train_index],SafeDriver_Y[test_index]\n",
        "    \n",
        "    #model\n",
        "    modelDT = tree.DecisionTreeClassifier(criterion = \"entropy\",random_state=1)\n",
        "    # model = tree.DecisionTreeClassifier(max_depth=5,max_leaf_nodes=15, max_features=14, criterion = \"entropy\",random_state=1)\n",
        "    modelDT.fit(x_tr,y_tr)\n",
        "    percisionDT=precision_score(y_v,modelDT.predict(x_v))\n",
        "    recallDT=recall_score(y_v,modelDT.predict(x_v))\n",
        "    F1scoreDT=f1_score(y_v,modelDT.predict(x_v))\n",
        "    scoreDTRoc = roc_auc_score(y_v,modelDT.predict(x_v))\n",
        "\n",
        "    cv_percisionDT.append(percisionDT)\n",
        "    cv_recallDT.append(recallDT)\n",
        "    cv_F1scoreDT.append(F1scoreDT)\n",
        "    cv_scoreDTRoc.append(scoreDTRoc)\n",
        "\n",
        "    print('Confusion matrix\\n',confusion_matrix(y_v,modelDT.predict(x_v)))\n",
        "    print('Precision:', precision_score(y_v,modelDT.predict(x_v)))\n",
        "    print('Recall:',recall_score(y_v,modelDT.predict(x_v)))\n",
        "    print('F1 score:', f1_score(y_v,modelDT.predict(x_v)))\n",
        "    print('ROC AUC score:',scoreDTRoc)\n",
        "\n",
        "    i+=1 "
      ],
      "execution_count": 9,
      "outputs": [
        {
          "output_type": "stream",
          "text": [
            "1 of KFold 10\n",
            "Confusion matrix\n",
            " [[54892  2460]\n",
            " [ 2054   116]]\n",
            "Precision: 0.04503105590062112\n",
            "Recall: 0.053456221198156684\n",
            "F1 score: 0.048883270122208174\n",
            "ROC AUC score: 0.5052816048102654\n",
            "2 of KFold 10\n",
            "Confusion matrix\n",
            " [[54764  2588]\n",
            " [ 2049   121]]\n",
            "Precision: 0.04466592838685862\n",
            "Recall: 0.05576036866359447\n",
            "F1 score: 0.04960032793605247\n",
            "ROC AUC score: 0.5053177627946234\n",
            "3 of KFold 10\n",
            "Confusion matrix\n",
            " [[54790  2562]\n",
            " [ 2051   118]]\n",
            "Precision: 0.04402985074626865\n",
            "Recall: 0.054402950668510835\n",
            "F1 score: 0.04866982883068674\n",
            "ROC AUC score: 0.5048657241834673\n",
            "4 of KFold 10\n",
            "Confusion matrix\n",
            " [[54987  2365]\n",
            " [ 2055   114]]\n",
            "Precision: 0.045986284792254944\n",
            "Recall: 0.05255878284923928\n",
            "F1 score: 0.04905335628227194\n",
            "ROC AUC score: 0.5056611043552934\n",
            "5 of KFold 10\n",
            "Confusion matrix\n",
            " [[54814  2538]\n",
            " [ 2049   120]]\n",
            "Precision: 0.045146726862302484\n",
            "Recall: 0.05532503457814661\n",
            "F1 score: 0.049720323182100686\n",
            "ROC AUC score: 0.5055360003411029\n",
            "6 of KFold 10\n",
            "Confusion matrix\n",
            " [[54802  2550]\n",
            " [ 2046   123]]\n",
            "Precision: 0.04601571268237935\n",
            "Recall: 0.056708160442600276\n",
            "F1 score: 0.050805452292441135\n",
            "ROC AUC score: 0.5061229461719209\n",
            "7 of KFold 10\n",
            "Confusion matrix\n",
            " [[54890  2462]\n",
            " [ 2043   126]]\n",
            "Precision: 0.04868624420401855\n",
            "Recall: 0.058091286307053944\n",
            "F1 score: 0.05297456380071473\n",
            "ROC AUC score: 0.5075817011811459\n",
            "8 of KFold 10\n",
            "Confusion matrix\n",
            " [[54839  2513]\n",
            " [ 2044   125]]\n",
            "Precision: 0.047384382107657316\n",
            "Recall: 0.05763024435223606\n",
            "F1 score: 0.052007489078427296\n",
            "ROC AUC score: 0.5069065575227494\n",
            "9 of KFold 10\n",
            "Confusion matrix\n",
            " [[54796  2555]\n",
            " [ 2065   105]]\n",
            "Precision: 0.039473684210526314\n",
            "Recall: 0.04838709677419355\n",
            "F1 score: 0.043478260869565216\n",
            "ROC AUC score: 0.5019184354858396\n",
            "10 of KFold 10\n",
            "Confusion matrix\n",
            " [[54820  2531]\n",
            " [ 2060   110]]\n",
            "Precision: 0.041650889814464215\n",
            "Recall: 0.05069124423963134\n",
            "F1 score: 0.04572853876532945\n",
            "ROC AUC score: 0.5032797470696857\n"
          ],
          "name": "stdout"
        }
      ]
    },
    {
      "cell_type": "code",
      "metadata": {
        "id": "HUq3fEqskqe3",
        "colab_type": "code",
        "outputId": "92f67984-7fa6-4d13-de4e-91a23f6f430a",
        "colab": {
          "base_uri": "https://localhost:8080/",
          "height": 159
        }
      },
      "source": [
        "from statistics import mean, stdev\n",
        "print(\"Mean of percision:\", round(mean(cv_percisionDT),3), '\\nStandard Deviation of percision:', round(stdev(cv_percisionDT),3))\n",
        "print(\"Mean of recall:\", round(mean(cv_recallDT),3), '\\nStandard Deviation of recall:', round(stdev(cv_recallDT),3))\n",
        "print(\"Mean of F1score:\", round(mean(cv_F1scoreDT),3), '\\nStandard Deviation of F1score:', round(stdev(cv_F1scoreDT),3))\n",
        "print(\"Mean of Roc score:\", round(mean(cv_scoreDTRoc),3), '\\nStandard Deviation of Roc score:', round(stdev(cv_scoreDTRoc),3))"
      ],
      "execution_count": 10,
      "outputs": [
        {
          "output_type": "stream",
          "text": [
            "Mean of percision: 0.045 \n",
            "Standard Deviation of percision: 0.003\n",
            "Mean of recall: 0.054 \n",
            "Standard Deviation of recall: 0.003\n",
            "Mean of F1score: 0.049 \n",
            "Standard Deviation of F1score: 0.003\n",
            "Mean of Roc score: 0.505 \n",
            "Standard Deviation of Roc score: 0.002\n"
          ],
          "name": "stdout"
        }
      ]
    },
    {
      "cell_type": "code",
      "metadata": {
        "id": "rD_uevDfoEFF",
        "colab_type": "code",
        "outputId": "4cdc7856-8941-4af1-d39c-ff68ad6cba85",
        "colab": {
          "base_uri": "https://localhost:8080/",
          "height": 1000
        }
      },
      "source": [
        "## Random forest\n",
        "from sklearn.ensemble import RandomForestClassifier\n",
        "cv_percisionRF =[]\n",
        "cv_recallRF =[]\n",
        "cv_F1scoreRF =[]\n",
        "cv_scoreRFRoc = []\n",
        "i=1\n",
        "for train_index,test_index in Skf.split(SafeDriver_X,SafeDriver_Y):\n",
        "    print('{} of KFold {}'.format(i,Skf.n_splits))\n",
        "    x_tr,x_v = SafeDriver_X[train_index],SafeDriver_X[test_index]\n",
        "    y_tr,y_v = SafeDriver_Y[train_index],SafeDriver_Y[test_index]\n",
        "    \n",
        "    #model\n",
        "    modelRF = RandomForestClassifier(random_state=1)\n",
        "    modelRF.fit(x_tr,y_tr)\n",
        "\n",
        "    percisionRF=precision_score(y_v,modelRF.predict(x_v))\n",
        "    recallRF=recall_score(y_v,modelRF.predict(x_v))\n",
        "    F1scoreRF=f1_score(y_v,modelRF.predict(x_v))\n",
        "    scoreRFRoc = roc_auc_score(y_v,modelRF.predict(x_v))\n",
        "\n",
        "    cv_percisionRF.append(percisionRF)\n",
        "    cv_recallRF.append(recallRF)\n",
        "    cv_F1scoreRF.append(F1scoreRF)\n",
        "    cv_scoreRFRoc.append(scoreRFRoc)\n",
        "\n",
        "    print('Confusion matrix\\n',confusion_matrix(y_v,modelRF.predict(x_v)))\n",
        "    print('Precision:', precision_score(y_v,modelRF.predict(x_v)))\n",
        "    print('Recall:',recall_score(y_v,modelRF.predict(x_v)))\n",
        "    print('F1 score:', f1_score(y_v,modelRF.predict(x_v)))\n",
        "    print('ROC AUC score:',scoreRFRoc)\n",
        "\n",
        "    i+=1"
      ],
      "execution_count": 11,
      "outputs": [
        {
          "output_type": "stream",
          "text": [
            "1 of KFold 10\n",
            "Confusion matrix\n",
            " [[57350     2]\n",
            " [ 2170     0]]\n",
            "Precision: 0.0\n",
            "Recall: 0.0\n",
            "F1 score: 0.0\n",
            "ROC AUC score: 0.49998256381643186\n",
            "2 of KFold 10\n",
            "Confusion matrix\n",
            " [[57351     1]\n",
            " [ 2169     1]]\n",
            "Precision: 0.5\n",
            "Recall: 0.0004608294930875576\n",
            "F1 score: 0.0009208103130755065\n",
            "ROC AUC score: 0.5002216966547597\n",
            "3 of KFold 10\n",
            "Confusion matrix\n",
            " [[57352     0]\n",
            " [ 2168     1]]\n",
            "Precision: 1.0\n",
            "Recall: 0.0004610419548178884\n",
            "F1 score: 0.0009216589861751152\n",
            "ROC AUC score: 0.5002305209774089\n",
            "4 of KFold 10\n"
          ],
          "name": "stdout"
        },
        {
          "output_type": "stream",
          "text": [
            "/usr/local/lib/python3.6/dist-packages/sklearn/metrics/_classification.py:1272: UndefinedMetricWarning: Precision is ill-defined and being set to 0.0 due to no predicted samples. Use `zero_division` parameter to control this behavior.\n",
            "  _warn_prf(average, modifier, msg_start, len(result))\n"
          ],
          "name": "stderr"
        },
        {
          "output_type": "stream",
          "text": [
            "Confusion matrix\n",
            " [[57352     0]\n",
            " [ 2169     0]]\n"
          ],
          "name": "stdout"
        },
        {
          "output_type": "stream",
          "text": [
            "/usr/local/lib/python3.6/dist-packages/sklearn/metrics/_classification.py:1272: UndefinedMetricWarning: Precision is ill-defined and being set to 0.0 due to no predicted samples. Use `zero_division` parameter to control this behavior.\n",
            "  _warn_prf(average, modifier, msg_start, len(result))\n"
          ],
          "name": "stderr"
        },
        {
          "output_type": "stream",
          "text": [
            "Precision: 0.0\n",
            "Recall: 0.0\n",
            "F1 score: 0.0\n",
            "ROC AUC score: 0.5\n",
            "5 of KFold 10\n",
            "Confusion matrix\n",
            " [[57352     0]\n",
            " [ 2168     1]]\n",
            "Precision: 1.0\n",
            "Recall: 0.0004610419548178884\n",
            "F1 score: 0.0009216589861751152\n",
            "ROC AUC score: 0.5002305209774089\n",
            "6 of KFold 10\n",
            "Confusion matrix\n",
            " [[57351     1]\n",
            " [ 2169     0]]\n",
            "Precision: 0.0\n",
            "Recall: 0.0\n",
            "F1 score: 0.0\n",
            "ROC AUC score: 0.49999128190821596\n",
            "7 of KFold 10\n"
          ],
          "name": "stdout"
        },
        {
          "output_type": "stream",
          "text": [
            "/usr/local/lib/python3.6/dist-packages/sklearn/metrics/_classification.py:1272: UndefinedMetricWarning: Precision is ill-defined and being set to 0.0 due to no predicted samples. Use `zero_division` parameter to control this behavior.\n",
            "  _warn_prf(average, modifier, msg_start, len(result))\n"
          ],
          "name": "stderr"
        },
        {
          "output_type": "stream",
          "text": [
            "Confusion matrix\n",
            " [[57352     0]\n",
            " [ 2169     0]]\n"
          ],
          "name": "stdout"
        },
        {
          "output_type": "stream",
          "text": [
            "/usr/local/lib/python3.6/dist-packages/sklearn/metrics/_classification.py:1272: UndefinedMetricWarning: Precision is ill-defined and being set to 0.0 due to no predicted samples. Use `zero_division` parameter to control this behavior.\n",
            "  _warn_prf(average, modifier, msg_start, len(result))\n"
          ],
          "name": "stderr"
        },
        {
          "output_type": "stream",
          "text": [
            "Precision: 0.0\n",
            "Recall: 0.0\n",
            "F1 score: 0.0\n",
            "ROC AUC score: 0.5\n",
            "8 of KFold 10\n",
            "Confusion matrix\n",
            " [[57350     2]\n",
            " [ 2169     0]]\n",
            "Precision: 0.0\n",
            "Recall: 0.0\n",
            "F1 score: 0.0\n",
            "ROC AUC score: 0.49998256381643186\n",
            "9 of KFold 10\n",
            "Confusion matrix\n",
            " [[57350     1]\n",
            " [ 2169     1]]\n",
            "Precision: 0.5\n",
            "Recall: 0.0004608294930875576\n",
            "F1 score: 0.0009208103130755065\n",
            "ROC AUC score: 0.5002216965027468\n",
            "10 of KFold 10\n",
            "Confusion matrix\n",
            " [[57349     2]\n",
            " [ 2168     2]]\n",
            "Precision: 0.5\n",
            "Recall: 0.0009216589861751152\n",
            "F1 score: 0.0018399264029438822\n",
            "ROC AUC score: 0.5004433930054937\n"
          ],
          "name": "stdout"
        }
      ]
    },
    {
      "cell_type": "code",
      "metadata": {
        "id": "7nGPNhpJs5fd",
        "colab_type": "code",
        "outputId": "0d818a6f-999b-4f35-edf3-e7fbb6f1a8d4",
        "colab": {
          "base_uri": "https://localhost:8080/",
          "height": 159
        }
      },
      "source": [
        "from statistics import mean, stdev\n",
        "print(\"Mean of percision:\", round(mean(cv_percisionRF),3), '\\nStandard Deviation of percision:', round(stdev(cv_percisionRF),3))\n",
        "print(\"Mean of recall:\", round(mean(cv_recallRF),3), '\\nStandard Deviation of recall:', round(stdev(cv_recallRF),3))\n",
        "print(\"Mean of F1score:\", round(mean(cv_F1scoreRF),3), '\\nStandard Deviation of F1score:', round(stdev(cv_F1scoreRF),3))\n",
        "print(\"Mean of Roc score:\", round(mean(cv_scoreRFRoc),3), '\\nStandard Deviation of Roc score:', round(stdev(cv_scoreRFRoc),3))"
      ],
      "execution_count": 12,
      "outputs": [
        {
          "output_type": "stream",
          "text": [
            "Mean of percision: 0.35 \n",
            "Standard Deviation of percision: 0.412\n",
            "Mean of recall: 0.0 \n",
            "Standard Deviation of recall: 0.0\n",
            "Mean of F1score: 0.001 \n",
            "Standard Deviation of F1score: 0.001\n",
            "Mean of Roc score: 0.5 \n",
            "Standard Deviation of Roc score: 0.0\n"
          ],
          "name": "stdout"
        }
      ]
    },
    {
      "cell_type": "markdown",
      "metadata": {
        "id": "_Co-aghfwvrV",
        "colab_type": "text"
      },
      "source": [
        "## 6. Unsupervised Learning\n",
        "6.1  Using the Elbow method and the Silhouette method, identify the number of clusters in the dataset.\n",
        "\n",
        "6.2 K-mean method and save the information"
      ]
    },
    {
      "cell_type": "markdown",
      "metadata": {
        "id": "8lcTxf3gvUKw",
        "colab_type": "text"
      },
      "source": [
        "### 6.1 Using the Elbow method and the Silhouette method, identify the number of clusters in the dataset."
      ]
    },
    {
      "cell_type": "code",
      "metadata": {
        "id": "gSrHmN-ySqgd",
        "colab_type": "code",
        "outputId": "dc3995b4-c506-4917-9a5a-a8fe3dfa757e",
        "colab": {
          "base_uri": "https://localhost:8080/",
          "height": 1000
        }
      },
      "source": [
        "## Elbow method (K-mean method) (stratified cross-validation)\n",
        "### Ref: https://www.kaggle.com/abhishekyadav5/kmeans-clustering-with-elbow-method-and-silhouette\n",
        "from sklearn.cluster import KMeans\n",
        "from sklearn.metrics import silhouette_samples, silhouette_score\n",
        "\n",
        "Skf = StratifiedKFold(n_splits=10,shuffle=True,random_state=49)\n",
        "pred_test_full =0\n",
        "i=1\n",
        "scoreE1_all=[]\n",
        "for train_index,test_index in Skf.split(SafeDriver_X,SafeDriver_Y):\n",
        "    print('{} of KFold {}'.format(i,Skf.n_splits))\n",
        "    x_tr,x_v = SafeDriver_X[train_index],SafeDriver_X[test_index]\n",
        "    y_tr,y_v = SafeDriver_Y[train_index],SafeDriver_Y[test_index]\n",
        "\n",
        "    scoreEl = []\n",
        "    for cluster in range(1,9):\n",
        "        kmeans = KMeans(n_clusters = cluster, init=\"k-means++\", random_state=49)\n",
        "        kmeans.fit(x_tr)\n",
        "        scoreEl.append(kmeans.inertia_)\n",
        "    scoreE1_all.append(scoreEl)\n",
        "\n",
        "    # plotting the score\n",
        "\n",
        "    plt.plot(range(1,9), scoreEl, 'g-o')\n",
        "    plt.title('The Elbow Method')\n",
        "    plt.xlabel('no of clusters')\n",
        "    plt.ylabel('Total within-cluster sum of square')\n",
        "    plt.show()\n",
        "    i+=1\n",
        "    ## Total within-cluster sum of square: https://www.jamleecute.com/partitional-clustering-kmeans-kmedoid/"
      ],
      "execution_count": 13,
      "outputs": [
        {
          "output_type": "stream",
          "text": [
            "1 of KFold 10\n"
          ],
          "name": "stdout"
        },
        {
          "output_type": "display_data",
          "data": {
            "image/png": "[encoded data removed]",
            "text/plain": [
              "<Figure size 432x288 with 1 Axes>"
            ]
          },
          "metadata": {
            "tags": [],
            "needs_background": "light"
          }
        },
        {
          "output_type": "stream",
          "text": [
            "2 of KFold 10\n"
          ],
          "name": "stdout"
        },
        {
          "output_type": "display_data",
          "data": {
            "image/png": "[encoded data removed]",
            "text/plain": [
              "<Figure size 432x288 with 1 Axes>"
            ]
          },
          "metadata": {
            "tags": [],
            "needs_background": "light"
          }
        },
        {
          "output_type": "stream",
          "text": [
            "3 of KFold 10\n"
          ],
          "name": "stdout"
        },
        {
          "output_type": "display_data",
          "data": {
            "image/png": "[encoded data removed]",
            "text/plain": [
              "<Figure size 432x288 with 1 Axes>"
            ]
          },
          "metadata": {
            "tags": [],
            "needs_background": "light"
          }
        },
        {
          "output_type": "stream",
          "text": [
            "4 of KFold 10\n"
          ],
          "name": "stdout"
        },
        {
          "output_type": "display_data",
          "data": {
            "image/png": "[encoded data removed]",
            "text/plain": [
              "<Figure size 432x288 with 1 Axes>"
            ]
          },
          "metadata": {
            "tags": [],
            "needs_background": "light"
          }
        },
        {
          "output_type": "stream",
          "text": [
            "5 of KFold 10\n"
          ],
          "name": "stdout"
        },
        {
          "output_type": "display_data",
          "data": {
            "image/png": "[encoded data removed]",
            "text/plain": [
              "<Figure size 432x288 with 1 Axes>"
            ]
          },
          "metadata": {
            "tags": [],
            "needs_background": "light"
          }
        },
        {
          "output_type": "stream",
          "text": [
            "6 of KFold 10\n"
          ],
          "name": "stdout"
        },
        {
          "output_type": "display_data",
          "data": {
            "image/png": "[encoded data removed]",
            "text/plain": [
              "<Figure size 432x288 with 1 Axes>"
            ]
          },
          "metadata": {
            "tags": [],
            "needs_background": "light"
          }
        },
        {
          "output_type": "stream",
          "text": [
            "7 of KFold 10\n"
          ],
          "name": "stdout"
        },
        {
          "output_type": "display_data",
          "data": {
            "image/png": "[encoded data removed]",
            "text/plain": [
              "<Figure size 432x288 with 1 Axes>"
            ]
          },
          "metadata": {
            "tags": [],
            "needs_background": "light"
          }
        },
        {
          "output_type": "stream",
          "text": [
            "8 of KFold 10\n"
          ],
          "name": "stdout"
        },
        {
          "output_type": "display_data",
          "data": {
            "image/png": "[encoded data removed]",
            "text/plain": [
              "<Figure size 432x288 with 1 Axes>"
            ]
          },
          "metadata": {
            "tags": [],
            "needs_background": "light"
          }
        },
        {
          "output_type": "stream",
          "text": [
            "9 of KFold 10\n"
          ],
          "name": "stdout"
        },
        {
          "output_type": "display_data",
          "data": {
            "image/png": "[encoded data removed]",
            "text/plain": [
              "<Figure size 432x288 with 1 Axes>"
            ]
          },
          "metadata": {
            "tags": [],
            "needs_background": "light"
          }
        },
        {
          "output_type": "stream",
          "text": [
            "10 of KFold 10\n"
          ],
          "name": "stdout"
        },
        {
          "output_type": "display_data",
          "data": {
            "image/png": "[encoded data removed]",
            "text/plain": [
              "<Figure size 432x288 with 1 Axes>"
            ]
          },
          "metadata": {
            "tags": [],
            "needs_background": "light"
          }
        }
      ]
    },
    {
      "cell_type": "code",
      "metadata": {
        "id": "UAGdxUUzW3nv",
        "colab_type": "code",
        "outputId": "4d10a894-11c5-420f-d995-94ebc5bc4c98",
        "colab": {
          "base_uri": "https://localhost:8080/",
          "height": 35
        }
      },
      "source": [
        "## Silhouette score\n",
        "### Ref_1: https://scikit-learn.org/stable/auto_examples/cluster/plot_kmeans_silhouette_analysis.html\n",
        "### Ref_2: https://www.kaggle.com/abhishekyadav5/kmeans-clustering-with-elbow-method-and-silhouette\n",
        "\n",
        "import matplotlib.cm as cm\n",
        "\n",
        "silhouette_avg_list = []\n",
        "n_clusters_list = []\n",
        "for n_clusters in range(2,9):\n",
        "    # Create a subplot with 1 row and 2 columns\n",
        "    fig, (ax1, ax2) = plt.subplots(1, 2)\n",
        "    fig.set_size_inches(18, 7)\n",
        "\n",
        "    # The 1st subplot is the silhouette plot\n",
        "    # The silhouette coefficient can range from -1, 1 but in this example all\n",
        "    # lie within [-0.1, 1]\n",
        "    ax1.set_xlim([-0.1, 1])\n",
        "    # The (n_clusters+1)*10 is for inserting blank space between silhouette\n",
        "    # plots of individual clusters, to demarcate them clearly.\n",
        "    ax1.set_ylim([0, len(x_tr) + (n_clusters + 1) * 10])\n",
        "\n",
        "    # Initialize the clusterer with n_clusters value and a random generator\n",
        "    # seed of 10 for reproducibility.\n",
        "    clusterer = KMeans(n_clusters=n_clusters, random_state=49)\n",
        "    cluster_labels = clusterer.fit_predict(x_tr)\n",
        "\n",
        "    # The silhouette_score gives the average value for all the samples.\n",
        "    # This gives a perspective into the density and separation of the formed\n",
        "    # clusters\n",
        "    silhouette_avg = silhouette_score(x_tr, cluster_labels)\n",
        "    print(\"For n_clusters =\", n_clusters,\n",
        "          \"The average silhouette_score is :\", silhouette_avg)\n",
        "    silhouette_avg_list += [silhouette_avg]\n",
        "    n_clusters_list += [n_clusters]\n",
        "    \n",
        "    # Compute the silhouette scores for each sample\n",
        "    sample_silhouette_values = silhouette_samples(x_tr, cluster_labels)\n",
        "\n",
        "    y_lower = 10\n",
        "    for i in range(n_clusters):\n",
        "        # Aggregate the silhouette scores for samples belonging to\n",
        "        # cluster i, and sort them\n",
        "        ith_cluster_silhouette_values = \\\n",
        "            sample_silhouette_values[cluster_labels == i]\n",
        "\n",
        "        ith_cluster_silhouette_values.sort()\n",
        "\n",
        "        size_cluster_i = ith_cluster_silhouette_values.shape[0]\n",
        "        y_upper = y_lower + size_cluster_i\n",
        "\n",
        "        color = cm.nipy_spectral(float(i) / n_clusters)\n",
        "        ax1.fill_betweenx(np.arange(y_lower, y_upper),\n",
        "                          0, ith_cluster_silhouette_values,\n",
        "                          facecolor=color, edgecolor=color, alpha=0.7)\n",
        "\n",
        "        # Label the silhouette plots with their cluster numbers at the middle\n",
        "        ax1.text(-0.05, y_lower + 0.5 * size_cluster_i, str(i))\n",
        "\n",
        "        # Compute the new y_lower for next plot\n",
        "        y_lower = y_upper + 10  # 10 for the 0 samples\n",
        "\n",
        "    ax1.set_title(\"The silhouette plot for the various clusters.\")\n",
        "    ax1.set_xlabel(\"The silhouette coefficient values\")\n",
        "    ax1.set_ylabel(\"Cluster label\")\n",
        "\n",
        "    # The vertical line for average silhouette score of all the values\n",
        "    ax1.axvline(x=silhouette_avg, color=\"red\", linestyle=\"--\")\n",
        "\n",
        "    ax1.set_yticks([])  # Clear the yaxis labels / ticks\n",
        "    ax1.set_xticks([-0.1, 0, 0.2, 0.4, 0.6, 0.8, 1])\n",
        "\n",
        "    # 2nd Plot showing the actual clusters formed\n",
        "    colors = cm.nipy_spectral(cluster_labels.astype(float) / n_clusters)\n",
        "    ax2.scatter(x_tr[:, 2], x_tr[:, 8], marker='.', s=30, lw=0, alpha=0.7,\n",
        "                c=colors, edgecolor='k')\n",
        "\n",
        "    # Labeling the clusters\n",
        "    centers = clusterer.cluster_centers_\n",
        "    # Draw white circles at cluster centers\n",
        "    ax2.scatter(centers[:, 2], centers[:, 8], marker='o',\n",
        "                c=\"white\", alpha=1, s=200, edgecolor='k')\n",
        "\n",
        "    for i, c in enumerate(centers):\n",
        "        ax2.scatter(c[2], c[8], marker='$%d$' % i, alpha=1,\n",
        "                    s=50, edgecolor='k')\n",
        "\n",
        "    ax2.set_title(\"The visualization of the clustered data.\")\n",
        "    ax2.set_xlabel(\"Feature space for the 3rd feature\")\n",
        "    ax2.set_ylabel(\"Feature space for the 9th feature\")\n",
        "    # ax2.set_xlabel(\"Feature space for the 1st feature\")\n",
        "    # ax2.set_ylabel(\"Feature space for the 2nd feature\")\n",
        "\n",
        "    plt.suptitle((\"Silhouette analysis for KMeans clustering on sample data \"\n",
        "                  \"with n_clusters = %d\" % n_clusters),\n",
        "                 fontsize=14, fontweight='bold')\n",
        "\n",
        "plt.show()"
      ],
      "execution_count": 0,
      "outputs": [
        {
          "output_type": "stream",
          "text": [
            "For n_clusters = 2 The average silhouette_score is : 0.0719770227229144\n"
          ],
          "name": "stdout"
        }
      ]
    },
    {
      "cell_type": "code",
      "metadata": {
        "id": "nX1e7e7oHv6R",
        "colab_type": "code",
        "colab": {}
      },
      "source": [
        "plt.plot(n_clusters_list, silhouette_avg_list, 'g-o')\n",
        "plt.title('The Silhouette method')\n",
        "plt.xlabel('no of clusters')\n",
        "plt.ylabel('The Silhouette score')\n",
        "plt.show()\n",
        "print(silhouette_avg_list)"
      ],
      "execution_count": 0,
      "outputs": []
    },
    {
      "cell_type": "markdown",
      "metadata": {
        "id": "tZ05FTkQvlqF",
        "colab_type": "text"
      },
      "source": [
        "### 6.2 K-mean method and save the information"
      ]
    },
    {
      "cell_type": "code",
      "metadata": {
        "id": "WQPbedWIH5Nq",
        "colab_type": "code",
        "colab": {}
      },
      "source": [
        "## Ref: https://scikit-learn.org/stable/modules/generated/sklearn.cluster.KMeans.html\n",
        "from sklearn.cluster import KMeans\n",
        "kmeans = KMeans(n_clusters=2, random_state=49).fit(x_tr)\n",
        "kmLabels = kmeans.labels_\n",
        "Label = [np.count_nonzero(kmLabels==0),np.count_nonzero(kmLabels==1)]\n",
        "centroids = kmeans.cluster_centers_\n",
        "print('Label:', Label)\n",
        "print('Centroids',centroids)"
      ],
      "execution_count": 0,
      "outputs": []
    },
    {
      "cell_type": "markdown",
      "metadata": {
        "id": "VXEXg3nyMVHp",
        "colab_type": "text"
      },
      "source": [
        "## 7. Mixture Method\n",
        "A new approach to dealing with imbalanced datasets, based on a mixture of\n",
        "supervised and unsupervised learning."
      ]
    },
    {
      "cell_type": "code",
      "metadata": {
        "id": "KAzGALWJnRfg",
        "colab_type": "code",
        "colab": {}
      },
      "source": [
        "## Partition each of the datasets into 10 bins\n",
        "## , keeping the imbalance ratio from the original dataset \n",
        "## Ref: https://towardsdatascience.com/k-means-clustering-algorithm-applications-evaluation-methods-and-drawbacks-aa03e644b48a\n",
        "\n",
        "Skf = StratifiedKFold(n_splits=10,shuffle=True,random_state=49)\n",
        "pred_test_full =0\n",
        "Label_all = []\n",
        "centroids_all = []\n",
        "\n",
        "cv_percisionRFnew =[]\n",
        "cv_recallRFnew =[]\n",
        "cv_F1scoreRFnew =[]\n",
        "cv_scoreRFRocnew = []\n",
        "\n",
        "ConfusionMatrix_all = []\n",
        "\n",
        "i=1\n",
        "\n",
        "## Use different 9 bins in training dataset,\n",
        "## and remain one to be the testing dataset\n",
        "for train_index,test_index in Skf.split(SafeDriver_X,SafeDriver_Y):\n",
        "    print('{} of KFold {}'.format(i,Skf.n_splits))\n",
        "    x_tr,x_v = SafeDriver_X[train_index],SafeDriver_X[test_index]\n",
        "    y_tr,y_v = SafeDriver_Y[train_index],SafeDriver_Y[test_index]\n",
        "\n",
        "    from sklearn.cluster import KMeans\n",
        "    kmeans = KMeans(n_clusters=2, random_state=49).fit(x_tr)\n",
        "    kmLabels = kmeans.labels_\n",
        "    ## save the centroid and the number of samples in each cluster in each 9 bins\n",
        "    Label = [np.count_nonzero(kmLabels==0),np.count_nonzero(kmLabels==1)]\n",
        "    Label_all += [Label]\n",
        "    centroids = kmeans.cluster_centers_\n",
        "    centroids_all += [centroids]\n",
        "\n",
        "    ## plot the distribution of samples and the centroids\n",
        "    plt.figure(figsize=(8,5))\n",
        "    plt.title(\"SafeDriver of data points\" \"(%d of KFold 10)\" %i, fontsize=18)\n",
        "    plt.grid(True)\n",
        "    plt.scatter(x_tr[kmeans.labels_ == 0, 2], x_tr[kmeans.labels_ == 0, 8],\n",
        "                c='purple', label='cluster 0')\n",
        "    plt.scatter(x_tr[kmeans.labels_ == 1, 2], x_tr[kmeans.labels_ == 1, 8],\n",
        "                c='yellow', label='cluster 1')\n",
        "    plt.scatter(centroids[0, 2], centroids[0, 8], marker='*', s=300, c='g', label='centroid 0')\n",
        "    plt.scatter(centroids[1, 2], centroids[1, 8], marker='*', s=300, c='r', label='centroid 1')\n",
        "    plt.legend()\n",
        "    plt.savefig('SafeDriver_Kmean_' + str(i) + 'of K fold 10.png', dpi=300)\n",
        "    plt.show()\n",
        "\n",
        "    ## train and test the dataset in random forest model\n",
        "    modelRFnew = RandomForestClassifier(random_state=42)\n",
        "    modelRFnew.fit(x_tr,kmLabels)\n",
        "\n",
        "    percisionRFnew=precision_score(y_v,modelRFnew.predict(x_v))\n",
        "    recallRFnew=recall_score(y_v,modelRFnew.predict(x_v))\n",
        "    F1scoreRFnew=f1_score(y_v,modelRFnew.predict(x_v))\n",
        "    scoreRFRocnew = roc_auc_score(y_v,modelRFnew.predict(x_v))\n",
        "\n",
        "    cv_percisionRFnew.append(percisionRFnew)\n",
        "    cv_recallRFnew.append(recallRFnew)\n",
        "    cv_F1scoreRFnew.append(F1scoreRFnew)\n",
        "    cv_scoreRFRocnew.append(scoreRFRocnew)\n",
        "\n",
        "    print('Confusion matrix\\n',confusion_matrix(y_v,modelRFnew.predict(x_v)))\n",
        "    print('Precision:', precision_score(y_v,modelRFnew.predict(x_v)))\n",
        "    print('Recall:',recall_score(y_v,modelRFnew.predict(x_v)))\n",
        "    print('F1 score:', f1_score(y_v,modelRFnew.predict(x_v)))\n",
        "    print('ROC AUC score:',scoreRFRocnew)\n",
        "    \n",
        "    from sklearn.metrics import confusion_matrix    \n",
        "    ConfusionMatrix = confusion_matrix(y_v, modelRFnew.predict(x_v))\n",
        "    ConfusionMatrix_all += [ConfusionMatrix]\n",
        "    i+=1"
      ],
      "execution_count": 0,
      "outputs": []
    },
    {
      "cell_type": "code",
      "metadata": {
        "id": "Lu5qJ3_22olt",
        "colab_type": "code",
        "colab": {}
      },
      "source": [
        "from statistics import mean, stdev\n",
        "print(\"Mean of percision:\", round(mean(cv_percisionRFnew),3), '\\nStandard Deviation of percision:', round(stdev(cv_percisionRFnew),3))\n",
        "print(\"Mean of recall:\", round(mean(cv_recallRFnew),3), '\\nStandard Deviation of recall:', round(stdev(cv_recallRFnew),3))\n",
        "print(\"Mean of F1score:\", round(mean(cv_F1scoreRFnew),3), '\\nStandard Deviation of F1score:', round(stdev(cv_F1scoreRFnew),3))\n",
        "print(\"Mean of Roc score:\", round(mean(cv_scoreRFRocnew),3), '\\nStandard Deviation of Roc score:', round(stdev(cv_scoreRFRocnew),3))"
      ],
      "execution_count": 0,
      "outputs": []
    },
    {
      "cell_type": "markdown",
      "metadata": {
        "id": "aWzNvNw2KTfw",
        "colab_type": "text"
      },
      "source": [
        "##  8.Compare Results"
      ]
    },
    {
      "cell_type": "code",
      "metadata": {
        "id": "yXU_EeVMG48R",
        "colab_type": "code",
        "colab": {}
      },
      "source": [
        "## Ref:https://plotly.com/python/box-plots/\n",
        "## A boxplot of the cross-validation results for each method\n",
        "import plotly.graph_objects as go\n",
        "\n",
        "x = ['Percision', 'Percision', 'Percision', 'Percision', 'Percision', 'Percision', 'Percision', 'Percision', 'Percision', 'Percision', 'Percision', 'Percision',\n",
        "     'Recall', 'Recall', 'Recall', 'Recall', 'Recall', 'Recall', 'Recall', 'Recall', 'Recall', 'Recall', 'Recall', 'Recall',\n",
        "     'F1 Score', 'F1 Score', 'F1 Score', 'F1 Score', 'F1 Score', 'F1 Score', 'F1 Score', 'F1 Score', 'F1 Score', 'F1 Score', 'F1 Score', 'F1 Score',\n",
        "     'ROC-AUC Score', 'ROC-AUC Score', 'ROC-AUC Score', 'ROC-AUC Score', 'ROC-AUC Score', 'ROC-AUC Score', 'ROC-AUC Score', 'ROC-AUC Score', 'ROC-AUC Score', 'ROC-AUC Score', 'ROC-AUC Score', 'ROC-AUC Score']\n",
        "\n",
        "fig = go.Figure()\n",
        "\n",
        "fig.add_trace(go.Box(\n",
        "    y=cv_percisionDT+cv_recallDT+cv_F1scoreDT+cv_scoreDTRoc,\n",
        "    x=x,\n",
        "    name='Decision Tree',\n",
        "    marker_color='#3D9970'\n",
        "))\n",
        "fig.add_trace(go.Box(\n",
        "    y=cv_percisionRF+cv_recallRF+cv_F1scoreRF+cv_scoreRFRoc,\n",
        "    x=x,\n",
        "    name='Random Forest',\n",
        "    marker_color='#FF4136'\n",
        "))\n",
        "fig.add_trace(go.Box(\n",
        "    y=cv_percisionRFnew+cv_recallRFnew+cv_F1scoreRFnew+cv_scoreRFRocnew,\n",
        "    x=x,\n",
        "    name='Mixture Method',\n",
        "    marker_color='#FF851B'\n",
        "))\n",
        "\n",
        "\n",
        "fig.update_layout(\n",
        "    yaxis_title='Score',\n",
        "    boxmode='group' # group together boxes of the different traces for each value of x\n",
        ")\n",
        "fig.show()"
      ],
      "execution_count": 0,
      "outputs": []
    }
  ]
}