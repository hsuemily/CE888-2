{
  "nbformat": 4,
  "nbformat_minor": 0,
  "metadata": {
    "colab": {
      "name": "Dataset1 Titanic.ipynb",
      "provenance": [],
      "collapsed_sections": [],
      "authorship_tag": "ABX9TyPIEyp2IITR4+7u4gGMW+SN",
      "include_colab_link": true
    },
    "kernelspec": {
      "name": "python3",
      "display_name": "Python 3"
    }
  },
  "cells": [
    {
      "cell_type": "markdown",
      "metadata": {
        "id": "view-in-github",
        "colab_type": "text"
      },
      "source": [
        "<a href=\"https://colab.research.google.com/github/hsuemily/CE888_Hsu-Chi-Rou_1900759/blob/master/Assignment/Dataset1_Titanic.ipynb\" target=\"_parent\"><img src=\"https://colab.research.google.com/assets/colab-badge.svg\" alt=\"Open In Colab\"/></a>"
      ]
    },
    {
      "cell_type": "markdown",
      "metadata": {
        "id": "P2MbAQjr16Ag",
        "colab_type": "text"
      },
      "source": [
        "## 1. Import Library"
      ]
    },
    {
      "cell_type": "code",
      "metadata": {
        "id": "SSWjejzz13Hm",
        "colab_type": "code",
        "colab": {}
      },
      "source": [
        "# Import library\n",
        "import matplotlib\n",
        "import numpy as np\n",
        "import matplotlib.pyplot as plt\n",
        "import pandas as pd\n",
        "import seaborn as sns\n",
        "import os\n",
        "from sklearn.preprocessing import OneHotEncoder, LabelEncoder, MinMaxScaler"
      ],
      "execution_count": 0,
      "outputs": []
    },
    {
      "cell_type": "markdown",
      "metadata": {
        "id": "jLYX_J-qSlOE",
        "colab_type": "text"
      },
      "source": [
        "## 2.  Load Dataset"
      ]
    },
    {
      "cell_type": "code",
      "metadata": {
        "id": "xcrjJN8bzDfk",
        "colab_type": "code",
        "outputId": "ca84d11e-e8ba-4c4b-89d5-97aa650784a2",
        "colab": {
          "base_uri": "https://localhost:8080/",
          "height": 88
        }
      },
      "source": [
        "# Load data\n",
        "# Colab library to upload files to notebook, Ref:https://medium.com/@saedhussain/google-colaboratory-and-kaggle-datasets-b57a83eb6ef8\n",
        "from google.colab import files\n",
        "\n",
        "# Install Kaggle library\n",
        "!pip install -q kaggle\n",
        "\n",
        "# Load data from Kaggle to Google Colab virtual machine\n",
        "os.environ['KAGGLE_USERNAME'] = \"emilyhsucr\" # username from the json file\n",
        "os.environ['KAGGLE_KEY'] = \"3b6aa5aa02b468c89e4cfac52a5d992e\" # key from the json file\n",
        "!kaggle competitions download -c porto-seguro-safe-driver-prediction # api copied from kaggle"
      ],
      "execution_count": 232,
      "outputs": [
        {
          "output_type": "stream",
          "text": [
            "Warning: Looks like you're using an outdated API Version, please consider updating (server 1.5.6 / client 1.5.4)\n",
            "train.csv.zip: Skipping, found more recently modified local copy (use --force to force download)\n",
            "sample_submission.csv.zip: Skipping, found more recently modified local copy (use --force to force download)\n",
            "test.csv.zip: Skipping, found more recently modified local copy (use --force to force download)\n"
          ],
          "name": "stdout"
        }
      ]
    },
    {
      "cell_type": "code",
      "metadata": {
        "id": "fmK4BGDPo8M3",
        "colab_type": "code",
        "colab": {}
      },
      "source": [
        "# Titanic\n",
        "Titanic = pd.read_csv(\"https://raw.githubusercontent.com/hsuemily/CE888_Hsu-Chi-Rou_1900759/master/Assignment/titanic_train.csv\", delimiter = \",\")\n"
      ],
      "execution_count": 0,
      "outputs": []
    },
    {
      "cell_type": "code",
      "metadata": {
        "id": "tO6CzvuwzMA8",
        "colab_type": "code",
        "outputId": "924e54c8-ea16-491a-bb5c-ce954dd9351a",
        "colab": {
          "base_uri": "https://localhost:8080/",
          "height": 199
        }
      },
      "source": [
        "Titanic.head(5)"
      ],
      "execution_count": 234,
      "outputs": [
        {
          "output_type": "execute_result",
          "data": {
            "text/html": [
              "<div>\n",
              "<style scoped>\n",
              "    .dataframe tbody tr th:only-of-type {\n",
              "        vertical-align: middle;\n",
              "    }\n",
              "\n",
              "    .dataframe tbody tr th {\n",
              "        vertical-align: top;\n",
              "    }\n",
              "\n",
              "    .dataframe thead th {\n",
              "        text-align: right;\n",
              "    }\n",
              "</style>\n",
              "<table border=\"1\" class=\"dataframe\">\n",
              "  <thead>\n",
              "    <tr style=\"text-align: right;\">\n",
              "      <th></th>\n",
              "      <th>PassengerId</th>\n",
              "      <th>Survived</th>\n",
              "      <th>Pclass</th>\n",
              "      <th>Name</th>\n",
              "      <th>Sex</th>\n",
              "      <th>Age</th>\n",
              "      <th>SibSp</th>\n",
              "      <th>Parch</th>\n",
              "      <th>Ticket</th>\n",
              "      <th>Fare</th>\n",
              "      <th>Cabin</th>\n",
              "      <th>Embarked</th>\n",
              "    </tr>\n",
              "  </thead>\n",
              "  <tbody>\n",
              "    <tr>\n",
              "      <th>0</th>\n",
              "      <td>1</td>\n",
              "      <td>0</td>\n",
              "      <td>3</td>\n",
              "      <td>Braund, Mr. Owen Harris</td>\n",
              "      <td>male</td>\n",
              "      <td>22.0</td>\n",
              "      <td>1</td>\n",
              "      <td>0</td>\n",
              "      <td>A/5 21171</td>\n",
              "      <td>7.2500</td>\n",
              "      <td>NaN</td>\n",
              "      <td>S</td>\n",
              "    </tr>\n",
              "    <tr>\n",
              "      <th>1</th>\n",
              "      <td>2</td>\n",
              "      <td>1</td>\n",
              "      <td>1</td>\n",
              "      <td>Cumings, Mrs. John Bradley (Florence Briggs Th...</td>\n",
              "      <td>female</td>\n",
              "      <td>38.0</td>\n",
              "      <td>1</td>\n",
              "      <td>0</td>\n",
              "      <td>PC 17599</td>\n",
              "      <td>71.2833</td>\n",
              "      <td>C85</td>\n",
              "      <td>C</td>\n",
              "    </tr>\n",
              "    <tr>\n",
              "      <th>2</th>\n",
              "      <td>3</td>\n",
              "      <td>1</td>\n",
              "      <td>3</td>\n",
              "      <td>Heikkinen, Miss. Laina</td>\n",
              "      <td>female</td>\n",
              "      <td>26.0</td>\n",
              "      <td>0</td>\n",
              "      <td>0</td>\n",
              "      <td>STON/O2. 3101282</td>\n",
              "      <td>7.9250</td>\n",
              "      <td>NaN</td>\n",
              "      <td>S</td>\n",
              "    </tr>\n",
              "    <tr>\n",
              "      <th>3</th>\n",
              "      <td>4</td>\n",
              "      <td>1</td>\n",
              "      <td>1</td>\n",
              "      <td>Futrelle, Mrs. Jacques Heath (Lily May Peel)</td>\n",
              "      <td>female</td>\n",
              "      <td>35.0</td>\n",
              "      <td>1</td>\n",
              "      <td>0</td>\n",
              "      <td>113803</td>\n",
              "      <td>53.1000</td>\n",
              "      <td>C123</td>\n",
              "      <td>S</td>\n",
              "    </tr>\n",
              "    <tr>\n",
              "      <th>4</th>\n",
              "      <td>5</td>\n",
              "      <td>0</td>\n",
              "      <td>3</td>\n",
              "      <td>Allen, Mr. William Henry</td>\n",
              "      <td>male</td>\n",
              "      <td>35.0</td>\n",
              "      <td>0</td>\n",
              "      <td>0</td>\n",
              "      <td>373450</td>\n",
              "      <td>8.0500</td>\n",
              "      <td>NaN</td>\n",
              "      <td>S</td>\n",
              "    </tr>\n",
              "  </tbody>\n",
              "</table>\n",
              "</div>"
            ],
            "text/plain": [
              "   PassengerId  Survived  Pclass  ...     Fare Cabin  Embarked\n",
              "0            1         0       3  ...   7.2500   NaN         S\n",
              "1            2         1       1  ...  71.2833   C85         C\n",
              "2            3         1       3  ...   7.9250   NaN         S\n",
              "3            4         1       1  ...  53.1000  C123         S\n",
              "4            5         0       3  ...   8.0500   NaN         S\n",
              "\n",
              "[5 rows x 12 columns]"
            ]
          },
          "metadata": {
            "tags": []
          },
          "execution_count": 234
        }
      ]
    },
    {
      "cell_type": "code",
      "metadata": {
        "id": "cZDpwT06Zjqo",
        "colab_type": "code",
        "outputId": "3d4b7459-6c1b-4150-e9f7-64b1ad8c10cc",
        "colab": {
          "base_uri": "https://localhost:8080/",
          "height": 354
        }
      },
      "source": [
        "Titanic.info()"
      ],
      "execution_count": 235,
      "outputs": [
        {
          "output_type": "stream",
          "text": [
            "<class 'pandas.core.frame.DataFrame'>\n",
            "RangeIndex: 891 entries, 0 to 890\n",
            "Data columns (total 12 columns):\n",
            " #   Column       Non-Null Count  Dtype  \n",
            "---  ------       --------------  -----  \n",
            " 0   PassengerId  891 non-null    int64  \n",
            " 1   Survived     891 non-null    int64  \n",
            " 2   Pclass       891 non-null    int64  \n",
            " 3   Name         891 non-null    object \n",
            " 4   Sex          891 non-null    object \n",
            " 5   Age          714 non-null    float64\n",
            " 6   SibSp        891 non-null    int64  \n",
            " 7   Parch        891 non-null    int64  \n",
            " 8   Ticket       891 non-null    object \n",
            " 9   Fare         891 non-null    float64\n",
            " 10  Cabin        204 non-null    object \n",
            " 11  Embarked     889 non-null    object \n",
            "dtypes: float64(2), int64(5), object(5)\n",
            "memory usage: 83.7+ KB\n"
          ],
          "name": "stdout"
        }
      ]
    },
    {
      "cell_type": "markdown",
      "metadata": {
        "id": "jEIQxqqP2P9B",
        "colab_type": "text"
      },
      "source": [
        "## 3. Data Visualization"
      ]
    },
    {
      "cell_type": "code",
      "metadata": {
        "id": "aX2mj4SrpOjm",
        "colab_type": "code",
        "outputId": "841b02cb-042b-4d9d-ebe3-a77ef0b1fab9",
        "colab": {
          "base_uri": "https://localhost:8080/",
          "height": 331
        }
      },
      "source": [
        "# Plot histogram of the label Survived in Titanic dataset\n",
        "# Ref: https://stackoverflow.com/questions/28418988/how-to-make-a-histogram-from-a-list-of-strings-in-python\n",
        "# Ref: https://www.kaggle.com/rafjaa/resampling-strategies-for-imbalanced-datasets\n",
        "pd.Series(Titanic['Survived']).value_counts().plot(kind='bar',title='Titanic: count (survived)')\n",
        "target_count = Titanic.Survived.value_counts()\n",
        "print('Not Survival:', target_count[0])\n",
        "print('Survival:', target_count[1])\n",
        "print('Imbalance rate:', round((target_count[0] / (target_count[0]+target_count[1]))*100, 2), '%')"
      ],
      "execution_count": 236,
      "outputs": [
        {
          "output_type": "stream",
          "text": [
            "Not Survival: 549\n",
            "Survival: 342\n",
            "Imbalance rate: 61.62 %\n"
          ],
          "name": "stdout"
        },
        {
          "output_type": "display_data",
          "data": {
            "image/png": "[encoded data removed]",
            "text/plain": [
              "<Figure size 432x288 with 1 Axes>"
            ]
          },
          "metadata": {
            "tags": [],
            "needs_background": "light"
          }
        }
      ]
    },
    {
      "cell_type": "markdown",
      "metadata": {
        "id": "V7sgM8Bl_Ddi",
        "colab_type": "text"
      },
      "source": [
        "## 4. Data Preprocessing\n",
        " - 4.1 Missing Value\n",
        " - 4.2 Normalization\n",
        " - 4.3 Lable encoding or one hot encoding"
      ]
    },
    {
      "cell_type": "markdown",
      "metadata": {
        "id": "clG5rNwDSz5K",
        "colab_type": "text"
      },
      "source": [
        "### 4.1 Missing Value"
      ]
    },
    {
      "cell_type": "code",
      "metadata": {
        "id": "M3N6VzM3_J-Z",
        "colab_type": "code",
        "outputId": "e1106933-3f9b-43dd-e573-d8507cfdac09",
        "colab": {
          "base_uri": "https://localhost:8080/",
          "height": 199
        }
      },
      "source": [
        "# dealing with missing value\n",
        "\n",
        "#*****Titanic\n",
        "total = Titanic.isnull().sum().sort_values(ascending=False)\n",
        "# summarize the amount of missing value in each attributes, and then sort it by descending order\n",
        "# percent = the counts of missing value /the counts of item (in each attribute)\n",
        "percent = (Titanic.isnull().sum()/Titanic.isnull().count()).sort_values(ascending=False)\n",
        "missing_data = pd.concat([total,percent],axis=1,keys=['Total','Percent'])\n",
        "missing_data.head()"
      ],
      "execution_count": 237,
      "outputs": [
        {
          "output_type": "execute_result",
          "data": {
            "text/html": [
              "<div>\n",
              "<style scoped>\n",
              "    .dataframe tbody tr th:only-of-type {\n",
              "        vertical-align: middle;\n",
              "    }\n",
              "\n",
              "    .dataframe tbody tr th {\n",
              "        vertical-align: top;\n",
              "    }\n",
              "\n",
              "    .dataframe thead th {\n",
              "        text-align: right;\n",
              "    }\n",
              "</style>\n",
              "<table border=\"1\" class=\"dataframe\">\n",
              "  <thead>\n",
              "    <tr style=\"text-align: right;\">\n",
              "      <th></th>\n",
              "      <th>Total</th>\n",
              "      <th>Percent</th>\n",
              "    </tr>\n",
              "  </thead>\n",
              "  <tbody>\n",
              "    <tr>\n",
              "      <th>Cabin</th>\n",
              "      <td>687</td>\n",
              "      <td>0.771044</td>\n",
              "    </tr>\n",
              "    <tr>\n",
              "      <th>Age</th>\n",
              "      <td>177</td>\n",
              "      <td>0.198653</td>\n",
              "    </tr>\n",
              "    <tr>\n",
              "      <th>Embarked</th>\n",
              "      <td>2</td>\n",
              "      <td>0.002245</td>\n",
              "    </tr>\n",
              "    <tr>\n",
              "      <th>Fare</th>\n",
              "      <td>0</td>\n",
              "      <td>0.000000</td>\n",
              "    </tr>\n",
              "    <tr>\n",
              "      <th>Ticket</th>\n",
              "      <td>0</td>\n",
              "      <td>0.000000</td>\n",
              "    </tr>\n",
              "  </tbody>\n",
              "</table>\n",
              "</div>"
            ],
            "text/plain": [
              "          Total   Percent\n",
              "Cabin       687  0.771044\n",
              "Age         177  0.198653\n",
              "Embarked      2  0.002245\n",
              "Fare          0  0.000000\n",
              "Ticket        0  0.000000"
            ]
          },
          "metadata": {
            "tags": []
          },
          "execution_count": 237
        }
      ]
    },
    {
      "cell_type": "code",
      "metadata": {
        "id": "xpZuMfbGBoBI",
        "colab_type": "code",
        "outputId": "e2944317-31cf-4864-8467-1d17c6ab435e",
        "colab": {
          "base_uri": "https://localhost:8080/",
          "height": 439
        }
      },
      "source": [
        "sns.distplot(Titanic['Age'])\n",
        "Titanic['Age'].describe()"
      ],
      "execution_count": 238,
      "outputs": [
        {
          "output_type": "execute_result",
          "data": {
            "text/plain": [
              "count    714.000000\n",
              "mean      29.699118\n",
              "std       14.526497\n",
              "min        0.420000\n",
              "25%       20.125000\n",
              "50%       28.000000\n",
              "75%       38.000000\n",
              "max       80.000000\n",
              "Name: Age, dtype: float64"
            ]
          },
          "metadata": {
            "tags": []
          },
          "execution_count": 238
        },
        {
          "output_type": "display_data",
          "data": {
            "image/png": "[encoded data removed]",
            "text/plain": [
              "<Figure size 432x288 with 1 Axes>"
            ]
          },
          "metadata": {
            "tags": [],
            "needs_background": "light"
          }
        }
      ]
    },
    {
      "cell_type": "code",
      "metadata": {
        "id": "2qqUbmkWCeFS",
        "colab_type": "code",
        "colab": {}
      },
      "source": [
        "# median\n",
        "Titanic_copy = Titanic.copy() # copy: copy the original data in order to keep the original data \n",
        "Titanic_copy.loc[Titanic_copy['Age'].isnull(),'Age']=Titanic_copy['Age'].mean(skipna=True)"
      ],
      "execution_count": 0,
      "outputs": []
    },
    {
      "cell_type": "code",
      "metadata": {
        "id": "tjHTleRzC0I0",
        "colab_type": "code",
        "colab": {}
      },
      "source": [
        "#dealing with missing data\n",
        "# fill them into none\n",
        "cols1 = [\"Cabin\"]\n",
        "for col in cols1:\n",
        "    Titanic_copy[col].fillna(\"None\", inplace=True)"
      ],
      "execution_count": 0,
      "outputs": []
    },
    {
      "cell_type": "code",
      "metadata": {
        "id": "jlRQasilicsc",
        "colab_type": "code",
        "colab": {}
      },
      "source": [
        "# drop the missing value in \"Embarked\" column\n",
        "Titanic_copy=Titanic_copy.dropna()"
      ],
      "execution_count": 0,
      "outputs": []
    },
    {
      "cell_type": "code",
      "metadata": {
        "id": "lYZ6QdD4jzO0",
        "colab_type": "code",
        "outputId": "6fbd7350-6058-4b00-e2d6-070be1cc6dd5",
        "colab": {
          "base_uri": "https://localhost:8080/",
          "height": 199
        }
      },
      "source": [
        "#*****Titanic- check for the missing dataset again\n",
        "total = Titanic_copy.isnull().sum().sort_values(ascending=False)\n",
        "percent = (Titanic_copy.isnull().sum()/Titanic_copy.isnull().count()).sort_values(ascending=False)\n",
        "missing_data = pd.concat([total,percent],axis=1,keys=['Total','Percent'])\n",
        "missing_data.head()"
      ],
      "execution_count": 242,
      "outputs": [
        {
          "output_type": "execute_result",
          "data": {
            "text/html": [
              "<div>\n",
              "<style scoped>\n",
              "    .dataframe tbody tr th:only-of-type {\n",
              "        vertical-align: middle;\n",
              "    }\n",
              "\n",
              "    .dataframe tbody tr th {\n",
              "        vertical-align: top;\n",
              "    }\n",
              "\n",
              "    .dataframe thead th {\n",
              "        text-align: right;\n",
              "    }\n",
              "</style>\n",
              "<table border=\"1\" class=\"dataframe\">\n",
              "  <thead>\n",
              "    <tr style=\"text-align: right;\">\n",
              "      <th></th>\n",
              "      <th>Total</th>\n",
              "      <th>Percent</th>\n",
              "    </tr>\n",
              "  </thead>\n",
              "  <tbody>\n",
              "    <tr>\n",
              "      <th>Embarked</th>\n",
              "      <td>0</td>\n",
              "      <td>0.0</td>\n",
              "    </tr>\n",
              "    <tr>\n",
              "      <th>Cabin</th>\n",
              "      <td>0</td>\n",
              "      <td>0.0</td>\n",
              "    </tr>\n",
              "    <tr>\n",
              "      <th>Fare</th>\n",
              "      <td>0</td>\n",
              "      <td>0.0</td>\n",
              "    </tr>\n",
              "    <tr>\n",
              "      <th>Ticket</th>\n",
              "      <td>0</td>\n",
              "      <td>0.0</td>\n",
              "    </tr>\n",
              "    <tr>\n",
              "      <th>Parch</th>\n",
              "      <td>0</td>\n",
              "      <td>0.0</td>\n",
              "    </tr>\n",
              "  </tbody>\n",
              "</table>\n",
              "</div>"
            ],
            "text/plain": [
              "          Total  Percent\n",
              "Embarked      0      0.0\n",
              "Cabin         0      0.0\n",
              "Fare          0      0.0\n",
              "Ticket        0      0.0\n",
              "Parch         0      0.0"
            ]
          },
          "metadata": {
            "tags": []
          },
          "execution_count": 242
        }
      ]
    },
    {
      "cell_type": "markdown",
      "metadata": {
        "id": "n0n0-wD_S-o3",
        "colab_type": "text"
      },
      "source": [
        "### 4.2 Normalization"
      ]
    },
    {
      "cell_type": "code",
      "metadata": {
        "id": "mDpgg7-FTLg0",
        "colab_type": "code",
        "outputId": "c17870e6-9a3a-478e-f0a3-413d5f5c7d84",
        "colab": {
          "base_uri": "https://localhost:8080/",
          "height": 290
        }
      },
      "source": [
        "# Normalize dataset - Titanic\n",
        "for col in Titanic_copy.select_dtypes(include='number').columns:\n",
        "    mms = MinMaxScaler()\n",
        "    Titanic_copy[col] = mms.fit_transform(Titanic_copy[[col]])\n",
        "Titanic_copy.describe()"
      ],
      "execution_count": 243,
      "outputs": [
        {
          "output_type": "execute_result",
          "data": {
            "text/html": [
              "<div>\n",
              "<style scoped>\n",
              "    .dataframe tbody tr th:only-of-type {\n",
              "        vertical-align: middle;\n",
              "    }\n",
              "\n",
              "    .dataframe tbody tr th {\n",
              "        vertical-align: top;\n",
              "    }\n",
              "\n",
              "    .dataframe thead th {\n",
              "        text-align: right;\n",
              "    }\n",
              "</style>\n",
              "<table border=\"1\" class=\"dataframe\">\n",
              "  <thead>\n",
              "    <tr style=\"text-align: right;\">\n",
              "      <th></th>\n",
              "      <th>PassengerId</th>\n",
              "      <th>Survived</th>\n",
              "      <th>Pclass</th>\n",
              "      <th>Age</th>\n",
              "      <th>SibSp</th>\n",
              "      <th>Parch</th>\n",
              "      <th>Fare</th>\n",
              "    </tr>\n",
              "  </thead>\n",
              "  <tbody>\n",
              "    <tr>\n",
              "      <th>count</th>\n",
              "      <td>889.000000</td>\n",
              "      <td>889.000000</td>\n",
              "      <td>889.000000</td>\n",
              "      <td>889.000000</td>\n",
              "      <td>889.000000</td>\n",
              "      <td>889.000000</td>\n",
              "      <td>889.000000</td>\n",
              "    </tr>\n",
              "    <tr>\n",
              "      <th>mean</th>\n",
              "      <td>0.500000</td>\n",
              "      <td>0.382452</td>\n",
              "      <td>0.655793</td>\n",
              "      <td>0.367347</td>\n",
              "      <td>0.065523</td>\n",
              "      <td>0.063742</td>\n",
              "      <td>0.062649</td>\n",
              "    </tr>\n",
              "    <tr>\n",
              "      <th>std</th>\n",
              "      <td>0.288762</td>\n",
              "      <td>0.486260</td>\n",
              "      <td>0.417350</td>\n",
              "      <td>0.162960</td>\n",
              "      <td>0.137963</td>\n",
              "      <td>0.134460</td>\n",
              "      <td>0.097003</td>\n",
              "    </tr>\n",
              "    <tr>\n",
              "      <th>min</th>\n",
              "      <td>0.000000</td>\n",
              "      <td>0.000000</td>\n",
              "      <td>0.000000</td>\n",
              "      <td>0.000000</td>\n",
              "      <td>0.000000</td>\n",
              "      <td>0.000000</td>\n",
              "      <td>0.000000</td>\n",
              "    </tr>\n",
              "    <tr>\n",
              "      <th>25%</th>\n",
              "      <td>0.250562</td>\n",
              "      <td>0.000000</td>\n",
              "      <td>0.500000</td>\n",
              "      <td>0.271174</td>\n",
              "      <td>0.000000</td>\n",
              "      <td>0.000000</td>\n",
              "      <td>0.015412</td>\n",
              "    </tr>\n",
              "    <tr>\n",
              "      <th>50%</th>\n",
              "      <td>0.500000</td>\n",
              "      <td>0.000000</td>\n",
              "      <td>1.000000</td>\n",
              "      <td>0.367921</td>\n",
              "      <td>0.000000</td>\n",
              "      <td>0.000000</td>\n",
              "      <td>0.028213</td>\n",
              "    </tr>\n",
              "    <tr>\n",
              "      <th>75%</th>\n",
              "      <td>0.749438</td>\n",
              "      <td>1.000000</td>\n",
              "      <td>1.000000</td>\n",
              "      <td>0.434531</td>\n",
              "      <td>0.125000</td>\n",
              "      <td>0.000000</td>\n",
              "      <td>0.060508</td>\n",
              "    </tr>\n",
              "    <tr>\n",
              "      <th>max</th>\n",
              "      <td>1.000000</td>\n",
              "      <td>1.000000</td>\n",
              "      <td>1.000000</td>\n",
              "      <td>1.000000</td>\n",
              "      <td>1.000000</td>\n",
              "      <td>1.000000</td>\n",
              "      <td>1.000000</td>\n",
              "    </tr>\n",
              "  </tbody>\n",
              "</table>\n",
              "</div>"
            ],
            "text/plain": [
              "       PassengerId    Survived      Pclass  ...       SibSp       Parch        Fare\n",
              "count   889.000000  889.000000  889.000000  ...  889.000000  889.000000  889.000000\n",
              "mean      0.500000    0.382452    0.655793  ...    0.065523    0.063742    0.062649\n",
              "std       0.288762    0.486260    0.417350  ...    0.137963    0.134460    0.097003\n",
              "min       0.000000    0.000000    0.000000  ...    0.000000    0.000000    0.000000\n",
              "25%       0.250562    0.000000    0.500000  ...    0.000000    0.000000    0.015412\n",
              "50%       0.500000    0.000000    1.000000  ...    0.000000    0.000000    0.028213\n",
              "75%       0.749438    1.000000    1.000000  ...    0.125000    0.000000    0.060508\n",
              "max       1.000000    1.000000    1.000000  ...    1.000000    1.000000    1.000000\n",
              "\n",
              "[8 rows x 7 columns]"
            ]
          },
          "metadata": {
            "tags": []
          },
          "execution_count": 243
        }
      ]
    },
    {
      "cell_type": "markdown",
      "metadata": {
        "id": "vp_99EWNTOu4",
        "colab_type": "text"
      },
      "source": [
        "### 4.3 Lable encoding or one hot encoding"
      ]
    },
    {
      "cell_type": "code",
      "metadata": {
        "id": "gSAJLHFzTTQY",
        "colab_type": "code",
        "outputId": "ae3c2e60-e23e-426d-8bf1-90987671c318",
        "colab": {
          "base_uri": "https://localhost:8080/",
          "height": 176
        }
      },
      "source": [
        "Titanic_X = Titanic_copy.drop('Survived', axis = 1)\n",
        "Titanic_Y = np.array(Titanic_copy['Survived'])\n",
        "# Using one hot encoding in Titanic and Adult dataset\n",
        "# Ref: https://www.geeksforgeeks.org/ml-one-hot-encoding-of-datasets-in-python/\n",
        "# creating one hot encoder object by default \n",
        "# entire data passed is one hot encoded \n",
        "\n",
        "Encoder = OneHotEncoder()\n",
        "Titanic_X = Encoder.fit_transform(Titanic_X).toarray()\n",
        "\n",
        "# from sklearn.preprocessing import LabelEncoder\n",
        "# for col in Titanic_X.select_dtypes(include='object').columns:\n",
        "#     le = LabelEncoder()\n",
        "#     Titanic_X[col] = le.fit_transform(Titanic_X[col].astype('str'))\n",
        "# Titanic_X=Titanic_X.values\n",
        "\n",
        "\n",
        "print(\"Titanic:\",Titanic_X)\n",
        "print(Titanic_X.shape)\n",
        "print(Titanic_Y.shape)"
      ],
      "execution_count": 244,
      "outputs": [
        {
          "output_type": "stream",
          "text": [
            "Titanic: [[1. 0. 0. ... 0. 0. 1.]\n",
            " [0. 1. 0. ... 1. 0. 0.]\n",
            " [0. 0. 1. ... 0. 0. 1.]\n",
            " ...\n",
            " [0. 0. 0. ... 0. 0. 1.]\n",
            " [0. 0. 0. ... 1. 0. 0.]\n",
            " [0. 0. 0. ... 0. 1. 0.]]\n",
            "(889, 2963)\n",
            "(889,)\n"
          ],
          "name": "stdout"
        }
      ]
    },
    {
      "cell_type": "markdown",
      "metadata": {
        "id": "CZGuHw67IS4o",
        "colab_type": "text"
      },
      "source": [
        "## 5. Supervised Learning\n",
        "### 5.1 Decision tree (cross-validation)\n",
        "### 5.2 Random forest (cross-validation)"
      ]
    },
    {
      "cell_type": "code",
      "metadata": {
        "id": "SVDdqq9m_5Uf",
        "colab_type": "code",
        "colab": {}
      },
      "source": [
        "# ## Ref: https://scikit-learn.org/stable/modules/generated/sklearn.model_selection.StratifiedKFold.html#\n",
        "\n",
        "# import numpy as np\n",
        "# from sklearn.model_selection import StratifiedKFold\n",
        "# # X = np.array([[1, 2], [3, 4], [5, 6], [7, 8], [9, 10], [11, 12]])\n",
        "# # y = np.array([0, 0, 0, 1, 1, 1])\n",
        "# skf = StratifiedKFold(n_splits=10)\n",
        "# skf.get_n_splits(Titanic_X, Titanic_Y)\n"
      ],
      "execution_count": 0,
      "outputs": []
    },
    {
      "cell_type": "code",
      "metadata": {
        "id": "ziGpq37XAG2n",
        "colab_type": "code",
        "colab": {}
      },
      "source": [
        "# print(skf)"
      ],
      "execution_count": 0,
      "outputs": []
    },
    {
      "cell_type": "code",
      "metadata": {
        "id": "r1ESydK6ASRU",
        "colab_type": "code",
        "colab": {}
      },
      "source": [
        "# for train_index, test_index in skf.split(Titanic_X, Titanic_Y):\n",
        "#   print(\"TRAIN:\", train_index, \"TEST:\", test_index)\n",
        "#   X_train, X_test = Titanic_X[train_index], Titanic_X[test_index]\n",
        "#   y_train, y_test = Titanic_Y[train_index], Titanic_Y[test_index]"
      ],
      "execution_count": 0,
      "outputs": []
    },
    {
      "cell_type": "code",
      "metadata": {
        "id": "U-a_ILqfIkzA",
        "colab_type": "code",
        "colab": {
          "base_uri": "https://localhost:8080/",
          "height": 903
        },
        "outputId": "ce06297d-b673-4849-f8ef-eec2bb5e9b9b"
      },
      "source": [
        "## Decision tree \n",
        "\n",
        "## Ref: https://www.kaggle.com/sudhirnl7/logistic-regression-with-stratifiedkfold\n",
        "## Ref: https://scikit-learn.org/stable/modules/generated/sklearn.model_selection.StratifiedKFold.html#\n",
        "#Import library\n",
        "from sklearn import tree\n",
        "from sklearn.metrics import confusion_matrix, roc_auc_score ,roc_curve,auc\n",
        "from sklearn.model_selection import StratifiedKFold\n",
        "\n",
        "Skf = StratifiedKFold(n_splits=10,shuffle=True,random_state=49)\n",
        "pred_test_full =0\n",
        "cv_scoreDT =[]\n",
        "i=1\n",
        "for train_index,test_index in Skf.split(Titanic_X,Titanic_Y):\n",
        "    print('{} of KFold {}'.format(i,Skf.n_splits))\n",
        "    x_tr,x_v = Titanic_X[train_index],Titanic_X[test_index]\n",
        "    y_tr,y_v = Titanic_Y[train_index],Titanic_Y[test_index]\n",
        "    \n",
        "    #model\n",
        "    modelDT = tree.DecisionTreeClassifier(criterion = \"entropy\",random_state=1)\n",
        "    # model = tree.DecisionTreeClassifier(max_depth=5,max_leaf_nodes=15, max_features=14, criterion = \"entropy\",random_state=1)\n",
        "    modelDT.fit(x_tr,y_tr)\n",
        "    scoreDT = roc_auc_score(y_v,modelDT.predict(x_v))\n",
        "    print('ROC AUC score:',scoreDT)\n",
        "    cv_scoreDT.append(scoreDT)\n",
        "    print('Confusion matrix\\n',confusion_matrix(y_v,modelDT.predict(x_v))) \n",
        "    i+=1 "
      ],
      "execution_count": 247,
      "outputs": [
        {
          "output_type": "stream",
          "text": [
            "1 of KFold 10\n",
            "ROC AUC score: 0.7283422459893047\n",
            "Confusion matrix\n",
            " [[51  4]\n",
            " [16 18]]\n",
            "2 of KFold 10\n",
            "ROC AUC score: 0.8754010695187165\n",
            "Confusion matrix\n",
            " [[51  4]\n",
            " [ 6 28]]\n",
            "3 of KFold 10\n",
            "ROC AUC score: 0.8312834224598931\n",
            "Confusion matrix\n",
            " [[51  4]\n",
            " [ 9 25]]\n",
            "4 of KFold 10\n",
            "ROC AUC score: 0.822192513368984\n",
            "Confusion matrix\n",
            " [[50  5]\n",
            " [ 9 25]]\n",
            "5 of KFold 10\n",
            "ROC AUC score: 0.6521390374331552\n",
            "Confusion matrix\n",
            " [[41 14]\n",
            " [15 19]]\n",
            "6 of KFold 10\n",
            "ROC AUC score: 0.7655080213903743\n",
            "Confusion matrix\n",
            " [[47  8]\n",
            " [11 23]]\n",
            "7 of KFold 10\n",
            "ROC AUC score: 0.7836898395721925\n",
            "Confusion matrix\n",
            " [[49  6]\n",
            " [11 23]]\n",
            "8 of KFold 10\n",
            "ROC AUC score: 0.8096256684491978\n",
            "Confusion matrix\n",
            " [[47  8]\n",
            " [ 8 26]]\n",
            "9 of KFold 10\n",
            "ROC AUC score: 0.7157754010695188\n",
            "Confusion matrix\n",
            " [[48  7]\n",
            " [15 19]]\n",
            "10 of KFold 10\n",
            "ROC AUC score: 0.769607843137255\n",
            "Confusion matrix\n",
            " [[45  9]\n",
            " [10 24]]\n"
          ],
          "name": "stdout"
        }
      ]
    },
    {
      "cell_type": "code",
      "metadata": {
        "id": "HUq3fEqskqe3",
        "colab_type": "code",
        "colab": {
          "base_uri": "https://localhost:8080/",
          "height": 72
        },
        "outputId": "f951b60e-f03d-4a01-81e4-e0191f32150c"
      },
      "source": [
        "print('Cv',cv_scoreDT,'\\nMean cv Score',np.mean(cv_scoreDT))"
      ],
      "execution_count": 248,
      "outputs": [
        {
          "output_type": "stream",
          "text": [
            "Cv [0.7283422459893047, 0.8754010695187165, 0.8312834224598931, 0.822192513368984, 0.6521390374331552, 0.7655080213903743, 0.7836898395721925, 0.8096256684491978, 0.7157754010695188, 0.769607843137255] \n",
            "Mean cv Score 0.7753565062388591\n"
          ],
          "name": "stdout"
        }
      ]
    },
    {
      "cell_type": "code",
      "metadata": {
        "id": "rD_uevDfoEFF",
        "colab_type": "code",
        "colab": {
          "base_uri": "https://localhost:8080/",
          "height": 903
        },
        "outputId": "496ff78e-a2cf-49a9-a673-af2d3ac035b0"
      },
      "source": [
        "## Random forest\n",
        "from sklearn.ensemble import RandomForestClassifier\n",
        "cv_scoreRF =[]\n",
        "i=1\n",
        "for train_index,test_index in Skf.split(Titanic_X,Titanic_Y):\n",
        "    print('{} of KFold {}'.format(i,Skf.n_splits))\n",
        "    x_tr,x_v = Titanic_X[train_index],Titanic_X[test_index]\n",
        "    y_tr,y_v = Titanic_Y[train_index],Titanic_Y[test_index]\n",
        "    \n",
        "    #model\n",
        "    modelRF = RandomForestClassifier(random_state=1)\n",
        "    modelRF.fit(x_tr,y_tr)\n",
        "    scoreRF = roc_auc_score(y_v,modelRF.predict(x_v))\n",
        "    print('ROC AUC score:',scoreRF)\n",
        "    cv_scoreRF.append(scoreRF)\n",
        "    print('Confusion matrix\\n',confusion_matrix(y_v,modelRF.predict(x_v)))\n",
        "    i+=1"
      ],
      "execution_count": 249,
      "outputs": [
        {
          "output_type": "stream",
          "text": [
            "1 of KFold 10\n",
            "ROC AUC score: 0.7430481283422459\n",
            "Confusion matrix\n",
            " [[51  4]\n",
            " [15 19]]\n",
            "2 of KFold 10\n",
            "ROC AUC score: 0.8494652406417113\n",
            "Confusion matrix\n",
            " [[53  2]\n",
            " [ 9 25]]\n",
            "3 of KFold 10\n",
            "ROC AUC score: 0.8347593582887701\n",
            "Confusion matrix\n",
            " [[53  2]\n",
            " [10 24]]\n",
            "4 of KFold 10\n",
            "ROC AUC score: 0.8256684491978611\n",
            "Confusion matrix\n",
            " [[52  3]\n",
            " [10 24]]\n",
            "5 of KFold 10\n",
            "ROC AUC score: 0.7101604278074866\n",
            "Confusion matrix\n",
            " [[49  6]\n",
            " [16 18]]\n",
            "6 of KFold 10\n",
            "ROC AUC score: 0.7577540106951872\n",
            "Confusion matrix\n",
            " [[51  4]\n",
            " [14 20]]\n",
            "7 of KFold 10\n",
            "ROC AUC score: 0.7430481283422459\n",
            "Confusion matrix\n",
            " [[51  4]\n",
            " [15 19]]\n",
            "8 of KFold 10\n",
            "ROC AUC score: 0.8697860962566843\n",
            "Confusion matrix\n",
            " [[52  3]\n",
            " [ 7 27]]\n",
            "9 of KFold 10\n",
            "ROC AUC score: 0.736096256684492\n",
            "Confusion matrix\n",
            " [[47  8]\n",
            " [13 21]]\n",
            "10 of KFold 10\n",
            "ROC AUC score: 0.7603485838779958\n",
            "Confusion matrix\n",
            " [[44 10]\n",
            " [10 24]]\n"
          ],
          "name": "stdout"
        }
      ]
    },
    {
      "cell_type": "code",
      "metadata": {
        "id": "7nGPNhpJs5fd",
        "colab_type": "code",
        "colab": {
          "base_uri": "https://localhost:8080/",
          "height": 72
        },
        "outputId": "2c4c760b-eb5c-4e7d-cd48-eabdaf26302e"
      },
      "source": [
        "print('Cv',cv_scoreRF,'\\nMean cv Score',np.mean(cv_scoreRF))"
      ],
      "execution_count": 250,
      "outputs": [
        {
          "output_type": "stream",
          "text": [
            "Cv [0.7430481283422459, 0.8494652406417113, 0.8347593582887701, 0.8256684491978611, 0.7101604278074866, 0.7577540106951872, 0.7430481283422459, 0.8697860962566843, 0.736096256684492, 0.7603485838779958] \n",
            "Mean cv Score 0.783013468013468\n"
          ],
          "name": "stdout"
        }
      ]
    },
    {
      "cell_type": "code",
      "metadata": {
        "id": "pDwoHrdGwijw",
        "colab_type": "code",
        "colab": {}
      },
      "source": [
        "## Do the grid search in decision tree and random forest ##"
      ],
      "execution_count": 0,
      "outputs": []
    },
    {
      "cell_type": "markdown",
      "metadata": {
        "id": "_Co-aghfwvrV",
        "colab_type": "text"
      },
      "source": [
        "## 6. Unsupervised Learning\n",
        "### 6.1  Using the Elbow method and the Silhouette method, identify the number of clusters in the dataset.\n",
        "### 6.2 K-mean method and save the information"
      ]
    },
    {
      "cell_type": "code",
      "metadata": {
        "id": "91ZUKKT-to1r",
        "colab_type": "code",
        "colab": {}
      },
      "source": [
        "# ## Elbow method (K-mean method) (stratified cross-validation)\n",
        "# ## Ref: https://www.kaggle.com/abhishekyadav5/kmeans-clustering-with-elbow-method-and-silhouette\n",
        "# from sklearn.cluster import KMeans\n",
        "# from sklearn.metrics import silhouette_samples, silhouette_score\n",
        "\n",
        "# score = []\n",
        "# for cluster in range(1,10):\n",
        "#     kmeans = KMeans(n_clusters = cluster, init=\"k-means++\", random_state=49)\n",
        "#     kmeans.fit(x_tr)\n",
        "#     score.append(kmeans.inertia_)\n",
        "\n",
        "# # plotting the score\n",
        "\n",
        "# plt.plot(range(1,10), score)\n",
        "# plt.title('The Elbow Method')\n",
        "# plt.xlabel('no of clusters')\n",
        "# plt.ylabel('wcss')\n",
        "# plt.show()"
      ],
      "execution_count": 0,
      "outputs": []
    },
    {
      "cell_type": "code",
      "metadata": {
        "id": "gSrHmN-ySqgd",
        "colab_type": "code",
        "colab": {
          "base_uri": "https://localhost:8080/",
          "height": 1000
        },
        "outputId": "8a78a0de-b7db-48ea-90ea-3deb30f77838"
      },
      "source": [
        "Skf = StratifiedKFold(n_splits=10,shuffle=True,random_state=49)\n",
        "pred_test_full =0\n",
        "cv_scoreDT =[]\n",
        "i=1\n",
        "for train_index,test_index in Skf.split(Titanic_X,Titanic_Y):\n",
        "    print('{} of KFold {}'.format(i,Skf.n_splits))\n",
        "    x_tr,x_v = Titanic_X[train_index],Titanic_X[test_index]\n",
        "    y_tr,y_v = Titanic_Y[train_index],Titanic_Y[test_index]\n",
        "\n",
        "    score = []\n",
        "    for cluster in range(1,11):\n",
        "        kmeans = KMeans(n_clusters = cluster, init=\"k-means++\", random_state=49)\n",
        "        kmeans.fit(x_tr)\n",
        "        score.append(kmeans.inertia_)\n",
        "\n",
        "    # plotting the score\n",
        "\n",
        "    plt.plot(range(1,11), score, 'g-o')\n",
        "    plt.title('The Elbow Method')\n",
        "    plt.xlabel('no of clusters')\n",
        "    plt.ylabel('wcss')\n",
        "    plt.show()\n",
        "    i+=1\n"
      ],
      "execution_count": 255,
      "outputs": [
        {
          "output_type": "stream",
          "text": [
            "1 of KFold 10\n"
          ],
          "name": "stdout"
        },
        {
          "output_type": "display_data",
          "data": {
            "image/png": "[encoded data removed]",
            "text/plain": [
              "<Figure size 432x288 with 1 Axes>"
            ]
          },
          "metadata": {
            "tags": [],
            "needs_background": "light"
          }
        },
        {
          "output_type": "stream",
          "text": [
            "2 of KFold 10\n"
          ],
          "name": "stdout"
        },
        {
          "output_type": "display_data",
          "data": {
            "image/png": "[encoded data removed]",
            "text/plain": [
              "<Figure size 432x288 with 1 Axes>"
            ]
          },
          "metadata": {
            "tags": [],
            "needs_background": "light"
          }
        },
        {
          "output_type": "stream",
          "text": [
            "3 of KFold 10\n"
          ],
          "name": "stdout"
        },
        {
          "output_type": "display_data",
          "data": {
            "image/png": "[encoded data removed]",
            "text/plain": [
              "<Figure size 432x288 with 1 Axes>"
            ]
          },
          "metadata": {
            "tags": [],
            "needs_background": "light"
          }
        },
        {
          "output_type": "stream",
          "text": [
            "4 of KFold 10\n"
          ],
          "name": "stdout"
        },
        {
          "output_type": "display_data",
          "data": {
            "image/png": "[encoded data removed]",
            "text/plain": [
              "<Figure size 432x288 with 1 Axes>"
            ]
          },
          "metadata": {
            "tags": [],
            "needs_background": "light"
          }
        },
        {
          "output_type": "stream",
          "text": [
            "5 of KFold 10\n"
          ],
          "name": "stdout"
        },
        {
          "output_type": "display_data",
          "data": {
            "image/png": "[encoded data removed]",
            "text/plain": [
              "<Figure size 432x288 with 1 Axes>"
            ]
          },
          "metadata": {
            "tags": [],
            "needs_background": "light"
          }
        },
        {
          "output_type": "stream",
          "text": [
            "6 of KFold 10\n"
          ],
          "name": "stdout"
        },
        {
          "output_type": "display_data",
          "data": {
            "image/png": "[encoded data removed]",
            "text/plain": [
              "<Figure size 432x288 with 1 Axes>"
            ]
          },
          "metadata": {
            "tags": [],
            "needs_background": "light"
          }
        },
        {
          "output_type": "stream",
          "text": [
            "7 of KFold 10\n"
          ],
          "name": "stdout"
        },
        {
          "output_type": "display_data",
          "data": {
            "image/png": "[encoded data removed]",
            "text/plain": [
              "<Figure size 432x288 with 1 Axes>"
            ]
          },
          "metadata": {
            "tags": [],
            "needs_background": "light"
          }
        },
        {
          "output_type": "stream",
          "text": [
            "8 of KFold 10\n"
          ],
          "name": "stdout"
        },
        {
          "output_type": "display_data",
          "data": {
            "image/png": "[encoded data removed]",
            "text/plain": [
              "<Figure size 432x288 with 1 Axes>"
            ]
          },
          "metadata": {
            "tags": [],
            "needs_background": "light"
          }
        },
        {
          "output_type": "stream",
          "text": [
            "9 of KFold 10\n"
          ],
          "name": "stdout"
        },
        {
          "output_type": "display_data",
          "data": {
            "image/png": "[encoded data removed]",
            "text/plain": [
              "<Figure size 432x288 with 1 Axes>"
            ]
          },
          "metadata": {
            "tags": [],
            "needs_background": "light"
          }
        },
        {
          "output_type": "stream",
          "text": [
            "10 of KFold 10\n"
          ],
          "name": "stdout"
        },
        {
          "output_type": "display_data",
          "data": {
            "image/png": "[encoded data removed]",
            "text/plain": [
              "<Figure size 432x288 with 1 Axes>"
            ]
          },
          "metadata": {
            "tags": [],
            "needs_background": "light"
          }
        }
      ]
    },
    {
      "cell_type": "code",
      "metadata": {
        "id": "2ZHjftMqPmAU",
        "colab_type": "code",
        "colab": {}
      },
      "source": [
        ""
      ],
      "execution_count": 0,
      "outputs": []
    }
  ]
}