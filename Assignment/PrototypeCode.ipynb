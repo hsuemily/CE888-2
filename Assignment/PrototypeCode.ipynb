{
  "nbformat": 4,
  "nbformat_minor": 0,
  "metadata": {
    "colab": {
      "name": "PrototypeCode-1900759.ipynb",
      "provenance": [],
      "authorship_tag": "ABX9TyMiCLqjBUVWB3DAakTDT2Sn",
      "include_colab_link": true
    },
    "kernelspec": {
      "name": "python3",
      "display_name": "Python 3"
    }
  },
  "cells": [
    {
      "cell_type": "markdown",
      "metadata": {
        "id": "view-in-github",
        "colab_type": "text"
      },
      "source": [
        "<a href=\"https://colab.research.google.com/github/hsuemily/CE888_Hsu-Chi-Rou_1900759/blob/master/Assignment/PrototypeCode.ipynb\" target=\"_parent\"><img src=\"https://colab.research.google.com/assets/colab-badge.svg\" alt=\"Open In Colab\"/></a>"
      ]
    },
    {
      "cell_type": "code",
      "metadata": {
        "id": "9jhOyt-wnqzk",
        "colab_type": "code",
        "colab": {}
      },
      "source": [
        "# Import library\n",
        "import matplotlib\n",
        "import numpy as np\n",
        "import matplotlib.pyplot as plt\n",
        "import pandas as pd\n",
        "import seaborn as sns"
      ],
      "execution_count": 0,
      "outputs": []
    },
    {
      "cell_type": "code",
      "metadata": {
        "id": "fmK4BGDPo8M3",
        "colab_type": "code",
        "colab": {}
      },
      "source": [
        "# Load data\n",
        "\n"
      ],
      "execution_count": 0,
      "outputs": []
    },
    {
      "cell_type": "code",
      "metadata": {
        "id": "aX2mj4SrpOjm",
        "colab_type": "code",
        "colab": {}
      },
      "source": [
        "# Data visulize"
      ],
      "execution_count": 0,
      "outputs": []
    }
  ]
}